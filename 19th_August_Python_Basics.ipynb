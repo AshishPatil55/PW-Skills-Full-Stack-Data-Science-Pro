{
 "cells": [
  {
   "cell_type": "markdown",
   "id": "6f52f0f0",
   "metadata": {},
   "source": [
    "# TOPIC: Python Basics Variable"
   ]
  },
  {
   "cell_type": "code",
   "execution_count": 11,
   "id": "5c52e62b",
   "metadata": {},
   "outputs": [
    {
     "name": "stdout",
     "output_type": "stream",
     "text": [
      "Before swapping operation:\n",
      "x= 10\n",
      "y= 20\n",
      "After swapping operation:\n",
      "x= 20\n",
      "y= 10\n"
     ]
    }
   ],
   "source": [
    "'''Q1. Declare two variables, `x` and `y`, and assign them integer values. Swap the\n",
    "values of these variables without using any temporary variable.'''\n",
    "\n",
    "#Declaring two variables \"x\" and \"y\" and assigning them values\n",
    "x=10\n",
    "y=20\n",
    "\n",
    "print(\"Before swapping operation:\")\n",
    "print(\"x=\",x)\n",
    "print(\"y=\",y)\n",
    "\n",
    "# Now Doing Swap operations without using any Temporary variable\n",
    "x,y=y,x \n",
    "\n",
    "# output after swapping\n",
    "print(\"After swapping operation:\")\n",
    "print(\"x=\",x)\n",
    "print(\"y=\",y)\n",
    "\n"
   ]
  },
  {
   "cell_type": "code",
   "execution_count": 16,
   "id": "edb133e3",
   "metadata": {},
   "outputs": [
    {
     "name": "stdout",
     "output_type": "stream",
     "text": [
      "Enter length of rectangle:10\n",
      "Enter width of rectangle:11\n",
      "Area of Rectangle is : 110.0\n"
     ]
    }
   ],
   "source": [
    "''''Q2. Create a program that calculates the area of a rectangle. Take the length and\n",
    "width as inputs from the user and store them in variables. Calculate and\n",
    "display the area.'''\n",
    "\n",
    "#Declaring two variables \"l\" as Length and \"w\" as Width and taking input from user\n",
    "l=float(input(\"Enter length of rectangle:\"))\n",
    "w=float(input(\"Enter width of rectangle:\"))\n",
    "\n",
    "#by applying formula of area of rectangle\n",
    "area=l*w\n",
    "\n",
    "print(\"Area of Rectangle is :\",area)"
   ]
  },
  {
   "cell_type": "code",
   "execution_count": 22,
   "id": "619c18a7",
   "metadata": {},
   "outputs": [
    {
     "name": "stdout",
     "output_type": "stream",
     "text": [
      "Enter Temperature in Celsius :10\n",
      "Temperature in Farenheit= 50.0\n"
     ]
    }
   ],
   "source": [
    "'''Q3. Write a Python program that converts temperatures from Celsius to\n",
    "Fahrenheit. Take the temperature in Celsius as input, store it in a variable,\n",
    "convert it to Fahrenheit, and display the result.'''\n",
    "\n",
    "\n",
    "#Taking input from user in Celsius\n",
    "c=float(input(\"Enter Temperature in Celsius :\"))\n",
    "\n",
    "#Applying Formula to convert Celsius into Farenheit\n",
    "f=c*(9/5)+32\n",
    "\n",
    "print(\"Temperature in Farenheit=\",f)\n"
   ]
  },
  {
   "cell_type": "markdown",
   "id": "4f7ab47c",
   "metadata": {},
   "source": [
    "# TOPIC: String Based Questions"
   ]
  },
  {
   "cell_type": "code",
   "execution_count": 12,
   "id": "c5d0a10f",
   "metadata": {},
   "outputs": [
    {
     "name": "stdout",
     "output_type": "stream",
     "text": [
      "Enter anything:My name is Ashish\n",
      "My name is Ashish\n"
     ]
    }
   ],
   "source": [
    "'''Q1. Write a Python program that takes a string as input and prints the length of\n",
    "the string.'''\n",
    "\n",
    "\n",
    "#Taking input from user\n",
    "s=input(\"Enter anything:\")\n",
    "\n",
    "#printing string\n",
    "print(s)\n"
   ]
  },
  {
   "cell_type": "code",
   "execution_count": 24,
   "id": "5b08205b",
   "metadata": {},
   "outputs": [
    {
     "name": "stdout",
     "output_type": "stream",
     "text": [
      "Enter any Sentence:my name is ashish dakle\n",
      "Numbers of vowels are:\n",
      "7\n"
     ]
    }
   ],
   "source": [
    "'''2. Create a program that takes a sentence from the user and counts the number\n",
    "of vowels (a, e, i, o, u) in the string.'''\n",
    "\n",
    "#Taking Input From User\n",
    "s1=input(\"Enter any Sentence:\")\n",
    "\n",
    "#Setting count as 0 as count increases if the vowel is found\n",
    "count=0 \n",
    "\n",
    "#using for loop to find the vowels in a strinng and then increasing the count by 1 if the vowel is found\n",
    "for var in s1:\n",
    "    if (var=='a' or var=='e' or var=='i' or var=='o' or var=='u'):\n",
    "        count=count+1\n",
    "print(\"Numbers of vowels are:\")\n",
    "print(count)\n"
   ]
  },
  {
   "cell_type": "code",
   "execution_count": 61,
   "id": "905a647e",
   "metadata": {},
   "outputs": [
    {
     "name": "stdout",
     "output_type": "stream",
     "text": [
      "Enter any word to reverse:ashish\n",
      "hsihsa\n"
     ]
    }
   ],
   "source": [
    "'''3. Given a string, reverse the order of characters using string slicing and print\n",
    "the reversed string.'''\n",
    "\n",
    "#Taking input from user\n",
    "s2=input(\"Enter any word to reverse:\")\n",
    "\n",
    "#printing reversed string by using slicing \n",
    "print(s2[::-1])\n"
   ]
  },
  {
   "cell_type": "code",
   "execution_count": 35,
   "id": "97568d74",
   "metadata": {},
   "outputs": [
    {
     "name": "stdout",
     "output_type": "stream",
     "text": [
      "Enter any word:level\n",
      "String is Palindrome \n"
     ]
    }
   ],
   "source": [
    "'''4. Write a program that takes a string as input and checks if it is a palindrome\n",
    "(reads the same forwards and backwards).'''\n",
    "\n",
    "#Taking input from user \n",
    "palin=input(\"Enter any word:\")\n",
    "\n",
    "#checking if the string is palindrome or not\n",
    "if palin[::]==palin[::-1]:\n",
    "    print(\"String is Palindrome \")\n",
    "else:\n",
    "    print(\"String is not palindrome\")"
   ]
  },
  {
   "cell_type": "code",
   "execution_count": 48,
   "id": "7a146589",
   "metadata": {},
   "outputs": [
    {
     "name": "stdout",
     "output_type": "stream",
     "text": [
      "Enter any sentence:my name is ashish\n",
      "mynameisashish\n"
     ]
    }
   ],
   "source": [
    "'''5. Create a program that takes a string as input and removes all the spaces from\n",
    "it. Print the modified string without spaces.'''\n",
    "\n",
    "#taking input from user \n",
    "s4=input(\"Enter any sentence:\")\n",
    "\n",
    "#replacing spaces with no spaces \n",
    "a=s4.replace(\" \",\"\")\n",
    "print(a)"
   ]
  }
 ],
 "metadata": {
  "kernelspec": {
   "display_name": "Python 3 (ipykernel)",
   "language": "python",
   "name": "python3"
  },
  "language_info": {
   "codemirror_mode": {
    "name": "ipython",
    "version": 3
   },
   "file_extension": ".py",
   "mimetype": "text/x-python",
   "name": "python",
   "nbconvert_exporter": "python",
   "pygments_lexer": "ipython3",
   "version": "3.10.9"
  }
 },
 "nbformat": 4,
 "nbformat_minor": 5
}
