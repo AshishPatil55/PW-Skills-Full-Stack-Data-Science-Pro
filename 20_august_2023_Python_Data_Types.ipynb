{
 "cells": [
  {
   "cell_type": "markdown",
   "id": "282feb1c",
   "metadata": {},
   "source": [
    "### **String based assignment problem :**"
   ]
  },
  {
   "cell_type": "markdown",
   "id": "4caf47d2",
   "metadata": {},
   "source": [
    "1. Write a program to reverse a string."
   ]
  },
  {
   "cell_type": "code",
   "execution_count": 4,
   "id": "81d33b00",
   "metadata": {},
   "outputs": [
    {
     "name": "stdout",
     "output_type": "stream",
     "text": [
      "Enter any String:ashish\n",
      "reversed string is: hsihsa\n"
     ]
    }
   ],
   "source": [
    "str1=input(\"Enter any String:\")\n",
    "s=str1[::-1]\n",
    "print(\"reversed string is:\",s)"
   ]
  },
  {
   "cell_type": "markdown",
   "id": "06fed23e",
   "metadata": {},
   "source": [
    "2. Check if a string is a palindrome."
   ]
  },
  {
   "cell_type": "code",
   "execution_count": 6,
   "id": "e5b35ff1",
   "metadata": {},
   "outputs": [
    {
     "name": "stdout",
     "output_type": "stream",
     "text": [
      "Enter any String:mom\n",
      "string is Palindrome:\n"
     ]
    }
   ],
   "source": [
    "str1=input(\"Enter any String:\")\n",
    "if str1[::1]==str1[::-1]:\n",
    "    print(\"string is Palindrome:\")\n",
    "else:\n",
    "    print(\"String is not Palindrome\")"
   ]
  },
  {
   "cell_type": "markdown",
   "id": "c55eabff",
   "metadata": {},
   "source": [
    "3. Convert a string to uppercase."
   ]
  },
  {
   "cell_type": "code",
   "execution_count": 9,
   "id": "8def308f",
   "metadata": {},
   "outputs": [
    {
     "name": "stdout",
     "output_type": "stream",
     "text": [
      "Enter any String:Ashish Dakle\n",
      "ASHISH DAKLE\n"
     ]
    }
   ],
   "source": [
    "str1=input(\"Enter any String:\")\n",
    "print(str1.upper())"
   ]
  },
  {
   "cell_type": "markdown",
   "id": "2c7fb13a",
   "metadata": {},
   "source": [
    "4. Convert a string to lowercase."
   ]
  },
  {
   "cell_type": "code",
   "execution_count": 10,
   "id": "30b2f02c",
   "metadata": {},
   "outputs": [
    {
     "name": "stdout",
     "output_type": "stream",
     "text": [
      "Enter any String:MY NAME IS ASHISH\n",
      "my name is ashish\n"
     ]
    }
   ],
   "source": [
    "str1=input(\"Enter any String:\")\n",
    "print(str1.lower())"
   ]
  },
  {
   "cell_type": "markdown",
   "id": "d9d39d19",
   "metadata": {},
   "source": [
    "5. Count the number of vowels in a string."
   ]
  },
  {
   "cell_type": "code",
   "execution_count": 11,
   "id": "6987a732",
   "metadata": {},
   "outputs": [
    {
     "name": "stdout",
     "output_type": "stream",
     "text": [
      "Enter String:HEY HOW ARE YOU\n",
      "Numbers of Vowels are: 6\n"
     ]
    }
   ],
   "source": [
    "s=input(\"Enter String:\")\n",
    "s=s.lower()\n",
    "count=0\n",
    "for i in s:\n",
    "    if i=='a' or i=='e' or i=='i' or i=='o' or i=='u':\n",
    "        count=count+1\n",
    "print(\"Numbers of Vowels are:\",count)\n"
   ]
  },
  {
   "cell_type": "markdown",
   "id": "b184021e",
   "metadata": {},
   "source": [
    "6. Count the number of consonants in a string."
   ]
  },
  {
   "cell_type": "code",
   "execution_count": 12,
   "id": "3be3ee53",
   "metadata": {},
   "outputs": [
    {
     "name": "stdout",
     "output_type": "stream",
     "text": [
      "Enter String:HELLO HOW ARE YOU\n",
      "Numbers of Consonants are: 7\n"
     ]
    }
   ],
   "source": [
    "s=input(\"Enter String:\")\n",
    "s=s.lower()\n",
    "count=0\n",
    "ccount=0\n",
    "for i in s:\n",
    "    if i=='a' or i=='e' or i=='i' or i=='o' or i=='u' or i==\" \":\n",
    "        count=count+1\n",
    "    else:\n",
    "        ccount=ccount+1\n",
    "print(\"Numbers of Consonants are:\",ccount)\n"
   ]
  },
  {
   "cell_type": "markdown",
   "id": "e806f465",
   "metadata": {},
   "source": [
    "7. Remove all whitespaces from a string."
   ]
  },
  {
   "cell_type": "code",
   "execution_count": 13,
   "id": "4d135bf8",
   "metadata": {},
   "outputs": [
    {
     "name": "stdout",
     "output_type": "stream",
     "text": [
      "Enter any String:THIS IS A BOOK\n",
      "String Without Whitespace: THISISABOOK\n"
     ]
    }
   ],
   "source": [
    "str1=input(\"Enter any String:\")\n",
    "result = \"\"\n",
    "for char in str1:\n",
    "    if char != \" \":\n",
    "        result += char\n",
    "print(\"String Without Whitespace:\",result)"
   ]
  },
  {
   "cell_type": "markdown",
   "id": "ff6df08f",
   "metadata": {},
   "source": [
    "8. Find the length of a string without using the `len()` function."
   ]
  },
  {
   "cell_type": "code",
   "execution_count": 14,
   "id": "77ec0384",
   "metadata": {},
   "outputs": [
    {
     "name": "stdout",
     "output_type": "stream",
     "text": [
      "Enter any String:Good Morning\n",
      "Length of String is: 12\n"
     ]
    }
   ],
   "source": [
    "s=input(\"Enter any String:\")\n",
    "count=0\n",
    "for i in s:\n",
    "    count=count+1\n",
    "print(\"Length of String is:\",count)\n"
   ]
  },
  {
   "cell_type": "markdown",
   "id": "d5ec4c97",
   "metadata": {},
   "source": [
    "9. Check if a string contains a specific word."
   ]
  },
  {
   "cell_type": "code",
   "execution_count": 15,
   "id": "e93f3fd0",
   "metadata": {},
   "outputs": [
    {
     "name": "stdout",
     "output_type": "stream",
     "text": [
      "Enter a String:Hello how are you\n",
      "Enter a specific word to Search for:you\n",
      "The string contains the word: you\n"
     ]
    }
   ],
   "source": [
    "input_str=input(\"Enter a String:\")\n",
    "s_str=input(\"Enter a specific word to Search for:\")\n",
    "\n",
    "if s_str in input_str:\n",
    "    print(\"The string contains the word:\",s_str)\n",
    "else:\n",
    "    print(\"The string does not contains the word:\",s_str)"
   ]
  },
  {
   "cell_type": "markdown",
   "id": "f726ec85",
   "metadata": {},
   "source": [
    "10. Replace a word in a string with another word."
   ]
  },
  {
   "cell_type": "code",
   "execution_count": 16,
   "id": "291b2848",
   "metadata": {},
   "outputs": [
    {
     "name": "stdout",
     "output_type": "stream",
     "text": [
      "Enter a String:My name is Ashish\n",
      "Enter a word you want to replace:Ashish\n",
      "Enter a word you want to replace with:Abhi\n",
      "Modified String: My name is Abhi\n"
     ]
    }
   ],
   "source": [
    "input_str=input(\"Enter a String:\")\n",
    "old_word=input(\"Enter a word you want to replace:\")\n",
    "new_word=input(\"Enter a word you want to replace with:\")\n",
    "\n",
    "modified_str=input_str.replace(old_word,new_word)\n",
    "\n",
    "print(\"Modified String:\",modified_str)"
   ]
  },
  {
   "cell_type": "markdown",
   "id": "0c677391",
   "metadata": {},
   "source": [
    "11. Count the occurrences of a word in a string."
   ]
  },
  {
   "cell_type": "code",
   "execution_count": 19,
   "id": "59a9119e",
   "metadata": {},
   "outputs": [
    {
     "name": "stdout",
     "output_type": "stream",
     "text": [
      "Enter any String:This is a Book . Reading Book is Good habit\n",
      "Enter word to find its occurance:Book\n",
      "The word 'Book' appears 2 times in the input string.\n"
     ]
    }
   ],
   "source": [
    "str1=input(\"Enter any String:\")\n",
    "target_word=input(\"Enter word to find its occurance:\")\n",
    "count=0\n",
    "word=str1.split()\n",
    "for val in word:\n",
    "    if val==target_word:\n",
    "        count=count+1\n",
    "print(f\"The word '{target_word}' appears {count} times in the input string.\")"
   ]
  },
  {
   "cell_type": "markdown",
   "id": "206189c5",
   "metadata": {},
   "source": [
    "12. Find the first occurrence of a word in a string."
   ]
  },
  {
   "cell_type": "code",
   "execution_count": 20,
   "id": "a71d14ed",
   "metadata": {},
   "outputs": [
    {
     "name": "stdout",
     "output_type": "stream",
     "text": [
      "Enter any String:this is a book . book is simple\n",
      "Enter word to find its index:book\n",
      "Index of first occurance is 10\n"
     ]
    }
   ],
   "source": [
    "str1=input(\"Enter any String:\")\n",
    "word=input(\"Enter word to find its index:\")\n",
    "index=str1.find(word)\n",
    "if index==-1:\n",
    "    print(\"Word is not Found\")\n",
    "else:\n",
    "    print(\"Index of first occurance is\",index)"
   ]
  },
  {
   "cell_type": "markdown",
   "id": "126ae507",
   "metadata": {},
   "source": [
    "13. Find the last occurrence of a word in a string."
   ]
  },
  {
   "cell_type": "code",
   "execution_count": 21,
   "id": "a534bc95",
   "metadata": {},
   "outputs": [
    {
     "name": "stdout",
     "output_type": "stream",
     "text": [
      "Enter any String:This is a Book . Reading Book is Good habit\n",
      "Enter word to find its index:Book\n",
      "Index of Last occurance is 25\n"
     ]
    }
   ],
   "source": [
    "str1=input(\"Enter any String:\")\n",
    "word=input(\"Enter word to find its index:\")\n",
    "index=str1.rfind(word)\n",
    "if index==-1:\n",
    "    print(\"Word is not Found\")\n",
    "else:\n",
    "    print(\"Index of Last occurance is\",index)"
   ]
  },
  {
   "cell_type": "markdown",
   "id": "451ba478",
   "metadata": {},
   "source": [
    "14. Split a string into a list of words."
   ]
  },
  {
   "cell_type": "code",
   "execution_count": 22,
   "id": "a223cc85",
   "metadata": {},
   "outputs": [
    {
     "name": "stdout",
     "output_type": "stream",
     "text": [
      "Enter any String:THIS IS A BOOK\n",
      "['THIS', 'IS', 'A', 'BOOK']\n"
     ]
    }
   ],
   "source": [
    "str1=input(\"Enter any String:\")\n",
    "lst=str1.split()\n",
    "print(lst)"
   ]
  },
  {
   "cell_type": "markdown",
   "id": "d9422411",
   "metadata": {},
   "source": [
    "15. Join a list of words into a string."
   ]
  },
  {
   "cell_type": "code",
   "execution_count": 27,
   "id": "0310a503",
   "metadata": {},
   "outputs": [
    {
     "name": "stdout",
     "output_type": "stream",
     "text": [
      "Joined String: This is a List of words\n"
     ]
    }
   ],
   "source": [
    "l=[\"This\",'is','a','List','of','words']\n",
    "join=' '.join(l)\n",
    "print(\"Joined String:\",join)"
   ]
  },
  {
   "cell_type": "markdown",
   "id": "2abb7b8c",
   "metadata": {},
   "source": [
    "16. Convert a string where words are separated by spaces to one where words are separated by underscores."
   ]
  },
  {
   "cell_type": "code",
   "execution_count": 29,
   "id": "513965eb",
   "metadata": {},
   "outputs": [
    {
     "name": "stdout",
     "output_type": "stream",
     "text": [
      "Enter any String:This is a Book\n",
      "Updated Text: This_is_a_Book\n"
     ]
    }
   ],
   "source": [
    "str1=input(\"Enter any String:\")\n",
    "print(\"Updated Text:\",str1.replace(\" \",\"_\"))\n"
   ]
  },
  {
   "cell_type": "markdown",
   "id": "f5df3b37",
   "metadata": {},
   "source": [
    "17. Check if a string starts with a specific word or phrase."
   ]
  },
  {
   "cell_type": "code",
   "execution_count": 32,
   "id": "f8402d80",
   "metadata": {},
   "outputs": [
    {
     "name": "stdout",
     "output_type": "stream",
     "text": [
      "The text start with the prefix\n"
     ]
    }
   ],
   "source": [
    "str1=(\"Hello Good Morninhg\")\n",
    "prefix=(\"Hello\")\n",
    "if str1.startswith(prefix):\n",
    "    print(\"The text start with the prefix\")\n",
    "else:\n",
    "    print(\"The text doen't start with the prefix\")"
   ]
  },
  {
   "cell_type": "markdown",
   "id": "d75a9495",
   "metadata": {},
   "source": [
    "18. Check if a string ends with a specific word or phrase."
   ]
  },
  {
   "cell_type": "code",
   "execution_count": 35,
   "id": "fb78334b",
   "metadata": {},
   "outputs": [
    {
     "name": "stdout",
     "output_type": "stream",
     "text": [
      "The text ends with the prefix\n"
     ]
    }
   ],
   "source": [
    "str1=(\"Hello Good Morning\")\n",
    "prefix=(\"Morning\")\n",
    "if str1.endswith(prefix):\n",
    "    print(\"The text ends with the prefix\")\n",
    "else:\n",
    "    print(\"The text doen't ends with the prefix\")"
   ]
  },
  {
   "cell_type": "markdown",
   "id": "4beb8185",
   "metadata": {},
   "source": [
    "19.Convert a string to title case (e.g., \"hello world\" to \"Hello World\")."
   ]
  },
  {
   "cell_type": "code",
   "execution_count": 38,
   "id": "5846a3c2",
   "metadata": {},
   "outputs": [
    {
     "name": "stdout",
     "output_type": "stream",
     "text": [
      "Title Case Result: Hello Good Morning\n"
     ]
    }
   ],
   "source": [
    "str1=(\"Hello good morning\")\n",
    "print(\"Title Case Result:\",str1.title())"
   ]
  },
  {
   "cell_type": "markdown",
   "id": "5910ee36",
   "metadata": {},
   "source": [
    "20. Find the longest word in a string."
   ]
  },
  {
   "cell_type": "code",
   "execution_count": 39,
   "id": "800eee9d",
   "metadata": {},
   "outputs": [
    {
     "name": "stdout",
     "output_type": "stream",
     "text": [
      "Enter String:there is a book and notebook\n",
      "longest word is: notebook\n"
     ]
    }
   ],
   "source": [
    "str1=input(\"Enter String:\")\n",
    "words=str1.split()\n",
    "max_len=0\n",
    "for word in words:\n",
    "    if len(word)>max_len:\n",
    "        max_len=len(word)\n",
    "        long_word=word\n",
    "print(\"longest word is:\",long_word)\n"
   ]
  },
  {
   "cell_type": "markdown",
   "id": "6915a06c",
   "metadata": {},
   "source": [
    "21. Find the shortest word in a string."
   ]
  },
  {
   "cell_type": "code",
   "execution_count": 41,
   "id": "d02bf1cf",
   "metadata": {},
   "outputs": [
    {
     "name": "stdout",
     "output_type": "stream",
     "text": [
      "Enter String:this is a book\n",
      "Shortest word is: a\n"
     ]
    }
   ],
   "source": [
    "str1=input(\"Enter String:\")\n",
    "words=str1.split()\n",
    "shortest_word=None\n",
    "min_len=float('inf')\n",
    "for word in words:\n",
    "    if len(word)<min_len:\n",
    "        min_len=len(word)\n",
    "        shortest_word=word\n",
    "print(\"Shortest word is:\",shortest_word)\n"
   ]
  },
  {
   "cell_type": "markdown",
   "id": "9831a2bc",
   "metadata": {},
   "source": [
    "22. Reverse the order of words in a string."
   ]
  },
  {
   "cell_type": "code",
   "execution_count": 49,
   "id": "2a295c74",
   "metadata": {},
   "outputs": [
    {
     "name": "stdout",
     "output_type": "stream",
     "text": [
      "Enter String:this is a book\n",
      "book a is this\n"
     ]
    }
   ],
   "source": [
    "str1=input(\"Enter String:\")\n",
    "words=str1.split()\n",
    "rev_string=' '.join(reversed(words))\n",
    "print(rev_string)"
   ]
  },
  {
   "cell_type": "markdown",
   "id": "579ea076",
   "metadata": {},
   "source": [
    "23. Check if a string is alphanumeric."
   ]
  },
  {
   "cell_type": "code",
   "execution_count": 57,
   "id": "3b8efd20",
   "metadata": {},
   "outputs": [
    {
     "name": "stdout",
     "output_type": "stream",
     "text": [
      "Enter String:book123\n",
      "String is Alphanumeric\n"
     ]
    }
   ],
   "source": [
    "str1=input(\"Enter String:\")\n",
    "if str1.isalnum()==True:\n",
    "    print(\"String is Alphanumeric\")\n",
    "else:\n",
    "    print(\"String is not Alphanumeric\")"
   ]
  },
  {
   "cell_type": "markdown",
   "id": "cf7e11e4",
   "metadata": {},
   "source": [
    "24. Extract all digits from a string."
   ]
  },
  {
   "cell_type": "code",
   "execution_count": 60,
   "id": "7f564bf0",
   "metadata": {},
   "outputs": [
    {
     "name": "stdout",
     "output_type": "stream",
     "text": [
      "Enter String:book12and34\n",
      "Digits in String are: 1234\n"
     ]
    }
   ],
   "source": [
    "str1=input(\"Enter String:\")\n",
    "digits=\"\"\n",
    "for char in str1:\n",
    "        if char.isdigit():\n",
    "            digits += char\n",
    "print(\"Digits in String are:\",digits)"
   ]
  },
  {
   "cell_type": "markdown",
   "id": "f356cba7",
   "metadata": {},
   "source": [
    "25. Extract all alphabets from a string."
   ]
  },
  {
   "cell_type": "code",
   "execution_count": 65,
   "id": "56b840c4",
   "metadata": {},
   "outputs": [
    {
     "name": "stdout",
     "output_type": "stream",
     "text": [
      "Enter String:this is a book 1123\n",
      "Alphabets in String are: thisisabook\n"
     ]
    }
   ],
   "source": [
    "str1=input(\"Enter String:\")\n",
    "digits=\"\"\n",
    "for char in str1:\n",
    "        if char.isalpha():\n",
    "            digits += char\n",
    "print(\"Alphabets in String are:\",digits)"
   ]
  },
  {
   "cell_type": "markdown",
   "id": "ea642767",
   "metadata": {},
   "source": [
    "26. Count the number of uppercase letters in a string."
   ]
  },
  {
   "cell_type": "code",
   "execution_count": 70,
   "id": "2a0c6b94",
   "metadata": {},
   "outputs": [
    {
     "name": "stdout",
     "output_type": "stream",
     "text": [
      "Enter String:HelloWorld\n",
      "Uppercase letters in String are: 2\n"
     ]
    }
   ],
   "source": [
    "str1=input(\"Enter String:\")\n",
    "count=0\n",
    "for char in str1:\n",
    "        if char.isupper():\n",
    "            count=count+1\n",
    "print(\"Uppercase letters in String are:\",count)"
   ]
  },
  {
   "cell_type": "markdown",
   "id": "fb3385f8",
   "metadata": {},
   "source": [
    "27. Count the number of lowercase letters in a string."
   ]
  },
  {
   "cell_type": "code",
   "execution_count": 71,
   "id": "0231ff32",
   "metadata": {},
   "outputs": [
    {
     "name": "stdout",
     "output_type": "stream",
     "text": [
      "Enter String:This is a book\n",
      "Lowercase letters in String are: 10\n"
     ]
    }
   ],
   "source": [
    "str1=input(\"Enter String:\")\n",
    "count=0\n",
    "for char in str1:\n",
    "        if char.islower():\n",
    "            count=count+1\n",
    "print(\"Lowercase letters in String are:\",count)"
   ]
  },
  {
   "cell_type": "markdown",
   "id": "618487f9",
   "metadata": {},
   "source": [
    "28. Swap the case of each character in a string."
   ]
  },
  {
   "cell_type": "code",
   "execution_count": 72,
   "id": "b6eb51fd",
   "metadata": {},
   "outputs": [
    {
     "name": "stdout",
     "output_type": "stream",
     "text": [
      "Enter String:ThIs Is A BoOk\n",
      "Swapcase String is: tHiS iS a bOoK\n"
     ]
    }
   ],
   "source": [
    "str1=input(\"Enter String:\")\n",
    "swapcase=str1.swapcase()\n",
    "print(\"Swapcase String is:\",swapcase)"
   ]
  },
  {
   "cell_type": "markdown",
   "id": "82405d42",
   "metadata": {},
   "source": [
    "29. Remove a specific word from a string."
   ]
  },
  {
   "cell_type": "code",
   "execution_count": 76,
   "id": "2ef87551",
   "metadata": {},
   "outputs": [
    {
     "name": "stdout",
     "output_type": "stream",
     "text": [
      "Enter String:this is a string\n",
      "Enter word to Remove:is\n",
      "Modified String is : this a string\n"
     ]
    }
   ],
   "source": [
    "str1=input(\"Enter String:\")\n",
    "r_word=input(\"Enter word to Remove:\")\n",
    "words=str1.split()\n",
    "filter_word=[word for word in words if word != r_word]\n",
    "modified_str=' '.join(filter_word)\n",
    "print(\"Modified String is :\",modified_str)"
   ]
  },
  {
   "cell_type": "markdown",
   "id": "6610646c",
   "metadata": {},
   "source": [
    "30. Check if a string is a valid email address."
   ]
  },
  {
   "cell_type": "code",
   "execution_count": 87,
   "id": "a241d4db",
   "metadata": {},
   "outputs": [
    {
     "name": "stdout",
     "output_type": "stream",
     "text": [
      "Enter email id:adakle00@gmail.com\n",
      "Email is Valid\n"
     ]
    }
   ],
   "source": [
    "import re  # Import the regular expression module\n",
    "email =input(\"Enter email id:\")\n",
    "pattern = r'^[\\w\\.-]+@[\\w\\.-]+\\.\\w+$'  # Regular expression pattern for a basic email validation\n",
    "if re.match(pattern, email):\n",
    "    print(\"Email is Valid\")\n",
    "else:\n",
    "    print(\"Email is not Valid\")"
   ]
  },
  {
   "cell_type": "markdown",
   "id": "2922ea57",
   "metadata": {},
   "source": [
    "31. Extract the username from an email address string."
   ]
  },
  {
   "cell_type": "code",
   "execution_count": 89,
   "id": "90f92aec",
   "metadata": {},
   "outputs": [
    {
     "name": "stdout",
     "output_type": "stream",
     "text": [
      "Enter email id:adakle00@gmail.com\n",
      "Username is: adakle00\n"
     ]
    }
   ],
   "source": [
    "email =input(\"Enter email id:\")\n",
    "s=email.split('@')\n",
    "print(\"Username is:\",s[0])"
   ]
  },
  {
   "cell_type": "markdown",
   "id": "b4b71371",
   "metadata": {},
   "source": [
    "31. Extract the domainname from an email address string."
   ]
  },
  {
   "cell_type": "code",
   "execution_count": 91,
   "id": "2c4a8c94",
   "metadata": {},
   "outputs": [
    {
     "name": "stdout",
     "output_type": "stream",
     "text": [
      "Enter email id:ashishdakle.sit.comp@gmail.com\n",
      "Domainame is: gmail.com\n"
     ]
    }
   ],
   "source": [
    "email =input(\"Enter email id:\")\n",
    "s=email.split('@')\n",
    "print(\"Domainame is:\",s[1])"
   ]
  },
  {
   "cell_type": "markdown",
   "id": "e3b151e3",
   "metadata": {},
   "source": [
    "33. Replace multiple spaces in a string with a single space."
   ]
  },
  {
   "cell_type": "code",
   "execution_count": 94,
   "id": "a4773734",
   "metadata": {},
   "outputs": [
    {
     "name": "stdout",
     "output_type": "stream",
     "text": [
      "Enter String:This is a data     Science   class\n",
      "This is a data Science class\n"
     ]
    }
   ],
   "source": [
    "str1=input(\"Enter String:\")\n",
    "new_str=\" \".join(str1.split())\n",
    "print(new_str)"
   ]
  },
  {
   "cell_type": "markdown",
   "id": "c5f1165b",
   "metadata": {},
   "source": [
    "34. Check if a string is a valid URL."
   ]
  },
  {
   "cell_type": "code",
   "execution_count": 98,
   "id": "19ae0827",
   "metadata": {},
   "outputs": [
    {
     "name": "stdout",
     "output_type": "stream",
     "text": [
      "True\n",
      "False\n"
     ]
    }
   ],
   "source": [
    "from urllib.parse import urlparse\n",
    "\n",
    "def is_valid_url(url):\n",
    "    try:\n",
    "        result = urlparse(url)\n",
    "        return all([result.scheme, result.netloc])  # Check if both scheme and netloc are present\n",
    "    except ValueError:\n",
    "        return False\n",
    "\n",
    "# Example URLs\n",
    "url1 = \"https://www.example.com\"\n",
    "url2 = \"invalid-url\"\n",
    "result1 = is_valid_url(url1)\n",
    "result2 = is_valid_url(url2)\n",
    "print(result1)  \n",
    "print(result2)  "
   ]
  },
  {
   "cell_type": "markdown",
   "id": "9ebf87ad",
   "metadata": {},
   "source": [
    "35. Extract the protocol (http or https) from a URL string."
   ]
  },
  {
   "cell_type": "code",
   "execution_count": 102,
   "id": "6f79f270",
   "metadata": {},
   "outputs": [
    {
     "name": "stdout",
     "output_type": "stream",
     "text": [
      "Enter valid url:\"https://www.example.com\"\n",
      "https\n"
     ]
    }
   ],
   "source": [
    "url=input(\"Enter valid url:\")\n",
    "a=url.split(\":\")[0]\n",
    "b=a[1:len(a)]\n",
    "print(b)"
   ]
  },
  {
   "cell_type": "markdown",
   "id": "53ea312a",
   "metadata": {},
   "source": [
    "36. Find the frequency of each character in a string."
   ]
  },
  {
   "cell_type": "code",
   "execution_count": 115,
   "id": "5db690d2",
   "metadata": {},
   "outputs": [
    {
     "name": "stdout",
     "output_type": "stream",
     "text": [
      "Enter String:ashish\n",
      "{'a': 1, 's': 2, 'h': 2, 'i': 1}\n"
     ]
    }
   ],
   "source": [
    "str1=input(\"Enter String:\")\n",
    "freq={}\n",
    "for char in str1:\n",
    "    if char in freq:\n",
    "        freq[char]+=1\n",
    "    else:\n",
    "        freq[char]=1\n",
    "print(\"{}\".format(freq))"
   ]
  },
  {
   "cell_type": "markdown",
   "id": "5891b7dd",
   "metadata": {},
   "source": [
    "37. Remove all punctuation from a string."
   ]
  },
  {
   "cell_type": "code",
   "execution_count": 116,
   "id": "bcffeec7",
   "metadata": {},
   "outputs": [
    {
     "name": "stdout",
     "output_type": "stream",
     "text": [
      "Original string: Hello, world! How's it going?\n",
      "Cleaned string: Hello world Hows it going\n"
     ]
    }
   ],
   "source": [
    "import string\n",
    "\n",
    "def remove_punctuation(input_string):\n",
    "    # Create a translation table to remove punctuation\n",
    "    translator = str.maketrans(\"\", \"\", string.punctuation)\n",
    "\n",
    "    # Use the translation table to remove punctuation from the input string\n",
    "    clean_string = input_string.translate(translator)\n",
    "\n",
    "    return clean_string\n",
    "\n",
    "input_str = \"Hello, world! How's it going?\"\n",
    "cleaned_str = remove_punctuation(input_str)\n",
    "\n",
    "print(\"Original string:\", input_str)\n",
    "print(\"Cleaned string:\", cleaned_str)"
   ]
  },
  {
   "cell_type": "markdown",
   "id": "bb23048d",
   "metadata": {},
   "source": [
    "38. Check if a string contains only digits."
   ]
  },
  {
   "cell_type": "code",
   "execution_count": 119,
   "id": "a90934a5",
   "metadata": {},
   "outputs": [
    {
     "name": "stdout",
     "output_type": "stream",
     "text": [
      "Enter string:123456\n",
      "String contains only Digits\n"
     ]
    }
   ],
   "source": [
    "str1=input(\"Enter string:\")\n",
    "if str1.isdigit():\n",
    "    print(\"String contains only Digits\")\n",
    "else:\n",
    "    print(\"String doesn't contains only Digits\")"
   ]
  },
  {
   "cell_type": "markdown",
   "id": "fbebdae2",
   "metadata": {},
   "source": [
    "38. Check if a string contains only Alphabets."
   ]
  },
  {
   "cell_type": "code",
   "execution_count": 121,
   "id": "3f14a58d",
   "metadata": {},
   "outputs": [
    {
     "name": "stdout",
     "output_type": "stream",
     "text": [
      "Enter string:ashihs\n",
      "String contains only Alphabets\n"
     ]
    }
   ],
   "source": [
    "str1=input(\"Enter string:\")\n",
    "if str1.isalpha():\n",
    "    print(\"String contains only Alphabets\")\n",
    "else:\n",
    "    print(\"String doesn't contains only Alphabets\")"
   ]
  },
  {
   "cell_type": "markdown",
   "id": "68acf487",
   "metadata": {},
   "source": [
    "40. Convert a string to a list of characters."
   ]
  },
  {
   "cell_type": "code",
   "execution_count": 123,
   "id": "7741bac2",
   "metadata": {},
   "outputs": [
    {
     "name": "stdout",
     "output_type": "stream",
     "text": [
      "Enter string:Ashihs Dakle\n",
      "List of Characters: ['A', 's', 'h', 'i', 'h', 's', ' ', 'D', 'a', 'k', 'l', 'e']\n"
     ]
    }
   ],
   "source": [
    "str1=input(\"Enter string:\")\n",
    "print(\"List of Characters:\",list(str1))\n"
   ]
  },
  {
   "cell_type": "markdown",
   "id": "050bfb98",
   "metadata": {},
   "source": [
    " 41. Check if two strings are anagrams."
   ]
  },
  {
   "cell_type": "code",
   "execution_count": 130,
   "id": "b1dca23c",
   "metadata": {},
   "outputs": [
    {
     "name": "stdout",
     "output_type": "stream",
     "text": [
      "Enter string:silent\n",
      "Enter string:listen\n",
      "'silent' and 'listen' are anagrams\n"
     ]
    }
   ],
   "source": [
    "str1=input(\"Enter string:\")\n",
    "str2=input(\"Enter string:\")\n",
    "str1=str1.replace(\" \",\"\").lower()\n",
    "str2=str2.replace(\" \",\"\").lower()\n",
    "if sorted(str1)==sorted(str2):\n",
    "    print(\"'{}' and '{}' are anagrams\".format(str1,str2))\n",
    "else:\n",
    "    print(\"'{}' and '{}' are not anagrams\".format(str1,str2))"
   ]
  },
  {
   "cell_type": "markdown",
   "id": "9b37d4db",
   "metadata": {},
   "source": [
    "42. Encode a string using a Caesar cipher.\n",
    "\n",
    "A Caesar cipher is a simple encryption technique where each letter in \n",
    "the plaintext is shifted a certain number of places down or up the\n",
    "alphabet. Here's a Python code snippet to encode a string using a\n",
    "Caesar cipher:"
   ]
  },
  {
   "cell_type": "code",
   "execution_count": 131,
   "id": "e73969d5",
   "metadata": {},
   "outputs": [
    {
     "name": "stdout",
     "output_type": "stream",
     "text": [
      "Encoded text: ehoor, zruog!\n"
     ]
    }
   ],
   "source": [
    "# Define a function named caesar_cipher that encodes a string using a Caesar cipher.\n",
    "def caesar_cipher(text, shift):\n",
    "  \"\"\"\n",
    "  Encodes a string using a Caesar cipher.\n",
    "\n",
    "  Args:\n",
    "    text: The string to encode.\n",
    "    shift: The number of positions to shift each letter.\n",
    "\n",
    "  Returns:\n",
    "    The encoded string.\n",
    "  \"\"\"\n",
    "\n",
    "  # Initialize an empty string to store the encoded text.\n",
    "  encoded_text = \"\"\n",
    "\n",
    "  # Iterate through each character in the input text.\n",
    "  for char in text:\n",
    "    # Check if the character is alphabetic.\n",
    "    if char.isalpha():\n",
    "      # Calculate the encoded character's Unicode code point value by shifting it by the specified amount.\n",
    "      # Ensure the value wraps around within the lowercase alphabet range (a-z).\n",
    "      encoded_char = chr((ord(char) + shift - ord('a')) % 26 + ord('a'))\n",
    "    else:\n",
    "      # Keep non-alphabetic characters unchanged.\n",
    "      encoded_char = char\n",
    "\n",
    "    # Add the encoded character to the encoded text.\n",
    "    encoded_text += encoded_char\n",
    "\n",
    "  # Return the resulting encoded text.\n",
    "  return encoded_text\n",
    "\n",
    "# Define the input text and the shift value for encoding.\n",
    "text = \"Hello, world!\"\n",
    "shift = 3\n",
    "\n",
    "# Call the caesar_cipher function to encode the text using the specified shift.\n",
    "encoded_text = caesar_cipher(text, shift)\n",
    "\n",
    "# Print the encoded text.\n",
    "print(\"Encoded text:\", encoded_text)"
   ]
  },
  {
   "cell_type": "markdown",
   "id": "fb0e4665",
   "metadata": {},
   "source": [
    "43. Decode a Caesar cipher encoded string."
   ]
  },
  {
   "cell_type": "code",
   "execution_count": 134,
   "id": "907f5ac2",
   "metadata": {},
   "outputs": [
    {
     "name": "stdout",
     "output_type": "stream",
     "text": [
      "Decoded text: hello, world!\n"
     ]
    }
   ],
   "source": [
    "# Define a function to decode a string using a Caesar cipher\n",
    "def caesar_cipher_decoder(text, shift):\n",
    "    \"\"\"\n",
    "    Decodes a string using a Caesar cipher.\n",
    "\n",
    "    Args:\n",
    "        text: The string to decode.\n",
    "        shift: The number of positions to shift each letter.\n",
    "\n",
    "    Returns:\n",
    "        The decoded string.\n",
    "    \"\"\"\n",
    "\n",
    "    # Initialize an empty string to store the decoded text\n",
    "    decoded_text = \"\"\n",
    "\n",
    "    # Loop through each character in the input text\n",
    "    for char in text:\n",
    "        # Check if the character is an alphabetic character\n",
    "        if char.isalpha():\n",
    "            # Calculate the decoded character using the shift value\n",
    "            decoded_char = chr((ord(char) - shift - ord('a')) % 26 + ord('a'))\n",
    "        else:\n",
    "            # If the character is not alphabetic, keep it unchanged\n",
    "            decoded_char = char\n",
    "\n",
    "        # Add the decoded character to the decoded text\n",
    "        decoded_text += decoded_char\n",
    "\n",
    "    # Return the fully decoded text\n",
    "    return decoded_text\n",
    "\n",
    "# Example input\n",
    "text = \"khoor, zruog!\"\n",
    "shift = 3\n",
    "\n",
    "# Call the caesar_cipher_decoder function to decode the input text\n",
    "decoded_text = caesar_cipher_decoder(text, shift)\n",
    "\n",
    "# Print the decoded text\n",
    "print(\"Decoded text:\", decoded_text)"
   ]
  },
  {
   "cell_type": "markdown",
   "id": "a48645b3",
   "metadata": {},
   "source": [
    "44. Find the most frequent word in a string."
   ]
  },
  {
   "cell_type": "code",
   "execution_count": 138,
   "id": "0a7b8c1c",
   "metadata": {},
   "outputs": [
    {
     "name": "stdout",
     "output_type": "stream",
     "text": [
      "Most frequent word: hello\n"
     ]
    }
   ],
   "source": [
    "import re\n",
    "from collections import Counter\n",
    "\n",
    "def most_frequent_word(input_string):\n",
    "    # Remove punctuation and convert to lowercase\n",
    "    clean_string = re.sub(r'[^\\w\\s]', '', input_string).lower()\n",
    "\n",
    "    # Split the string into words\n",
    "    words = clean_string.split()\n",
    "\n",
    "    # Use Counter to count word frequencies\n",
    "    word_counter = Counter(words)\n",
    "\n",
    "    # Find the most common word\n",
    "    most_common_word = word_counter.most_common(1)[0][0]\n",
    "\n",
    "    return most_common_word\n",
    "\n",
    "# Example string\n",
    "input_str = \"Hello world, hello there! How's the world?\"\n",
    "\n",
    "# Find the most frequent word\n",
    "most_common = most_frequent_word(input_str)\n",
    "\n",
    "# Print the result\n",
    "print(\"Most frequent word:\", most_common)"
   ]
  },
  {
   "cell_type": "markdown",
   "id": "3f387072",
   "metadata": {},
   "source": [
    "45. Find all unique words in a string."
   ]
  },
  {
   "cell_type": "code",
   "execution_count": 141,
   "id": "ecd87ffb",
   "metadata": {},
   "outputs": [
    {
     "name": "stdout",
     "output_type": "stream",
     "text": [
      "Enter String:this is a book and i love reading this book\n",
      "unique words are: {'this', 'a', 'book', 'love', 'is', 'reading', 'i', 'and'}\n"
     ]
    }
   ],
   "source": [
    "str1=input(\"Enter String:\")\n",
    "clean_string = re.sub(r'[^\\w\\s]', '', str1).lower()\n",
    "words=set(str1.split())\n",
    "print(\"unique words are:\",words)"
   ]
  },
  {
   "cell_type": "markdown",
   "id": "acda2587",
   "metadata": {},
   "source": [
    "46. Count the number of syllables in a string."
   ]
  },
  {
   "cell_type": "code",
   "execution_count": 144,
   "id": "bce18b69",
   "metadata": {},
   "outputs": [
    {
     "name": "stdout",
     "output_type": "stream",
     "text": [
      "Enter String:hello\n",
      "'hello'has '2' syllables\n"
     ]
    }
   ],
   "source": [
    "str1=input(\"Enter String:\")\n",
    "count=0\n",
    "vowels='aeiouy'\n",
    "for char in str1:\n",
    "    if char in vowels:\n",
    "        count= count+1\n",
    "print(\"'{}'has '{}' syllables\".format(str1,count))"
   ]
  },
  {
   "cell_type": "markdown",
   "id": "b584c3f9",
   "metadata": {},
   "source": [
    "47. Check if a string contains any special characters."
   ]
  },
  {
   "cell_type": "code",
   "execution_count": 181,
   "id": "2a980823",
   "metadata": {},
   "outputs": [
    {
     "name": "stdout",
     "output_type": "stream",
     "text": [
      "Enter any stringthis is a book!\n",
      "'this is a book!' contains special characters: True\n"
     ]
    }
   ],
   "source": [
    "import re\n",
    "\n",
    "def contains_special_characters(input_string):\n",
    "    # Define a regular expression pattern to match special characters\n",
    "    pattern = re.compile(r'[!@#$%^&*()_+{}\\[\\]:;<>,.?~\\\\/]')\n",
    "\n",
    "    # Use the search() method to find a match\n",
    "    match = pattern.search(input_string)\n",
    "\n",
    "    # Return True if a match is found, False otherwise\n",
    "    return bool(match)\n",
    "input_string=input(\"Enter any string\")\n",
    "result1 = contains_special_characters(input_string)\n",
    "print(f\"'{input_string}' contains special characters:\", result1)"
   ]
  },
  {
   "cell_type": "markdown",
   "id": "0a0ce1ca",
   "metadata": {},
   "source": [
    "48. Remove the nth word from a string."
   ]
  },
  {
   "cell_type": "code",
   "execution_count": 190,
   "id": "84b6ba3c",
   "metadata": {},
   "outputs": [
    {
     "name": "stdout",
     "output_type": "stream",
     "text": [
      "Enter string:this is a book\n",
      "Enter number of element to be removed:3\n",
      "updated String is: this is book\n"
     ]
    }
   ],
   "source": [
    "def remove_word(str1,n):\n",
    "    words=str1.split()\n",
    "    if n>=1 and n<=len(words):\n",
    "        remove_word=words.pop(n-1)\n",
    "        modified_str=' '.join(words)\n",
    "        return modified_str\n",
    "    else:\n",
    "        return None\n",
    "st1=input(\"Enter string:\")\n",
    "n=int(input(\"Enter number of element to be removed:\"))\n",
    "res=remove_word(str1,n)\n",
    "print(\"updated String is:\",res)"
   ]
  },
  {
   "cell_type": "markdown",
   "id": "697e7648",
   "metadata": {},
   "source": [
    "49. Insert the word at nth position in a string."
   ]
  },
  {
   "cell_type": "code",
   "execution_count": 199,
   "id": "5874858a",
   "metadata": {},
   "outputs": [
    {
     "name": "stdout",
     "output_type": "stream",
     "text": [
      "Enter any String:this is a book\n",
      "Enter word to insert:not\n",
      "Enter index to insert element:2\n",
      "String after Insertion is: this is not a book\n"
     ]
    }
   ],
   "source": [
    "def insert_word(str1,word,n):\n",
    "    words=str1.split()\n",
    "    if n>=0 and n<=len(words):\n",
    "        updated_string=words.insert(n,word)\n",
    "        str2=' '.join(words)\n",
    "        \n",
    "        return str2\n",
    "        \n",
    "str1=input(\"Enter any String:\")\n",
    "word=input(\"Enter word to insert:\")\n",
    "n=int(input(\"Enter index to insert element:\"))\n",
    "res=insert_word(str1,word,n)\n",
    "print(\"String after Insertion is:\",res)"
   ]
  },
  {
   "cell_type": "markdown",
   "id": "9486a9b4",
   "metadata": {},
   "source": [
    "50. Convert a CSV string to a list of lists."
   ]
  },
  {
   "cell_type": "code",
   "execution_count": 200,
   "id": "bc55b591",
   "metadata": {},
   "outputs": [
    {
     "name": "stdout",
     "output_type": "stream",
     "text": [
      "['Name', ' Age', ' Country']\n",
      "['John', ' 25', ' USA']\n",
      "['Alice', ' 30', ' Canada']\n",
      "['Bob', ' 22', ' UK']\n"
     ]
    }
   ],
   "source": [
    "def csv_string_to_list(csv_string):\n",
    "    # Split the CSV string into lines\n",
    "    lines = csv_string.split('\\n')\n",
    "\n",
    "    # Initialize an empty list to store the result\n",
    "    result = []\n",
    "\n",
    "    for line in lines:\n",
    "        # Split each line into fields using comma as the delimiter\n",
    "        fields = line.split(',')\n",
    "\n",
    "        # Append the fields to the result list as a row\n",
    "        result.append(fields)\n",
    "\n",
    "    return result\n",
    "\n",
    "# Example CSV string\n",
    "csv_data = \"Name, Age, Country\\nJohn, 25, USA\\nAlice, 30, Canada\\nBob, 22, UK\"\n",
    "\n",
    "list_of_lists = csv_string_to_list(csv_data)\n",
    "\n",
    "# Print the result\n",
    "for row in list_of_lists:\n",
    "    print(row)"
   ]
  },
  {
   "cell_type": "markdown",
   "id": "d02e304a",
   "metadata": {},
   "source": [
    "# List Based Practice Questions: "
   ]
  },
  {
   "cell_type": "markdown",
   "id": "a4aaabae",
   "metadata": {},
   "source": [
    "1. Create a list with integers from 1 to 10."
   ]
  },
  {
   "cell_type": "code",
   "execution_count": 202,
   "id": "2ade883a",
   "metadata": {},
   "outputs": [
    {
     "name": "stdout",
     "output_type": "stream",
     "text": [
      "[1, 2, 3, 4, 5, 6, 7, 8, 9, 10]\n"
     ]
    }
   ],
   "source": [
    "l=[]\n",
    "for i in range(1,11):\n",
    "    l.append(i)\n",
    "print(l)"
   ]
  },
  {
   "cell_type": "markdown",
   "id": "a36eaf6e",
   "metadata": {},
   "source": [
    "2. Find the length of a list without using the `len()` function."
   ]
  },
  {
   "cell_type": "code",
   "execution_count": 203,
   "id": "a85e6858",
   "metadata": {},
   "outputs": [
    {
     "name": "stdout",
     "output_type": "stream",
     "text": [
      "Length of List is: 7\n"
     ]
    }
   ],
   "source": [
    "def custom_len(lst):\n",
    "    count=0\n",
    "    for i in lst:\n",
    "        count=count+1\n",
    "    return count\n",
    "        \n",
    "lst=[10,20,30,40,50,60,70]\n",
    "res=custom_len(lst)\n",
    "print(\"Length of List is:\",res)"
   ]
  },
  {
   "cell_type": "markdown",
   "id": "cba4b28e",
   "metadata": {},
   "source": [
    "3. Append an element to the end of a list."
   ]
  },
  {
   "cell_type": "code",
   "execution_count": 207,
   "id": "760c613b",
   "metadata": {},
   "outputs": [
    {
     "name": "stdout",
     "output_type": "stream",
     "text": [
      "Updated List is: [10, 20, 30, 40]\n"
     ]
    }
   ],
   "source": [
    "lst=[10,20,30]\n",
    "new_ele=40\n",
    "lst.append(new_ele)\n",
    "print(\"Updated List is:\",lst)"
   ]
  },
  {
   "cell_type": "markdown",
   "id": "326e9eb6",
   "metadata": {},
   "source": [
    "4. Insert an element at a specific index in a list."
   ]
  },
  {
   "cell_type": "code",
   "execution_count": 210,
   "id": "095ae7bb",
   "metadata": {},
   "outputs": [
    {
     "name": "stdout",
     "output_type": "stream",
     "text": [
      "Updated list is: [10, 20, 25, 30, 40, 50, 60]\n"
     ]
    }
   ],
   "source": [
    "lst=[10,20,30,40,50,60]\n",
    "insert=25\n",
    "index=2\n",
    "lst.insert(index,insert)\n",
    "print(\"Updated list is:\",lst)"
   ]
  },
  {
   "cell_type": "markdown",
   "id": "ef2e4fd3",
   "metadata": {},
   "source": [
    "5. Remove an element from a list by its value."
   ]
  },
  {
   "cell_type": "code",
   "execution_count": 211,
   "id": "75651320",
   "metadata": {},
   "outputs": [
    {
     "name": "stdout",
     "output_type": "stream",
     "text": [
      "Updated list is [10, 20, 40, 50, 60]\n"
     ]
    }
   ],
   "source": [
    "lst=[10,20,30,40,50,60]\n",
    "remove_ele=30\n",
    "lst.remove(remove_ele)\n",
    "print(\"Updated list is\",lst)"
   ]
  },
  {
   "cell_type": "markdown",
   "id": "65d8b44c",
   "metadata": {},
   "source": [
    "6. Remove an element from a list by its index."
   ]
  },
  {
   "cell_type": "code",
   "execution_count": 212,
   "id": "8476e5ae",
   "metadata": {},
   "outputs": [
    {
     "name": "stdout",
     "output_type": "stream",
     "text": [
      "Updated list is [10, 20, 30, 50, 60]\n"
     ]
    }
   ],
   "source": [
    "lst=[10,20,30,40,50,60]\n",
    "remove_ele_ind=3\n",
    "lst.pop(remove_ele_ind)\n",
    "print(\"Updated list is\",lst)"
   ]
  },
  {
   "cell_type": "markdown",
   "id": "53c5b527",
   "metadata": {},
   "source": [
    "7. Check if an element exists in a list."
   ]
  },
  {
   "cell_type": "code",
   "execution_count": 213,
   "id": "e8aa5360",
   "metadata": {},
   "outputs": [
    {
     "name": "stdout",
     "output_type": "stream",
     "text": [
      "30 exist in List\n"
     ]
    }
   ],
   "source": [
    "lst=[10,20,30,40,50,60]\n",
    "check_ele=30\n",
    "if check_ele in lst:\n",
    "    print(\"{} exist in List\".format(check_ele))\n",
    "else:\n",
    "    print(\"{}  does not exist in List\".format(check_ele))\n",
    "    "
   ]
  },
  {
   "cell_type": "markdown",
   "id": "ebd83758",
   "metadata": {},
   "source": [
    "8. Find the index of the first occurrence of an element in a list."
   ]
  },
  {
   "cell_type": "code",
   "execution_count": 214,
   "id": "d99c75f9",
   "metadata": {},
   "outputs": [
    {
     "name": "stdout",
     "output_type": "stream",
     "text": [
      "Index of First Occurance is: 2\n"
     ]
    }
   ],
   "source": [
    "lst=[10,20,30,40,50,60,70,80,30]\n",
    "check_ele=30\n",
    "check=lst.index(check_ele)\n",
    "print(\"Index of First Occurance is:\",check)"
   ]
  },
  {
   "cell_type": "markdown",
   "id": "d58aed3c",
   "metadata": {},
   "source": [
    "9. Count the occurrences of an element in a list."
   ]
  },
  {
   "cell_type": "code",
   "execution_count": 220,
   "id": "8e8caab0",
   "metadata": {},
   "outputs": [
    {
     "name": "stdout",
     "output_type": "stream",
     "text": [
      "The Element 30 Occurs 2 times in List\n"
     ]
    }
   ],
   "source": [
    "lst=[10,20,30,40,50,60,70,80,30]\n",
    "check_ele=30\n",
    "count=lst.count(check_ele)\n",
    "print(\"The Element {} Occurs {} times in List\".format(check_ele,count))"
   ]
  },
  {
   "cell_type": "markdown",
   "id": "779d553a",
   "metadata": {},
   "source": [
    "10. Reverse the order of elements in a list."
   ]
  },
  {
   "cell_type": "code",
   "execution_count": 221,
   "id": "3589f8b8",
   "metadata": {},
   "outputs": [
    {
     "name": "stdout",
     "output_type": "stream",
     "text": [
      "Reverse order is: [80, 70, 60, 50, 40, 30, 20, 10]\n"
     ]
    }
   ],
   "source": [
    "lst=[10,20,30,40,50,60,70,80,]\n",
    "s=lst[::-1]\n",
    "print(\"Reverse order is:\",s)"
   ]
  },
  {
   "cell_type": "markdown",
   "id": "97695cf4",
   "metadata": {},
   "source": [
    "11. Sort a list in ascending order."
   ]
  },
  {
   "cell_type": "code",
   "execution_count": 224,
   "id": "b2e24117",
   "metadata": {},
   "outputs": [
    {
     "name": "stdout",
     "output_type": "stream",
     "text": [
      "Sorted List is: [5, 7, 10, 20, 40, 50, 70, 80]\n"
     ]
    }
   ],
   "source": [
    "lst=[80,20,40,50,70,10,5,7]\n",
    "lst.sort()\n",
    "print(\"Sorted List is:\",lst)"
   ]
  },
  {
   "cell_type": "markdown",
   "id": "415de66e",
   "metadata": {},
   "source": [
    "12. Sort a list in descending order."
   ]
  },
  {
   "cell_type": "code",
   "execution_count": 226,
   "id": "17dfb418",
   "metadata": {},
   "outputs": [
    {
     "name": "stdout",
     "output_type": "stream",
     "text": [
      "Sorted List is: [80, 70, 50, 40, 20, 10, 7, 5]\n"
     ]
    }
   ],
   "source": [
    "lst=[80,20,40,50,70,10,5,7]\n",
    "lst.sort(reverse=True)\n",
    "print(\"Sorted List is:\",lst)"
   ]
  },
  {
   "cell_type": "markdown",
   "id": "e32be1f8",
   "metadata": {},
   "source": [
    "13. Create a list of even numbers from 1 to 20."
   ]
  },
  {
   "cell_type": "code",
   "execution_count": 228,
   "id": "4a364e45",
   "metadata": {},
   "outputs": [
    {
     "name": "stdout",
     "output_type": "stream",
     "text": [
      "Even Numbers are: [2, 4, 6, 8, 10, 12, 14, 16, 18, 20]\n"
     ]
    }
   ],
   "source": [
    "even_lst=[x for x in range(2,21,2)]\n",
    "print(\"Even Numbers are:\",even_lst)"
   ]
  },
  {
   "cell_type": "markdown",
   "id": "3801db3a",
   "metadata": {},
   "source": [
    "14. Create a list of odd numbers from 1 to 20."
   ]
  },
  {
   "cell_type": "code",
   "execution_count": 231,
   "id": "1648ae3d",
   "metadata": {},
   "outputs": [
    {
     "name": "stdout",
     "output_type": "stream",
     "text": [
      "Odd Numbers are: [1, 3, 5, 7, 9, 11, 13, 15, 17, 19]\n"
     ]
    }
   ],
   "source": [
    "odd_lst=[x for x in range(1,21,2)]\n",
    "print(\"Odd Numbers are:\",odd_lst)"
   ]
  },
  {
   "cell_type": "markdown",
   "id": "fd6f5c92",
   "metadata": {},
   "source": [
    "15. Find the sum of all elements in a list."
   ]
  },
  {
   "cell_type": "code",
   "execution_count": 233,
   "id": "e824226f",
   "metadata": {},
   "outputs": [
    {
     "name": "stdout",
     "output_type": "stream",
     "text": [
      "Sum of all Elements is: 450\n"
     ]
    }
   ],
   "source": [
    "lst=[10,20,30,40,50,60,70,80,90]\n",
    "tsum=sum(lst)\n",
    "print(\"Sum of all Elements is:\",tsum)\n"
   ]
  },
  {
   "cell_type": "markdown",
   "id": "bcfe6d3a",
   "metadata": {},
   "source": [
    "16. Find the maximum value in a list."
   ]
  },
  {
   "cell_type": "code",
   "execution_count": 234,
   "id": "bfd46265",
   "metadata": {},
   "outputs": [
    {
     "name": "stdout",
     "output_type": "stream",
     "text": [
      "Max Element is: 90\n"
     ]
    }
   ],
   "source": [
    "lst=[10,30,50,70,90,20,40,60]\n",
    "lst=max(lst)\n",
    "print(\"Max Element is:\",lst)"
   ]
  },
  {
   "cell_type": "markdown",
   "id": "f2328a0e",
   "metadata": {},
   "source": [
    "17. Find the minimum value in a list."
   ]
  },
  {
   "cell_type": "code",
   "execution_count": 235,
   "id": "782349fb",
   "metadata": {},
   "outputs": [
    {
     "name": "stdout",
     "output_type": "stream",
     "text": [
      "Min Element is: 10\n"
     ]
    }
   ],
   "source": [
    "lst=[10,30,50,70,90,20,40,60]\n",
    "lst=min(lst)\n",
    "print(\"Min Element is:\",lst)"
   ]
  },
  {
   "cell_type": "markdown",
   "id": "7a5550f5",
   "metadata": {},
   "source": [
    "18. Create a list of squares of numbers from 1 to 10."
   ]
  },
  {
   "cell_type": "code",
   "execution_count": 238,
   "id": "645eeeee",
   "metadata": {},
   "outputs": [
    {
     "name": "stdout",
     "output_type": "stream",
     "text": [
      "List of Squares: [1, 4, 9, 16, 25, 36, 49, 64, 81, 100]\n"
     ]
    }
   ],
   "source": [
    "lst=[x**2 for x in range(1,11)]\n",
    "print(\"List of Squares:\",lst)"
   ]
  },
  {
   "cell_type": "markdown",
   "id": "37924bdf",
   "metadata": {},
   "source": [
    "19. Create a list of random numbers."
   ]
  },
  {
   "cell_type": "code",
   "execution_count": 239,
   "id": "5da2e389",
   "metadata": {},
   "outputs": [
    {
     "name": "stdout",
     "output_type": "stream",
     "text": [
      "[7, 98, 94, 78, 88, 32, 8, 46, 92, 23]\n"
     ]
    }
   ],
   "source": [
    "import random\n",
    "random_int=[random.randint(1,100) for _ in range(10)]\n",
    "print(random_int)"
   ]
  },
  {
   "cell_type": "markdown",
   "id": "2b335c5c",
   "metadata": {},
   "source": [
    "20. Remove duplicates from a list."
   ]
  },
  {
   "cell_type": "code",
   "execution_count": 241,
   "id": "77f6cb92",
   "metadata": {},
   "outputs": [
    {
     "name": "stdout",
     "output_type": "stream",
     "text": [
      "List without duplicate: [5, 6, 7, 40, 10, 20, 30]\n"
     ]
    }
   ],
   "source": [
    "my_list=[10,20,30,40,20,5,6,7,6,5]\n",
    "lst=list(set(my_list))\n",
    "print(\"List without duplicate:\",lst)"
   ]
  },
  {
   "cell_type": "code",
   "execution_count": null,
   "id": "017b3d14",
   "metadata": {},
   "outputs": [],
   "source": [
    "21. Find the common elements between two lists."
   ]
  },
  {
   "cell_type": "code",
   "execution_count": 243,
   "id": "e8298572",
   "metadata": {},
   "outputs": [
    {
     "name": "stdout",
     "output_type": "stream",
     "text": [
      "Common Element is: [30]\n"
     ]
    }
   ],
   "source": [
    "lst1=[10,20,30,40,50,60,70]\n",
    "lst2=[5,15,25,30,45,55,65]\n",
    "common=list(set(lst1).intersection(lst2))\n",
    "print(\"Common Element is:\",common)\n"
   ]
  },
  {
   "cell_type": "markdown",
   "id": "6e8090d0",
   "metadata": {},
   "source": [
    "22. Find the difference between two lists."
   ]
  },
  {
   "cell_type": "code",
   "execution_count": 245,
   "id": "b87747b0",
   "metadata": {},
   "outputs": [
    {
     "name": "stdout",
     "output_type": "stream",
     "text": [
      "Difference is: [50, 70, 10, 60]\n"
     ]
    }
   ],
   "source": [
    "lst1=[10,20,30,40,50,60,70]\n",
    "lst2=[5,15,20,30,40,45,65]\n",
    "difference=list(set(lst1).difference(lst2))\n",
    "print(\"Difference is:\",difference)"
   ]
  },
  {
   "cell_type": "code",
   "execution_count": null,
   "id": "e60d7d5b",
   "metadata": {},
   "outputs": [],
   "source": [
    "23. Merge two lists."
   ]
  },
  {
   "cell_type": "code",
   "execution_count": 246,
   "id": "e952ab6e",
   "metadata": {},
   "outputs": [
    {
     "name": "stdout",
     "output_type": "stream",
     "text": [
      "Merged List is: [10, 20, 30, 40, 50, 60, 70, 5, 15, 25, 35]\n"
     ]
    }
   ],
   "source": [
    "lst1=[10,20,30,40,50,60,70]\n",
    "lst2=[5,15,25,35]\n",
    "merged_list=lst1+lst2\n",
    "print(\"Merged List is:\",merged_list)"
   ]
  },
  {
   "cell_type": "markdown",
   "id": "26d15527",
   "metadata": {},
   "source": [
    "24. Multiply all elements in a list by 2."
   ]
  },
  {
   "cell_type": "code",
   "execution_count": 247,
   "id": "50038b08",
   "metadata": {},
   "outputs": [
    {
     "name": "stdout",
     "output_type": "stream",
     "text": [
      "Multiplication of list is [20, 40, 60, 80, 100, 120, 140]\n"
     ]
    }
   ],
   "source": [
    "lst1=[10,20,30,40,50,60,70]\n",
    "mul_list=[x*2 for x in lst1]\n",
    "print(\"Multiplication of list is\",mul_list)\n"
   ]
  },
  {
   "cell_type": "markdown",
   "id": "a8d61da6",
   "metadata": {},
   "source": [
    "25. Filter out all even numbers from a list."
   ]
  },
  {
   "cell_type": "code",
   "execution_count": 261,
   "id": "eae68ea0",
   "metadata": {},
   "outputs": [
    {
     "name": "stdout",
     "output_type": "stream",
     "text": [
      "[10, 20, 30, 40, 50]\n"
     ]
    }
   ],
   "source": [
    "lst1=[5,10,15,20,25,30,35,40,50,]\n",
    "filter_lst=[]\n",
    "for i in lst1:\n",
    "    if i%2==0:\n",
    "        filter_lst.append(i)\n",
    "print(filter_lst)"
   ]
  },
  {
   "cell_type": "markdown",
   "id": "d0ecc5bf",
   "metadata": {},
   "source": [
    "26. Convert a list of strings to a list of integers."
   ]
  },
  {
   "cell_type": "code",
   "execution_count": 264,
   "id": "e4957472",
   "metadata": {},
   "outputs": [
    {
     "name": "stdout",
     "output_type": "stream",
     "text": [
      "[10, 20, 30, 40, 50]\n",
      "<class 'list'>\n"
     ]
    }
   ],
   "source": [
    "lst=[\"10\",\"20\",\"30\",\"40\",\"50\"]\n",
    "converted_lst=[int(x) for x in lst]\n",
    "print(converted_lst)\n",
    "print(type(converted_lst))"
   ]
  },
  {
   "cell_type": "markdown",
   "id": "ce992669",
   "metadata": {},
   "source": [
    "27. Convert a list of integers to a list of strings."
   ]
  },
  {
   "cell_type": "code",
   "execution_count": 265,
   "id": "6a5d2eb2",
   "metadata": {},
   "outputs": [
    {
     "name": "stdout",
     "output_type": "stream",
     "text": [
      "['10', '20', '30', '40', '50', '60']\n"
     ]
    }
   ],
   "source": [
    "lst=[10,20,30,40,50,60]\n",
    "con_lst=[str(x) for x in lst]\n",
    "print(con_lst)"
   ]
  },
  {
   "cell_type": "code",
   "execution_count": null,
   "id": "eb8a649f",
   "metadata": {},
   "outputs": [],
   "source": [
    "28. Flatten a nested list."
   ]
  },
  {
   "cell_type": "code",
   "execution_count": 267,
   "id": "08e19927",
   "metadata": {},
   "outputs": [
    {
     "name": "stdout",
     "output_type": "stream",
     "text": [
      "[1, 2, 3, 4, 5, 6, 7, 8, 9]\n"
     ]
    }
   ],
   "source": [
    "nested_lst=[[1,2,3],[4,5,6],[7,8,9]]\n",
    "flatten=[]\n",
    "for sub in nested_lst:\n",
    "    for num in sub:\n",
    "        flatten.append(num)\n",
    "print(flatten)\n"
   ]
  },
  {
   "cell_type": "markdown",
   "id": "70d5365c",
   "metadata": {},
   "source": [
    "29. Create a list of the first 10 Fibonacci numbers."
   ]
  },
  {
   "cell_type": "code",
   "execution_count": 3,
   "id": "9b6a7e92",
   "metadata": {},
   "outputs": [
    {
     "name": "stdout",
     "output_type": "stream",
     "text": [
      "[0, 1, 1, 2, 3, 5, 8, 13, 21, 34]\n"
     ]
    }
   ],
   "source": [
    "def fib(n):\n",
    "    a,b=0,1\n",
    "    result=[]\n",
    "    for i in range(n):\n",
    "        result.append(a)\n",
    "        a,b=b,a+b\n",
    "    return result\n",
    "print(fib(10))"
   ]
  },
  {
   "cell_type": "markdown",
   "id": "f81b36ca",
   "metadata": {},
   "source": [
    "30. Check if a list is sorted."
   ]
  },
  {
   "cell_type": "code",
   "execution_count": 10,
   "id": "16e7a2ef",
   "metadata": {},
   "outputs": [
    {
     "name": "stdout",
     "output_type": "stream",
     "text": [
      "list is sorted\n"
     ]
    }
   ],
   "source": [
    "lst=[10,20,30,40,50]\n",
    "if lst==sorted(lst):\n",
    "    print(\"list is sorted\")\n",
    "else:\n",
    "    print(\"List is not sorted\")"
   ]
  },
  {
   "cell_type": "markdown",
   "id": "41428f38",
   "metadata": {},
   "source": [
    "31. Rotate a list to the left by `n` positions."
   ]
  },
  {
   "cell_type": "code",
   "execution_count": 15,
   "id": "43f26a8a",
   "metadata": {},
   "outputs": [
    {
     "name": "stdout",
     "output_type": "stream",
     "text": [
      "left Rotated List: [30, 40, 50, 60, 10, 20]\n"
     ]
    }
   ],
   "source": [
    "# Function to rotate a list to the left by n positions\n",
    "lst=[10,20,30,40,50,60]\n",
    "n=2\n",
    "rotate=lst[n:]+lst[:n]\n",
    "print(\"left Rotated List:\",rotate)"
   ]
  },
  {
   "cell_type": "markdown",
   "id": "236f5ffa",
   "metadata": {},
   "source": [
    "32. Rotate a list to the right by `n` positions."
   ]
  },
  {
   "cell_type": "code",
   "execution_count": 18,
   "id": "6774bdef",
   "metadata": {},
   "outputs": [
    {
     "name": "stdout",
     "output_type": "stream",
     "text": [
      "Right Rotated List: [50, 60, 10, 20, 30, 40]\n"
     ]
    }
   ],
   "source": [
    "lst=[10,20,30,40,50,60]\n",
    "n=2\n",
    "r_rotate=lst[-n:]+lst[:-n]\n",
    "print(\"Right Rotated List:\",r_rotate)"
   ]
  },
  {
   "cell_type": "markdown",
   "id": "8c2d0212",
   "metadata": {},
   "source": [
    "33. Create a list of prime numbers up to 50."
   ]
  },
  {
   "cell_type": "code",
   "execution_count": 5,
   "id": "67a8ea8d",
   "metadata": {},
   "outputs": [
    {
     "name": "stdout",
     "output_type": "stream",
     "text": [
      "Prime Numbers are: [2, 3, 5, 7, 11, 13, 17, 19, 23, 29, 31, 37, 41, 43, 47]\n"
     ]
    }
   ],
   "source": [
    "def prime_num(n):\n",
    "    primes=[]\n",
    "    for i in range(2,n+1):\n",
    "        for j in range(2,i):\n",
    "            if i%j==0:\n",
    "                break\n",
    "        else:\n",
    "            primes.append(i)\n",
    "    return primes\n",
    "res=prime_num(50)\n",
    "print(\"Prime Numbers are:\",res)"
   ]
  },
  {
   "cell_type": "markdown",
   "id": "19a30a54",
   "metadata": {},
   "source": [
    " 34. Split a list into chunks of size `n`."
   ]
  },
  {
   "cell_type": "code",
   "execution_count": 6,
   "id": "8514addc",
   "metadata": {},
   "outputs": [
    {
     "name": "stdout",
     "output_type": "stream",
     "text": [
      "[1, 2, 3]\n",
      "[4, 5, 6]\n",
      "[7, 8, 9]\n"
     ]
    }
   ],
   "source": [
    "lst=[1,2,3,4,5,6,7,8,9]\n",
    "start=0\n",
    "end=len(lst)\n",
    "step=3\n",
    "for i in range(start,end,step):\n",
    "    x=i\n",
    "    print(lst[x:x+step])"
   ]
  },
  {
   "cell_type": "markdown",
   "id": "69a107b2",
   "metadata": {},
   "source": [
    "35. Find the second largest number in a list."
   ]
  },
  {
   "cell_type": "code",
   "execution_count": 8,
   "id": "335db3ed",
   "metadata": {},
   "outputs": [
    {
     "name": "stdout",
     "output_type": "stream",
     "text": [
      "Second largest number: 70\n"
     ]
    }
   ],
   "source": [
    "lst=[10,20,30,40,80,70,50]\n",
    "sorted_lst=sorted(set(lst))\n",
    "if len(sorted_lst) >= 2:\n",
    "    second_largest = sorted_lst[-2]\n",
    "    print(\"Second largest number:\", second_largest)\n",
    "else:\n",
    "    print(\"The list does not contain enough elements.\")"
   ]
  },
  {
   "cell_type": "markdown",
   "id": "b63b01b6",
   "metadata": {},
   "source": [
    "36. Replace every element in a list with its square."
   ]
  },
  {
   "cell_type": "code",
   "execution_count": 9,
   "id": "1440b084",
   "metadata": {},
   "outputs": [
    {
     "name": "stdout",
     "output_type": "stream",
     "text": [
      "[100, 400, 900, 1600, 6400, 4900, 2500]\n"
     ]
    }
   ],
   "source": [
    "lst=[10,20,30,40,80,70,50]\n",
    "squared_lst=[x**2 for x in lst]\n",
    "print(squared_lst)"
   ]
  },
  {
   "cell_type": "markdown",
   "id": "faac5432",
   "metadata": {},
   "source": [
    "37. Convert a list to a dictionary where list elements become keys and their indices become values."
   ]
  },
  {
   "cell_type": "code",
   "execution_count": 11,
   "id": "4d535b10",
   "metadata": {},
   "outputs": [
    {
     "name": "stdout",
     "output_type": "stream",
     "text": [
      "Converted dictionary: {'apple': 0, 'banana': 1, 'cherry': 2, 'date': 3, 'elderberry': 4}\n"
     ]
    }
   ],
   "source": [
    "my_list = ['apple', 'banana', 'cherry', 'date', 'elderberry']\n",
    "\n",
    "# Convert list to dictionary using dictionary comprehension\n",
    "my_dict = {element: index for index, element in enumerate(my_list)}\n",
    "\n",
    "# Print the resulting dictionary\n",
    "print(\"Converted dictionary:\", my_dict)"
   ]
  },
  {
   "cell_type": "markdown",
   "id": "02195b35",
   "metadata": {},
   "source": [
    "38. Shuffle the elements of a list randomly."
   ]
  },
  {
   "cell_type": "code",
   "execution_count": 12,
   "id": "18874965",
   "metadata": {},
   "outputs": [
    {
     "name": "stdout",
     "output_type": "stream",
     "text": [
      "Shuffled list: [10, 8, 3, 1, 9, 2, 5, 6, 4, 7]\n"
     ]
    }
   ],
   "source": [
    "import random\n",
    "\n",
    "# Example list\n",
    "my_list = [1, 2, 3, 4, 5, 6, 7, 8, 9, 10]\n",
    "\n",
    "# Shuffle the list randomly\n",
    "random.shuffle(my_list)\n",
    "\n",
    "# Print the shuffled list\n",
    "print(\"Shuffled list:\", my_list)"
   ]
  },
  {
   "cell_type": "markdown",
   "id": "a4bcd7ff",
   "metadata": {},
   "source": [
    "39. Create a list of the first 10 factorial numbers."
   ]
  },
  {
   "cell_type": "code",
   "execution_count": 13,
   "id": "3330a12a",
   "metadata": {},
   "outputs": [
    {
     "name": "stdout",
     "output_type": "stream",
     "text": [
      "List of the first 10 factorial numbers: [1, 1, 2, 6, 24, 120, 720, 5040, 40320, 362880]\n"
     ]
    }
   ],
   "source": [
    "def factorial(n):\n",
    "    if n == 0 or n == 1:\n",
    "        return 1\n",
    "    else:\n",
    "        return n * factorial(n - 1)\n",
    "\n",
    "# Create a list of the first 10 factorial numbers\n",
    "factorial_numbers = [factorial(i) for i in range(10)]\n",
    "\n",
    "# Print the list of factorial numbers\n",
    "print(\"List of the first 10 factorial numbers:\", factorial_numbers)"
   ]
  },
  {
   "cell_type": "markdown",
   "id": "7e1c70a7",
   "metadata": {},
   "source": [
    "40. Check if two lists have at least one element in common."
   ]
  },
  {
   "cell_type": "code",
   "execution_count": 16,
   "id": "96e5c181",
   "metadata": {},
   "outputs": [
    {
     "name": "stdout",
     "output_type": "stream",
     "text": [
      "The lists do not have any common elements.\n"
     ]
    }
   ],
   "source": [
    "list1 = [1, 2, 3, 4, 5]\n",
    "list2 = [4, 5, 6, 7, 8]\n",
    "if itemslist1 in list2:\n",
    "    print(\"The lists have at least one common element.\")\n",
    "else:\n",
    "    print(\"The lists do not have any common elements.\")"
   ]
  },
  {
   "cell_type": "markdown",
   "id": "142ccc88",
   "metadata": {},
   "source": [
    "40. Check if two lists have at least one element in common."
   ]
  },
  {
   "cell_type": "code",
   "execution_count": null,
   "id": "48aa8b4c",
   "metadata": {},
   "outputs": [],
   "source": [
    "# Function to check if two lists have at least one element in common\n",
    "def has_common_element(list1, list2):\n",
    "    for item in list1:\n",
    "        if item in list2:\n",
    "            return True\n",
    "    return False\n",
    "\n",
    "# Example lists\n",
    "list1 = [1, 2, 3, 4, 5]\n",
    "list2 = [4, 5, 6, 7, 8]\n",
    "\n",
    "# Check if the two lists have at least one element in common\n",
    "if has_common_element(list1, list2):\n",
    "    print(\"The lists have at least one common element.\")\n",
    "else:\n",
    "    print(\"The lists do not have any common elements.\")"
   ]
  },
  {
   "cell_type": "markdown",
   "id": "0fc967a3",
   "metadata": {},
   "source": [
    "41. Remove all elements from a list."
   ]
  },
  {
   "cell_type": "code",
   "execution_count": 17,
   "id": "917d5726",
   "metadata": {},
   "outputs": [
    {
     "name": "stdout",
     "output_type": "stream",
     "text": [
      "Empty list: []\n"
     ]
    }
   ],
   "source": [
    "my_list = [1, 2, 3, 4, 5]\n",
    "my_list.clear()\n",
    "print(\"Empty list:\", my_list)"
   ]
  },
  {
   "cell_type": "code",
   "execution_count": null,
   "id": "38b43549",
   "metadata": {},
   "outputs": [],
   "source": [
    "42. Replace negative numbers in a list with 0."
   ]
  },
  {
   "cell_type": "code",
   "execution_count": 18,
   "id": "dafb0fdf",
   "metadata": {},
   "outputs": [
    {
     "name": "stdout",
     "output_type": "stream",
     "text": [
      "List after replacing negative numbers with 0: [10, 20, 0, 0, 0, 30]\n"
     ]
    }
   ],
   "source": [
    "lst=[10,20,-2,-8,-15,30]\n",
    "for i in range(len(lst)):\n",
    "    if lst[i]<0:\n",
    "        lst[i]=0\n",
    "print(\"List after replacing negative numbers with 0:\",lst)"
   ]
  },
  {
   "cell_type": "markdown",
   "id": "4d39b473",
   "metadata": {},
   "source": [
    "43. Convert a string into a list of words."
   ]
  },
  {
   "cell_type": "code",
   "execution_count": 20,
   "id": "ec0eed89",
   "metadata": {},
   "outputs": [
    {
     "name": "stdout",
     "output_type": "stream",
     "text": [
      "List of words: ['Hello', 'this', 'is', 'a', 'Book']\n"
     ]
    }
   ],
   "source": [
    "string=\"Hello this is a Book\"\n",
    "word_list=string.split()\n",
    "print(\"List of words:\",word_list)"
   ]
  },
  {
   "cell_type": "markdown",
   "id": "f6701bd7",
   "metadata": {},
   "source": [
    "44. Convert a list of words into a string."
   ]
  },
  {
   "cell_type": "code",
   "execution_count": 21,
   "id": "46961a91",
   "metadata": {},
   "outputs": [
    {
     "name": "stdout",
     "output_type": "stream",
     "text": [
      "Converted string: Hello, this is a sample sentence.\n"
     ]
    }
   ],
   "source": [
    "word_list = [\"Hello,\", \"this\", \"is\", \"a\", \"sample\", \"sentence.\"]\n",
    "string=\" \".join(word_list)\n",
    "print(\"Converted string:\",string)"
   ]
  },
  {
   "cell_type": "markdown",
   "id": "90f35b53",
   "metadata": {},
   "source": [
    "45. Create a list of the first `n` powers of 2."
   ]
  },
  {
   "cell_type": "code",
   "execution_count": 27,
   "id": "d25fc1cc",
   "metadata": {},
   "outputs": [
    {
     "name": "stdout",
     "output_type": "stream",
     "text": [
      "Enter number:5\n",
      "List of the first 5 power of 2 is:[0, 1, 4, 9, 16]\n"
     ]
    }
   ],
   "source": [
    "n=int(input(\"Enter number:\"))\n",
    "power=[x**2 for x in range(n)]\n",
    "print(\"List of the first {} power of 2 is:{}\".format(n,power))"
   ]
  },
  {
   "cell_type": "markdown",
   "id": "b2040bc2",
   "metadata": {},
   "source": [
    " 46. Find the longest string in a list of strings."
   ]
  },
  {
   "cell_type": "code",
   "execution_count": 29,
   "id": "46ae07a0",
   "metadata": {},
   "outputs": [
    {
     "name": "stdout",
     "output_type": "stream",
     "text": [
      "longest String is: notebook\n"
     ]
    }
   ],
   "source": [
    "lst1=[\"book\",\"cat\",\"notebook\",\"trees\",\"to\"]\n",
    "longest_string=\"\"\n",
    "for i in lst1:\n",
    "    if len(i)>len(longest_string):\n",
    "        longest_string=i\n",
    "print(\"longest String is:\",longest_string)"
   ]
  },
  {
   "cell_type": "markdown",
   "id": "e50394d8",
   "metadata": {},
   "source": [
    "47. Find the shortest string in a list of strings."
   ]
  },
  {
   "cell_type": "code",
   "execution_count": 33,
   "id": "73bd5c60",
   "metadata": {},
   "outputs": [
    {
     "name": "stdout",
     "output_type": "stream",
     "text": [
      "shortest str is: to\n"
     ]
    }
   ],
   "source": [
    "lst1=[\"book\",\"cat\",\"notebook\",\"trees\",\"to\"]\n",
    "shortest_str=\"inf\"\n",
    "for i in lst1:\n",
    "    if len(i)<len(shortest_str):\n",
    "        shortest_str=i\n",
    "print(\"shortest str is:\",shortest_str)"
   ]
  },
  {
   "cell_type": "code",
   "execution_count": null,
   "id": "a3fdfe83",
   "metadata": {},
   "outputs": [],
   "source": [
    "48. Create a list of the first `n` triangular numbers."
   ]
  },
  {
   "cell_type": "code",
   "execution_count": 35,
   "id": "12a11ae3",
   "metadata": {},
   "outputs": [
    {
     "name": "stdout",
     "output_type": "stream",
     "text": [
      "List of the first 6 triangular numbers: [1, 3, 6, 10, 15, 21]\n"
     ]
    }
   ],
   "source": [
    "n=6\n",
    "triangular=[i*(i+1)//2 for i in range(1,n+1)]\n",
    "print(\"List of the first\", n, \"triangular numbers:\", triangular)"
   ]
  },
  {
   "cell_type": "markdown",
   "id": "481e3c7b",
   "metadata": {},
   "source": [
    " 49. Check if a list contains another list as a subsequence."
   ]
  },
  {
   "cell_type": "code",
   "execution_count": 55,
   "id": "99d63928",
   "metadata": {},
   "outputs": [
    {
     "name": "stdout",
     "output_type": "stream",
     "text": [
      "Main list Contains the Subsequence\n"
     ]
    }
   ],
   "source": [
    "main_list = [1, 2, 3, 4, 5, 6, 7, 8, 9, 10]\n",
    "subsequence = [3, 5, 8]\n",
    "new_rec=[]\n",
    "for i in main_list:\n",
    "    if i in subsequence:\n",
    "        new_rec.append(i)\n",
    "if new_rec == subsequence:\n",
    "    print(\"Main list Contains the Subsequence\")\n",
    "else:\n",
    "    print(\"Main list doesn't Contains the Subsequence\")\n"
   ]
  },
  {
   "cell_type": "markdown",
   "id": "bc1fbd30",
   "metadata": {},
   "source": [
    "50. Swap two elements in a list by their indices."
   ]
  },
  {
   "cell_type": "code",
   "execution_count": 56,
   "id": "3f442d26",
   "metadata": {},
   "outputs": [
    {
     "name": "stdout",
     "output_type": "stream",
     "text": [
      "List after swapping elements: [1, 4, 3, 2, 5]\n"
     ]
    }
   ],
   "source": [
    "my_list = [1, 2, 3, 4, 5]\n",
    "\n",
    "# Indices of elements to swap\n",
    "index1 = 1\n",
    "index2 = 3\n",
    "\n",
    "# Swap the elements at the specified indices\n",
    "temp = my_list[index1]\n",
    "my_list[index1] = my_list[index2]\n",
    "my_list[index2] = temp\n",
    "\n",
    "# Print the list after swapping\n",
    "print(\"List after swapping elements:\", my_list)"
   ]
  },
  {
   "cell_type": "markdown",
   "id": "8c9b3a19",
   "metadata": {},
   "source": [
    "## **Tuple based practice problem :**\n",
    "\n"
   ]
  },
  {
   "cell_type": "markdown",
   "id": "28b9def1",
   "metadata": {},
   "source": [
    "1. Create a tuple with integers from 1 to 5."
   ]
  },
  {
   "cell_type": "code",
   "execution_count": 59,
   "id": "de3e665e",
   "metadata": {},
   "outputs": [
    {
     "name": "stdout",
     "output_type": "stream",
     "text": [
      "(1, 2, 3, 4, 5)\n",
      "<class 'tuple'>\n"
     ]
    }
   ],
   "source": [
    "tupl=(1,2,3,4,5)\n",
    "print(tupl)\n",
    "print(type(tupl))"
   ]
  },
  {
   "cell_type": "markdown",
   "id": "a4d4eb04",
   "metadata": {},
   "source": [
    "2. Access the third element of a tuple."
   ]
  },
  {
   "cell_type": "code",
   "execution_count": 60,
   "id": "0d17e240",
   "metadata": {},
   "outputs": [
    {
     "name": "stdout",
     "output_type": "stream",
     "text": [
      "Third Element is: 30\n"
     ]
    }
   ],
   "source": [
    "tupl=(10,20,30,40,50,60)\n",
    "print(\"Third Element is:\",tupl[2])"
   ]
  },
  {
   "cell_type": "markdown",
   "id": "579e684f",
   "metadata": {},
   "source": [
    "3. Find the length of a tuple without using the `len()` function."
   ]
  },
  {
   "cell_type": "code",
   "execution_count": 63,
   "id": "287668e0",
   "metadata": {},
   "outputs": [
    {
     "name": "stdout",
     "output_type": "stream",
     "text": [
      "Length of Tuple is: 6\n"
     ]
    }
   ],
   "source": [
    "tupl=(10,20,30,40,50,60)\n",
    "count=0\n",
    "for num in tupl:\n",
    "    count=count+1\n",
    "print(\"Length of Tuple is:\",count)"
   ]
  },
  {
   "cell_type": "markdown",
   "id": "bd3dc7a1",
   "metadata": {},
   "source": [
    "4. Count the occurrences of an element in a tuple."
   ]
  },
  {
   "cell_type": "code",
   "execution_count": 101,
   "id": "c9d31e2c",
   "metadata": {},
   "outputs": [
    {
     "name": "stdout",
     "output_type": "stream",
     "text": [
      " The Element '30' Occurs '2' times in tuple\n"
     ]
    }
   ],
   "source": [
    "tupl=(10,20,30,40,50,40,50,30,40)\n",
    "element_to_find=30\n",
    "count=0\n",
    "for i in tupl:\n",
    "    if i == element_to_find:\n",
    "        count +=1\n",
    "print(\" The Element '{}' Occurs '{}' times in tuple\".format(element_to_find,count))"
   ]
  },
  {
   "cell_type": "markdown",
   "id": "9d1d61f1",
   "metadata": {},
   "source": [
    " 5. Find the index of the first occurrence of an element in a tuple."
   ]
  },
  {
   "cell_type": "code",
   "execution_count": 75,
   "id": "4ff89e9c",
   "metadata": {},
   "outputs": [
    {
     "name": "stdout",
     "output_type": "stream",
     "text": [
      "First occurance of element is at Index: 2\n"
     ]
    }
   ],
   "source": [
    "tupl=(10,20,30,40,50,40,50,30,40)\n",
    "ele_to_find=30\n",
    "ind=tupl.index(ele_to_find)\n",
    "print(\"First occurance of element is at Index:\",ind)"
   ]
  },
  {
   "cell_type": "markdown",
   "id": "9b1e87c0",
   "metadata": {},
   "source": [
    "6. Check if an element exists in a tuple."
   ]
  },
  {
   "cell_type": "code",
   "execution_count": 84,
   "id": "f6d2afa1",
   "metadata": {},
   "outputs": [
    {
     "name": "stdout",
     "output_type": "stream",
     "text": [
      "Element Exist in Tuple\n"
     ]
    }
   ],
   "source": [
    "tupl=(10,20,30,40,50,40,50,30,40)\n",
    "ele_to_find=50\n",
    "if ele_to_find in tupl:\n",
    "    print(\"Element Exist in Tuple\")    \n",
    "else:\n",
    "    print(\"Element Doesn't Exist in Tuple\")"
   ]
  },
  {
   "cell_type": "markdown",
   "id": "6f53f5bf",
   "metadata": {},
   "source": [
    "7. Convert a tuple to a list."
   ]
  },
  {
   "cell_type": "code",
   "execution_count": 85,
   "id": "3b5f36ba",
   "metadata": {},
   "outputs": [
    {
     "name": "stdout",
     "output_type": "stream",
     "text": [
      "list: [10, 20, 30, 40, 50, 40, 50, 30, 40]\n"
     ]
    }
   ],
   "source": [
    "tupl=(10,20,30,40,50,40,50,30,40)\n",
    "print(\"list:\",list(tupl))"
   ]
  },
  {
   "cell_type": "markdown",
   "id": "8ef589d6",
   "metadata": {},
   "source": [
    "8. Convert a list to a tuple."
   ]
  },
  {
   "cell_type": "code",
   "execution_count": 86,
   "id": "87bc95ea",
   "metadata": {},
   "outputs": [
    {
     "name": "stdout",
     "output_type": "stream",
     "text": [
      "Tuple: (10, 20, 30, 40, 50, 40, 50, 30, 40)\n"
     ]
    }
   ],
   "source": [
    "lst=[10, 20, 30, 40, 50, 40, 50, 30, 40]\n",
    "print(\"Tuple:\",tuple(lst))"
   ]
  },
  {
   "cell_type": "markdown",
   "id": "8e44bad1",
   "metadata": {},
   "source": [
    "9. Unpack the elements of a tuple into variables."
   ]
  },
  {
   "cell_type": "code",
   "execution_count": 87,
   "id": "a258b13c",
   "metadata": {},
   "outputs": [
    {
     "name": "stdout",
     "output_type": "stream",
     "text": [
      "var1: 10\n",
      "var2: 20\n",
      "var3: 30\n"
     ]
    }
   ],
   "source": [
    "tupl=(10,20,30)\n",
    "var1,var2,var3=tupl\n",
    "print(\"var1:\",var1)\n",
    "print(\"var2:\",var2)\n",
    "print(\"var3:\",var3)"
   ]
  },
  {
   "cell_type": "markdown",
   "id": "dc08cb04",
   "metadata": {},
   "source": [
    "10. Create a tuple of even numbers from 1 to 10."
   ]
  },
  {
   "cell_type": "code",
   "execution_count": 89,
   "id": "6646ed93",
   "metadata": {},
   "outputs": [
    {
     "name": "stdout",
     "output_type": "stream",
     "text": [
      "Tuple of Even numbers are: (2, 4, 6, 8, 10)\n"
     ]
    }
   ],
   "source": [
    "even_lst=(x for x in range(2,11,2))\n",
    "even_tupl=tuple(even_lst)\n",
    "print(\"Tuple of Even numbers are:\",even_tupl)"
   ]
  },
  {
   "cell_type": "markdown",
   "id": "cdc31ff4",
   "metadata": {},
   "source": [
    "11. Create a tuple of odd numbers from 1 to 10."
   ]
  },
  {
   "cell_type": "code",
   "execution_count": 92,
   "id": "81f07101",
   "metadata": {},
   "outputs": [
    {
     "name": "stdout",
     "output_type": "stream",
     "text": [
      "Tuple of odd numbers are: (1, 3, 5, 7, 9)\n"
     ]
    }
   ],
   "source": [
    "odd_lst=(x for x in range(1,11,2))\n",
    "odd_tupl=tuple(odd_lst)\n",
    "print(\"Tuple of odd numbers are:\",odd_tupl)"
   ]
  },
  {
   "cell_type": "markdown",
   "id": "cf6a7d54",
   "metadata": {},
   "source": [
    "12. Concatenate two tuples."
   ]
  },
  {
   "cell_type": "code",
   "execution_count": 93,
   "id": "d6268671",
   "metadata": {},
   "outputs": [
    {
     "name": "stdout",
     "output_type": "stream",
     "text": [
      "Concated Tuples is: (10, 20, 30, 40, 50, 60)\n"
     ]
    }
   ],
   "source": [
    "tupl1=(10,20,30)\n",
    "tupl2=(40,50,60)\n",
    "concate=tupl1+tupl2\n",
    "print(\"Concated Tuples is:\",concate)"
   ]
  },
  {
   "cell_type": "markdown",
   "id": "c142d3e5",
   "metadata": {},
   "source": [
    "13. Repeat a tuple three times."
   ]
  },
  {
   "cell_type": "code",
   "execution_count": 96,
   "id": "556545da",
   "metadata": {},
   "outputs": [
    {
     "name": "stdout",
     "output_type": "stream",
     "text": [
      "Repeated Tupl: (10, 20, 30, 10, 20, 30, 10, 20, 30)\n"
     ]
    }
   ],
   "source": [
    "tupl1=(10,20,30)\n",
    "repeat_tupl=tupl1*3\n",
    "print(\"Repeated Tupl:\",repeat_tupl)"
   ]
  },
  {
   "cell_type": "markdown",
   "id": "7c946bce",
   "metadata": {},
   "source": [
    "14. Check if a tuple is empty."
   ]
  },
  {
   "cell_type": "code",
   "execution_count": 100,
   "id": "7946301d",
   "metadata": {},
   "outputs": [
    {
     "name": "stdout",
     "output_type": "stream",
     "text": [
      "The Tuple is not Empty\n"
     ]
    }
   ],
   "source": [
    "tupl=(10,20,30)\n",
    "if len(tupl)==0:\n",
    "    print(\"The Tuple is Empty\")\n",
    "else:\n",
    "    print(\"The Tuple is not Empty\")"
   ]
  },
  {
   "cell_type": "markdown",
   "id": "757d2274",
   "metadata": {},
   "source": [
    "15. Create a nested tuple"
   ]
  },
  {
   "cell_type": "code",
   "execution_count": 103,
   "id": "c279a511",
   "metadata": {},
   "outputs": [
    {
     "name": "stdout",
     "output_type": "stream",
     "text": [
      "((10, 20, 30), ('a', 'b', 'c'), ('True', 'False'))\n"
     ]
    }
   ],
   "source": [
    "tupl=((10,20,30),('a','b','c'),('True','False'))\n",
    "print(tupl)"
   ]
  },
  {
   "cell_type": "markdown",
   "id": "d1e31c36",
   "metadata": {},
   "source": [
    "16. Access the first element of a nested tuple."
   ]
  },
  {
   "cell_type": "code",
   "execution_count": 104,
   "id": "4305a5b9",
   "metadata": {},
   "outputs": [
    {
     "name": "stdout",
     "output_type": "stream",
     "text": [
      "First Element of Nested Tuple is: (10, 20, 30)\n"
     ]
    }
   ],
   "source": [
    "tupl=((10,20,30),('a','b','c'),('True','False'))\n",
    "first_ele=tupl[0]\n",
    "print(\"First Element of Nested Tuple is:\",first_ele)"
   ]
  },
  {
   "cell_type": "markdown",
   "id": "adec8d31",
   "metadata": {},
   "source": [
    "17. Create a tuple with a single element."
   ]
  },
  {
   "cell_type": "code",
   "execution_count": 106,
   "id": "3c66fec4",
   "metadata": {},
   "outputs": [
    {
     "name": "stdout",
     "output_type": "stream",
     "text": [
      "Single Element Tuple: (2,)\n"
     ]
    }
   ],
   "source": [
    "single_tupl=(2,)\n",
    "print(\"Single Element Tuple:\",single_tupl)"
   ]
  },
  {
   "cell_type": "markdown",
   "id": "59856055",
   "metadata": {},
   "source": [
    "18. Compare two tuples."
   ]
  },
  {
   "cell_type": "code",
   "execution_count": 108,
   "id": "cd02b68a",
   "metadata": {},
   "outputs": [
    {
     "name": "stdout",
     "output_type": "stream",
     "text": [
      "tuple1 == tuple2: False\n",
      "tuple1 != tuple2: True\n",
      "tuple1 < tuple2: True\n",
      "tuple1 <= tuple2: True\n",
      "tuple1 > tuple2: False\n",
      "tuple1 >= tuple2: False\n"
     ]
    }
   ],
   "source": [
    "tuple1=(10,20,30)\n",
    "tuple2=(10,20,40)\n",
    "\n",
    "# Step 2: Compare the two tuples using comparison operators\n",
    "print(\"tuple1 == tuple2:\", tuple1 == tuple2)  # Equality check\n",
    "print(\"tuple1 != tuple2:\", tuple1 != tuple2)  # Inequality check\n",
    "print(\"tuple1 < tuple2:\", tuple1 < tuple2)    # Less than check\n",
    "print(\"tuple1 <= tuple2:\", tuple1 <= tuple2)  # Less than or equal to check\n",
    "print(\"tuple1 > tuple2:\", tuple1 > tuple2)    # Greater than check\n",
    "print(\"tuple1 >= tuple2:\", tuple1 >= tuple2)  # Greater than or equal to check"
   ]
  },
  {
   "cell_type": "markdown",
   "id": "93abe3a5",
   "metadata": {},
   "source": [
    "19. Delete a tuple."
   ]
  },
  {
   "cell_type": "code",
   "execution_count": 109,
   "id": "ebbb3068",
   "metadata": {},
   "outputs": [
    {
     "ename": "NameError",
     "evalue": "name 'tupl' is not defined",
     "output_type": "error",
     "traceback": [
      "\u001b[1;31m---------------------------------------------------------------------------\u001b[0m",
      "\u001b[1;31mNameError\u001b[0m                                 Traceback (most recent call last)",
      "Cell \u001b[1;32mIn[109], line 3\u001b[0m\n\u001b[0;32m      1\u001b[0m tupl\u001b[38;5;241m=\u001b[39m(\u001b[38;5;241m10\u001b[39m,\u001b[38;5;241m20\u001b[39m,\u001b[38;5;241m30\u001b[39m,\u001b[38;5;241m40\u001b[39m,\u001b[38;5;241m50\u001b[39m,\u001b[38;5;241m60\u001b[39m)\n\u001b[0;32m      2\u001b[0m \u001b[38;5;28;01mdel\u001b[39;00m tupl\n\u001b[1;32m----> 3\u001b[0m \u001b[38;5;28mprint\u001b[39m(\u001b[43mtupl\u001b[49m)\n",
      "\u001b[1;31mNameError\u001b[0m: name 'tupl' is not defined"
     ]
    }
   ],
   "source": [
    "tupl=(10,20,30,40,50,60)\n",
    "del tupl\n",
    "print(tupl)"
   ]
  },
  {
   "cell_type": "markdown",
   "id": "6264a6f1",
   "metadata": {},
   "source": [
    "20. Slice a tuple."
   ]
  },
  {
   "cell_type": "code",
   "execution_count": 111,
   "id": "8c8235db",
   "metadata": {},
   "outputs": [
    {
     "name": "stdout",
     "output_type": "stream",
     "text": [
      "Slicied Tuple: (30, 40, 50, 60, 70, 80)\n"
     ]
    }
   ],
   "source": [
    "tupl=(10,20,30,40,50,60,70,80,90,100)\n",
    "s=tupl[2:8]\n",
    "print(\"Slicied Tuple:\",s)"
   ]
  },
  {
   "cell_type": "markdown",
   "id": "0e19e156",
   "metadata": {},
   "source": [
    "21. Find the maximum value in a tuple."
   ]
  },
  {
   "cell_type": "code",
   "execution_count": 113,
   "id": "22c1c192",
   "metadata": {},
   "outputs": [
    {
     "name": "stdout",
     "output_type": "stream",
     "text": [
      "Maximum Value: 100\n"
     ]
    }
   ],
   "source": [
    "tupl=(10,20,30,40,50,60,70,80,90,100)\n",
    "max_val=max(tupl)\n",
    "print(\"Maximum Value:\",max_val)"
   ]
  },
  {
   "cell_type": "markdown",
   "id": "92ebc883",
   "metadata": {},
   "source": [
    "22. Find the minimum value in a tuple."
   ]
  },
  {
   "cell_type": "code",
   "execution_count": 116,
   "id": "b1131030",
   "metadata": {},
   "outputs": [
    {
     "name": "stdout",
     "output_type": "stream",
     "text": [
      "Minimum Value: 10\n"
     ]
    }
   ],
   "source": [
    "tupl=(10,20,30,40,50,60,70,80,90,100)\n",
    "min_val=min(tupl)\n",
    "print(\"Minimum Value:\",min_val)"
   ]
  },
  {
   "cell_type": "markdown",
   "id": "4f45c349",
   "metadata": {},
   "source": [
    "23. Convert a string to a tuple of characters."
   ]
  },
  {
   "cell_type": "code",
   "execution_count": 117,
   "id": "860f67d5",
   "metadata": {},
   "outputs": [
    {
     "name": "stdout",
     "output_type": "stream",
     "text": [
      "Convereted Tuple : ('T', 'h', 'i', 's', ' ', 'i', 's', ' ', 'a', ' ', 'B', 'o', 'o', 'k')\n"
     ]
    }
   ],
   "source": [
    "str=\"This is a Book\"\n",
    "converted_tupl=tuple(str)\n",
    "print(\"Convereted Tuple :\",converted_tupl)"
   ]
  },
  {
   "cell_type": "markdown",
   "id": "77aa9900",
   "metadata": {},
   "source": [
    "24. Convert a tuple of characters to a string."
   ]
  },
  {
   "cell_type": "code",
   "execution_count": 119,
   "id": "1f1e25cc",
   "metadata": {},
   "outputs": [
    {
     "name": "stdout",
     "output_type": "stream",
     "text": [
      "Converted String: This is a Book\n"
     ]
    }
   ],
   "source": [
    "tupl=('T', 'h', 'i', 's', ' ', 'i', 's', ' ', 'a', ' ', 'B', 'o', 'o', 'k')\n",
    "converted_str=\"\".join(tupl)\n",
    "print(\"Converted String:\",converted_str)"
   ]
  },
  {
   "cell_type": "markdown",
   "id": "36e22a7b",
   "metadata": {},
   "source": [
    "25. Create a tuple from multiple data types."
   ]
  },
  {
   "cell_type": "code",
   "execution_count": 121,
   "id": "68b1938f",
   "metadata": {},
   "outputs": [
    {
     "name": "stdout",
     "output_type": "stream",
     "text": [
      "Mixed Tuple : (10, 'text', 34.5, True)\n"
     ]
    }
   ],
   "source": [
    "mul_tupl=(10,\"text\",34.5,True)\n",
    "print(\"Mixed Tuple :\",mul_tupl)"
   ]
  },
  {
   "cell_type": "markdown",
   "id": "73db8211",
   "metadata": {},
   "source": [
    "26. Check if two tuples are identical."
   ]
  },
  {
   "cell_type": "code",
   "execution_count": 125,
   "id": "c5adc5a5",
   "metadata": {},
   "outputs": [
    {
     "name": "stdout",
     "output_type": "stream",
     "text": [
      "Tuple 1 is Identical to Tuple 2\n"
     ]
    }
   ],
   "source": [
    "tupl1=(10,20,30)\n",
    "tupl2=(10,20,30)\n",
    "tupl3=(30,40,60)\n",
    "if tupl1==tupl2:\n",
    "    print(\"Tuple 1 is Identical to Tuple 2\")\n",
    "elif tupl1==tupl3:\n",
    "    print(\"Tuple 1 is Identical to Tuple 3\")\n",
    "elif tupl2==tupl3:\n",
    "    print(\"Tuple 2 is Identical to Tuple 3\")"
   ]
  },
  {
   "cell_type": "markdown",
   "id": "b6e9edef",
   "metadata": {},
   "source": [
    "27. Sort the elements of a tuple."
   ]
  },
  {
   "cell_type": "code",
   "execution_count": 127,
   "id": "8141943c",
   "metadata": {},
   "outputs": [
    {
     "name": "stdout",
     "output_type": "stream",
     "text": [
      "Sorted Tuple is: (10, 20, 30, 40, 50, 60, 90, 100)\n"
     ]
    }
   ],
   "source": [
    "tupl1=(10,20,30,90,40,60,100,50)\n",
    "sorted_tuple=tuple(sorted(tupl1))\n",
    "print(\"Sorted Tuple is:\",sorted_tuple)"
   ]
  },
  {
   "cell_type": "markdown",
   "id": "43d9d816",
   "metadata": {},
   "source": [
    "28. Convert a tuple of integers to a tuple of strings."
   ]
  },
  {
   "cell_type": "code",
   "execution_count": 1,
   "id": "28d45a95",
   "metadata": {},
   "outputs": [
    {
     "name": "stdout",
     "output_type": "stream",
     "text": [
      "Tuple of strings: ('1', '2', '3', '4', '5')\n"
     ]
    }
   ],
   "source": [
    "# Step 1: Create a tuple of integers\n",
    "int_tupl1 = (1, 2, 3, 4, 5)\n",
    "\n",
    "# Step 2: Convert the tuple of integers to a tuple of strings using a list comprehension\n",
    "str_tupl1 = tuple(str(item) for item in int_tupl1)\n",
    "\n",
    "# Step 3: Print the tuple of strings\n",
    "print(\"Tuple of strings:\", str_tupl1)"
   ]
  },
  {
   "cell_type": "markdown",
   "id": "fdbb23f5",
   "metadata": {},
   "source": [
    "29. Convert a tuple of strings to a tuple of integers."
   ]
  },
  {
   "cell_type": "code",
   "execution_count": 154,
   "id": "aad31efa",
   "metadata": {},
   "outputs": [
    {
     "name": "stdout",
     "output_type": "stream",
     "text": [
      "Tuple of integers: (10, 20, 30, 40, 50)\n"
     ]
    }
   ],
   "source": [
    "tuple_of_strings = ('10', '20', '30', '40', '50')\n",
    "\n",
    "# Step 2: Convert the tuple of strings to a tuple of integers using a list comprehension\n",
    "tuple_of_integers = tuple(int(item) for item in tuple_of_strings)\n",
    "\n",
    "# Step 3: Print the tuple of integers\n",
    "print(\"Tuple of integers:\", tuple_of_integers)"
   ]
  },
  {
   "cell_type": "markdown",
   "id": "48365cb2",
   "metadata": {},
   "source": [
    "30. Merge two tuples."
   ]
  },
  {
   "cell_type": "code",
   "execution_count": 3,
   "id": "e89a4b98",
   "metadata": {},
   "outputs": [
    {
     "name": "stdout",
     "output_type": "stream",
     "text": [
      "Merged Tuple: (10, 20, 30, 80, 0, 100)\n"
     ]
    }
   ],
   "source": [
    "tupl1=(10,20,30)\n",
    "tupl2=(80,0,100)\n",
    "merged_tupl=tupl1+tupl2\n",
    "print(\"Merged Tuple:\",merged_tupl)"
   ]
  },
  {
   "cell_type": "markdown",
   "id": "83ceb66e",
   "metadata": {},
   "source": [
    "31. Flatten a nested tuple."
   ]
  },
  {
   "cell_type": "code",
   "execution_count": 13,
   "id": "9eb40e7e",
   "metadata": {},
   "outputs": [
    {
     "name": "stdout",
     "output_type": "stream",
     "text": [
      "Flattened tuple: (1, 2, 3, 4, 5, 6, 7, 8)\n"
     ]
    }
   ],
   "source": [
    "# Recursive function to flatten a nested tuple\n",
    "def flatten_tuple(nested_tuple):\n",
    "    flattened = []\n",
    "    for item in nested_tuple:\n",
    "        if isinstance(item, tuple):\n",
    "            flattened.extend(flatten_tuple(item))\n",
    "        else:\n",
    "            flattened.append(item)\n",
    "    return flattened\n",
    "\n",
    "# Step 1: Create a nested tuple\n",
    "nested_tuple = ((1, 2), (3, 4, 5), (6, (7, 8)))\n",
    "\n",
    "# Step 2: Flatten the nested tuple\n",
    "flattened_tuple = tuple(flatten_tuple(nested_tuple))\n",
    "\n",
    "# Step 3: Print the flattened tuple\n",
    "print(\"Flattened tuple:\", flattened_tuple)"
   ]
  },
  {
   "cell_type": "markdown",
   "id": "a2da2320",
   "metadata": {},
   "source": [
    "32. Create a tuple of the first 5 prime numbers."
   ]
  },
  {
   "cell_type": "code",
   "execution_count": 18,
   "id": "9a1366bb",
   "metadata": {},
   "outputs": [
    {
     "name": "stdout",
     "output_type": "stream",
     "text": [
      "Tuple of the first 5 prime numbers: (2, 3, 5, 7, 11)\n"
     ]
    }
   ],
   "source": [
    "# Function to check if a number is prime\n",
    "def is_prime(num):\n",
    "    if num <= 1:\n",
    "        return False\n",
    "    for i in range(2, int(num ** 0.5) + 1):\n",
    "        if num % i == 0:\n",
    "            return False\n",
    "    return True\n",
    "\n",
    "# Generate the first 5 prime numbers\n",
    "prime_numbers_list = [num for num in range(2, 100) if is_prime(num)][:5]\n",
    "\n",
    "# Convert the list to a tuple\n",
    "prime_numbers_tuple = tuple(prime_numbers_list)\n",
    "\n",
    "# Print the tuple of prime numbers\n",
    "print(\"Tuple of the first 5 prime numbers:\", prime_numbers_tuple)"
   ]
  },
  {
   "cell_type": "markdown",
   "id": "e8103fab",
   "metadata": {},
   "source": [
    "3. Check if a tuple is a palindrome."
   ]
  },
  {
   "cell_type": "code",
   "execution_count": 21,
   "id": "2b6b78cc",
   "metadata": {},
   "outputs": [
    {
     "name": "stdout",
     "output_type": "stream",
     "text": [
      "Tuple is Palinddrome\n"
     ]
    }
   ],
   "source": [
    "tupl=(1,2,3,4,3,2,1)\n",
    "if tupl==tupl[::-1]:\n",
    "    print(\"Tuple is Palinddrome\")\n",
    "else:\n",
    "    print(\"Tuple is not Palindrome\")"
   ]
  },
  {
   "cell_type": "markdown",
   "id": "a8d8b07f",
   "metadata": {},
   "source": [
    "34. Create a tuple of squares of numbers from 1 to 5."
   ]
  },
  {
   "cell_type": "code",
   "execution_count": 23,
   "id": "490efa7b",
   "metadata": {},
   "outputs": [
    {
     "name": "stdout",
     "output_type": "stream",
     "text": [
      "Squared Tuple is: (1, 4, 9, 16, 25)\n"
     ]
    }
   ],
   "source": [
    "n=5\n",
    "squared_tupl=tuple(x**2 for x in range(1,n+1))\n",
    "print(\"Squared Tuple is:\",squared_tupl)"
   ]
  },
  {
   "cell_type": "markdown",
   "id": "2702cd21",
   "metadata": {},
   "source": [
    "35. Filter out all even numbers from a tuple."
   ]
  },
  {
   "cell_type": "code",
   "execution_count": 26,
   "id": "c0ea6dac",
   "metadata": {},
   "outputs": [
    {
     "name": "stdout",
     "output_type": "stream",
     "text": [
      "Even number Tuple: [2, 4, 6, 8, 10]\n"
     ]
    }
   ],
   "source": [
    "original_tuple = (1, 2, 3, 4, 5, 6, 7, 8, 9, 10)\n",
    "even_tupl=[x for x in original_tuple if x%2==0]\n",
    "print(\"Even number Tuple:\",even_tupl)"
   ]
  },
  {
   "cell_type": "markdown",
   "id": "c8d63395",
   "metadata": {},
   "source": [
    "36. Multiply all elements in a tuple by 2."
   ]
  },
  {
   "cell_type": "code",
   "execution_count": 27,
   "id": "b539c250",
   "metadata": {},
   "outputs": [
    {
     "name": "stdout",
     "output_type": "stream",
     "text": [
      "Multiplied Tuple: [2, 4, 6, 8, 10, 12, 14, 16, 18, 20]\n"
     ]
    }
   ],
   "source": [
    "original_tuple = (1, 2, 3, 4, 5, 6, 7, 8, 9, 10)\n",
    "mul_tupl=[x*2 for x in original_tuple ]\n",
    "print(\"Multiplied Tuple:\",mul_tupl)"
   ]
  },
  {
   "cell_type": "markdown",
   "id": "03f27f65",
   "metadata": {},
   "source": [
    "37. Create a tuple of random numbers."
   ]
  },
  {
   "cell_type": "code",
   "execution_count": 28,
   "id": "eeba88f8",
   "metadata": {},
   "outputs": [
    {
     "name": "stdout",
     "output_type": "stream",
     "text": [
      "Random Tuple: (26, 13, 93, 38, 35, 70, 96, 71, 96, 25)\n"
     ]
    }
   ],
   "source": [
    "import random\n",
    "rand_tupl=tuple(random.randint(1,100) for i in range(10))\n",
    "print(\"Random Tuple:\",rand_tupl)"
   ]
  },
  {
   "cell_type": "markdown",
   "id": "23f5282f",
   "metadata": {},
   "source": [
    "38. Check if a tuple is sorted."
   ]
  },
  {
   "cell_type": "code",
   "execution_count": 57,
   "id": "0a110304",
   "metadata": {},
   "outputs": [
    {
     "name": "stdout",
     "output_type": "stream",
     "text": [
      "Tuple is sorted\n"
     ]
    }
   ],
   "source": [
    "def is_sorted(tupl):\n",
    "    for i in range((len(tupl)-1)):\n",
    "        if tupl[i]>tupl[i+1]:\n",
    "            return False\n",
    "    return True\n",
    "sorted_tupl=(10,20,30,40,50,60,70)\n",
    "res=is_sorted(sorted_tupl)\n",
    "if res==True:\n",
    "    print(\"Tuple is sorted\")\n",
    "else:\n",
    "     print(\"Tuple is not Sorted\")"
   ]
  },
  {
   "cell_type": "markdown",
   "id": "250d015a",
   "metadata": {},
   "source": [
    "39. Rotate a tuple to the left by `n` positions."
   ]
  },
  {
   "cell_type": "code",
   "execution_count": 59,
   "id": "2d773fc9",
   "metadata": {},
   "outputs": [
    {
     "name": "stdout",
     "output_type": "stream",
     "text": [
      "Tuple after Left Rotation: (30, 40, 50, 10, 20)\n"
     ]
    }
   ],
   "source": [
    "def rotate_tupl(tupl,n):\n",
    "    rotate_left_tupl=tupl[n:]+tupl[:n]\n",
    "    return rotate_left_tupl\n",
    "tupl=(10,20,30,40,50)\n",
    "n=2\n",
    "res=rotate_tupl(tupl,n)\n",
    "print(\"Tuple after Left Rotation:\",res)"
   ]
  },
  {
   "cell_type": "markdown",
   "id": "c603a809",
   "metadata": {},
   "source": [
    "40. Rotate a tuple to the right by `n` positions."
   ]
  },
  {
   "cell_type": "code",
   "execution_count": 60,
   "id": "bf711beb",
   "metadata": {},
   "outputs": [
    {
     "name": "stdout",
     "output_type": "stream",
     "text": [
      "Tuple after Right rotation: (40, 50, 10, 20, 30)\n"
     ]
    }
   ],
   "source": [
    "def rotate_right(tupl,n_position):\n",
    "    right_rotation=tupl[-n:]+tupl[:-n]\n",
    "    return right_rotation\n",
    "original_tupl=(10,20,30,40,50)\n",
    "n_position=2\n",
    "res=rotate_right(original_tupl,n_position)\n",
    "print(\"Tuple after Right rotation:\",res)"
   ]
  },
  {
   "cell_type": "markdown",
   "id": "bc913590",
   "metadata": {},
   "source": [
    "41. Create a tuple of the first 5 Fibonacci numbers."
   ]
  },
  {
   "cell_type": "code",
   "execution_count": 61,
   "id": "9732cbc0",
   "metadata": {},
   "outputs": [
    {
     "name": "stdout",
     "output_type": "stream",
     "text": [
      "Fibonacci Series is: (0, 1, 1, 2, 3)\n"
     ]
    }
   ],
   "source": [
    "def fibonacci(n):\n",
    "    fib=[0,1]\n",
    "    while len(fib)<n:\n",
    "        next_fib=fib[-1]+fib[-2]\n",
    "        fib.append(next_fib)\n",
    "    return tuple(fib)\n",
    "n=5\n",
    "res=fibonacci(n)\n",
    "print(\"Fibonacci Series is:\",res)"
   ]
  },
  {
   "cell_type": "markdown",
   "id": "b7a7d0a9",
   "metadata": {},
   "source": [
    "42. Create a tuple from user input."
   ]
  },
  {
   "cell_type": "code",
   "execution_count": 62,
   "id": "9a058abf",
   "metadata": {},
   "outputs": [
    {
     "name": "stdout",
     "output_type": "stream",
     "text": [
      "Enter elements separated by commas: t,h,i,s,i,s,a,b,o,o,k\n",
      "User input tuple: ('t', 'h', 'i', 's', 'i', 's', 'a', 'b', 'o', 'o', 'k')\n"
     ]
    }
   ],
   "source": [
    "# Taking user input for creating a tuple\n",
    "input_str = input(\"Enter elements separated by commas: \")\n",
    "\n",
    "# Splitting the input string into a list of strings\n",
    "input_list = input_str.split(',')\n",
    "\n",
    "# Converting the list of strings to a tuple\n",
    "user_tuple = tuple(input_list)\n",
    "\n",
    "# Printing the created tuple\n",
    "print(\"User input tuple:\", user_tuple)"
   ]
  },
  {
   "cell_type": "markdown",
   "id": "06a3b0b4",
   "metadata": {},
   "source": [
    "43. Swap two elements in a tuple."
   ]
  },
  {
   "cell_type": "code",
   "execution_count": 69,
   "id": "602a757a",
   "metadata": {},
   "outputs": [
    {
     "name": "stdout",
     "output_type": "stream",
     "text": [
      "Swapped tuple: (1, 4, 3, 2, 5)\n"
     ]
    }
   ],
   "source": [
    "# Create a tuple\n",
    "my_tuple = (1, 2, 3, 4, 5)\n",
    "\n",
    "# Swap elements at indices 1 and 3\n",
    "index1 = 1\n",
    "index2 = 3\n",
    "swapped_tuple = tuple(\n",
    "    my_tuple[i] if i not in (index1, index2) else\n",
    "    my_tuple[index2] if i == index1 else\n",
    "    my_tuple[index1]\n",
    "    for i in range(len(my_tuple))\n",
    ")\n",
    "\n",
    "# Print the swapped tuple\n",
    "print(\"Swapped tuple:\", swapped_tuple)"
   ]
  },
  {
   "cell_type": "markdown",
   "id": "be7d688f",
   "metadata": {},
   "source": [
    "44. Reverse the elements of a tuple."
   ]
  },
  {
   "cell_type": "code",
   "execution_count": 70,
   "id": "c9cce91c",
   "metadata": {},
   "outputs": [
    {
     "name": "stdout",
     "output_type": "stream",
     "text": [
      "Reversed tuple: (5, 4, 3, 2, 1)\n"
     ]
    }
   ],
   "source": [
    "# Create a tuple\n",
    "my_tuple = (1, 2, 3, 4, 5)\n",
    "\n",
    "# Reverse the elements using slicing\n",
    "reversed_tuple = my_tuple[::-1]\n",
    "\n",
    "# Print the reversed tuple\n",
    "print(\"Reversed tuple:\", reversed_tuple)"
   ]
  },
  {
   "cell_type": "markdown",
   "id": "1428f42a",
   "metadata": {},
   "source": [
    "45. Create a tuple of the first `n` powers of 2."
   ]
  },
  {
   "cell_type": "code",
   "execution_count": 71,
   "id": "bf7c544b",
   "metadata": {},
   "outputs": [
    {
     "name": "stdout",
     "output_type": "stream",
     "text": [
      "Tuple of the first 5 powers of 2: (1, 2, 4, 8, 16)\n"
     ]
    }
   ],
   "source": [
    "# Define the value of n\n",
    "n = 5\n",
    "\n",
    "# Create a tuple of the first n powers of 2 using a list comprehension\n",
    "powers_of_2_tuple = tuple(2 ** i for i in range(n))\n",
    "\n",
    "# Print the tuple of powers of 2\n",
    "print(\"Tuple of the first\", n, \"powers of 2:\", powers_of_2_tuple)"
   ]
  },
  {
   "cell_type": "markdown",
   "id": "0ed87586",
   "metadata": {},
   "source": [
    "46. Find the longest string in a tuple of strings."
   ]
  },
  {
   "cell_type": "code",
   "execution_count": 72,
   "id": "785b341f",
   "metadata": {},
   "outputs": [
    {
     "name": "stdout",
     "output_type": "stream",
     "text": [
      "Longest string: watermelon\n"
     ]
    }
   ],
   "source": [
    "# Create a tuple of strings\n",
    "string_tuple = (\"apple\", \"banana\", \"grape\", \"kiwi\", \"watermelon\")\n",
    "\n",
    "# Find the longest string in the tuple\n",
    "longest_string = max(string_tuple)\n",
    "\n",
    "# Print the longest string\n",
    "print(\"Longest string:\", longest_string)"
   ]
  },
  {
   "cell_type": "markdown",
   "id": "622bfa2c",
   "metadata": {},
   "source": [
    "47. Find the shortest string in a tuple of strings."
   ]
  },
  {
   "cell_type": "code",
   "execution_count": 73,
   "id": "65bc5e21",
   "metadata": {},
   "outputs": [
    {
     "name": "stdout",
     "output_type": "stream",
     "text": [
      "Shortest string: kiwi\n"
     ]
    }
   ],
   "source": [
    "# Create a tuple of strings\n",
    "string_tuple = (\"apple\", \"banana\", \"grape\", \"kiwi\", \"watermelon\")\n",
    "\n",
    "# Find the shortest string in the tuple\n",
    "shortest_string = min(string_tuple, key=len)\n",
    "\n",
    "# Print the shortest string\n",
    "print(\"Shortest string:\", shortest_string)"
   ]
  },
  {
   "cell_type": "markdown",
   "id": "ec09767f",
   "metadata": {},
   "source": [
    "8. Create a tuple of the first `n` triangular numbers."
   ]
  },
  {
   "cell_type": "code",
   "execution_count": 74,
   "id": "5cedfbc5",
   "metadata": {},
   "outputs": [
    {
     "name": "stdout",
     "output_type": "stream",
     "text": [
      "Tuple of the first 5 triangular numbers: (1, 3, 6, 10, 15)\n"
     ]
    }
   ],
   "source": [
    "# Define the value of n\n",
    "n = 5\n",
    "\n",
    "# Create a tuple of the first n triangular numbers using a list comprehension\n",
    "triangular_numbers_tuple = tuple((i * (i + 1)) // 2 for i in range(1, n + 1))\n",
    "\n",
    "# Print the tuple of triangular numbers\n",
    "print(\"Tuple of the first\", n, \"triangular numbers:\", triangular_numbers_tuple)"
   ]
  },
  {
   "cell_type": "markdown",
   "id": "0aef464b",
   "metadata": {},
   "source": [
    "49. Check if a tuple contains another tuple as a subsequence."
   ]
  },
  {
   "cell_type": "code",
   "execution_count": 75,
   "id": "2ee4be22",
   "metadata": {},
   "outputs": [
    {
     "name": "stdout",
     "output_type": "stream",
     "text": [
      "Main tuple contains subsequence tuple: True\n"
     ]
    }
   ],
   "source": [
    "# Function to check if a tuple contains another tuple as a subsequence\n",
    "def contains_subsequence(main_tuple, sub_tuple):\n",
    "    sub_length = len(sub_tuple)\n",
    "    for i in range(len(main_tuple) - sub_length + 1):\n",
    "        if main_tuple[i:i+sub_length] == sub_tuple:\n",
    "            return True\n",
    "    return False\n",
    "\n",
    "# Main tuple\n",
    "main_tuple = (1, 2, 3, 4, 5, 6, 7, 8, 9)\n",
    "\n",
    "# Subsequence tuple\n",
    "sub_tuple = (3, 4, 5)\n",
    "\n",
    "# Check if the main tuple contains the subsequence tuple\n",
    "contains_subseq = contains_subsequence(main_tuple, sub_tuple)\n",
    "\n",
    "# Print the result\n",
    "print(\"Main tuple contains subsequence tuple:\", contains_subseq)"
   ]
  },
  {
   "cell_type": "markdown",
   "id": "8f2678d6",
   "metadata": {},
   "source": [
    " 50. Create a tuple of alternating 1s and 0s of length `n`."
   ]
  },
  {
   "cell_type": "code",
   "execution_count": 76,
   "id": "e3f39de3",
   "metadata": {},
   "outputs": [
    {
     "name": "stdout",
     "output_type": "stream",
     "text": [
      "Tuple of alternating 1s and 0s: (0, 1, 0, 1, 0, 1, 0, 1, 0, 1)\n"
     ]
    }
   ],
   "source": [
    "# Define the value of n\n",
    "n = 10\n",
    "\n",
    "# Create a tuple of alternating 1s and 0s using a list comprehension\n",
    "alternating_tuple = tuple(i % 2 for i in range(n))\n",
    "\n",
    "# Print the tuple of alternating 1s and 0s\n",
    "print(\"Tuple of alternating 1s and 0s:\", alternating_tuple)"
   ]
  },
  {
   "cell_type": "markdown",
   "id": "5440c8e0",
   "metadata": {},
   "source": [
    "## **Set based problems:**"
   ]
  },
  {
   "cell_type": "markdown",
   "id": "e2189fed",
   "metadata": {},
   "source": [
    "1. Create a set with integers from 1 to 5"
   ]
  },
  {
   "cell_type": "code",
   "execution_count": 79,
   "id": "c5e02fd6",
   "metadata": {},
   "outputs": [
    {
     "name": "stdout",
     "output_type": "stream",
     "text": [
      "{1, 2, 3, 4, 5}\n",
      "<class 'set'>\n"
     ]
    }
   ],
   "source": [
    "my_set={1,2,3,4,5}\n",
    "print(my_set)\n",
    "print(type(my_set))"
   ]
  },
  {
   "cell_type": "markdown",
   "id": "f716f584",
   "metadata": {},
   "source": [
    "2. Add an element to a set"
   ]
  },
  {
   "cell_type": "code",
   "execution_count": 84,
   "id": "273ad60a",
   "metadata": {},
   "outputs": [
    {
     "name": "stdout",
     "output_type": "stream",
     "text": [
      "Original set: {1, 2, 3, 4, 5}\n",
      "Set After Adding Element: {1, 2, 3, 4, 5, 6}\n"
     ]
    }
   ],
   "source": [
    "my_set={1,2,3,4,5}\n",
    "print(\"Original set:\",my_set)\n",
    "my_set.add(6)\n",
    "print(\"Set After Adding Element:\",my_set)"
   ]
  },
  {
   "cell_type": "markdown",
   "id": "18358955",
   "metadata": {},
   "source": [
    "3. Remove an element from a set."
   ]
  },
  {
   "cell_type": "code",
   "execution_count": 85,
   "id": "f2232f3a",
   "metadata": {},
   "outputs": [
    {
     "name": "stdout",
     "output_type": "stream",
     "text": [
      "Enter any Element to remove:3\n",
      "Set after removal of Element: {1, 2, 4, 5}\n"
     ]
    }
   ],
   "source": [
    "my_set={1,2,3,4,5}\n",
    "ele_rem=int(input(\"Enter any Element to remove:\"))\n",
    "my_set.remove(ele_rem)\n",
    "print(\"Set after removal of Element:\",my_set)"
   ]
  },
  {
   "cell_type": "markdown",
   "id": "fdf670ca",
   "metadata": {},
   "source": [
    "4. Check if an element exists in a set."
   ]
  },
  {
   "cell_type": "code",
   "execution_count": 90,
   "id": "afd07e69",
   "metadata": {},
   "outputs": [
    {
     "name": "stdout",
     "output_type": "stream",
     "text": [
      "Enter any Element to remove:4\n",
      "Element Exist\n"
     ]
    }
   ],
   "source": [
    "my_set={1,2,3,4,5}\n",
    "ele_check=int(input(\"Enter any Element to remove:\"))\n",
    "if ele_check in my_set:\n",
    "    print(\"Element Exist\")\n",
    "else:\n",
    "    print(\"Element dont Exist\")\n",
    "          "
   ]
  },
  {
   "cell_type": "markdown",
   "id": "c860e3ec",
   "metadata": {},
   "source": [
    "5. Find the length of a set without using the `len()` function"
   ]
  },
  {
   "cell_type": "code",
   "execution_count": 91,
   "id": "c93fea47",
   "metadata": {},
   "outputs": [
    {
     "name": "stdout",
     "output_type": "stream",
     "text": [
      "Length of set is: 5\n"
     ]
    }
   ],
   "source": [
    "my_set={1,2,3,4,5}\n",
    "count=0\n",
    "for i in my_set:\n",
    "    count+=1\n",
    "print(\"Length of set is:\",count)"
   ]
  },
  {
   "cell_type": "markdown",
   "id": "fc21d075",
   "metadata": {},
   "source": [
    "6. Clear all elements from a set."
   ]
  },
  {
   "cell_type": "code",
   "execution_count": 94,
   "id": "d1140d17",
   "metadata": {},
   "outputs": [
    {
     "name": "stdout",
     "output_type": "stream",
     "text": [
      "Set before Clearing: {1, 2, 3, 4, 5}\n",
      "Set after Clearing: set()\n"
     ]
    }
   ],
   "source": [
    "my_set={1,2,3,4,5}\n",
    "print(\"Set before Clearing:\",my_set)\n",
    "my_set.clear()\n",
    "print(\"Set after Clearing:\",my_set)"
   ]
  },
  {
   "cell_type": "markdown",
   "id": "ddb9b580",
   "metadata": {},
   "source": [
    "7. Create a set of even numbers from 1 to 10"
   ]
  },
  {
   "cell_type": "code",
   "execution_count": 95,
   "id": "e38af254",
   "metadata": {},
   "outputs": [
    {
     "name": "stdout",
     "output_type": "stream",
     "text": [
      "Set of Even Numbers: {2, 4, 6, 8, 10}\n"
     ]
    }
   ],
   "source": [
    "even_set=set()\n",
    "for i in range(1,11):\n",
    "    if i%2==0:\n",
    "        even_set.add(i)\n",
    "print(\"Set of Even Numbers:\",even_set)"
   ]
  },
  {
   "cell_type": "markdown",
   "id": "f3526952",
   "metadata": {},
   "source": [
    "8. Create a set of odd numbers from 1 to 10"
   ]
  },
  {
   "cell_type": "code",
   "execution_count": 96,
   "id": "1ec29330",
   "metadata": {},
   "outputs": [
    {
     "name": "stdout",
     "output_type": "stream",
     "text": [
      "Set of Odd Numbers: {1, 3, 5, 7, 9}\n"
     ]
    }
   ],
   "source": [
    "odd_set=set()\n",
    "for i in range(1,11):\n",
    "    if i%2!=0:\n",
    "        odd_set.add(i)\n",
    "print(\"Set of Odd Numbers:\",odd_set)"
   ]
  },
  {
   "cell_type": "markdown",
   "id": "20fed70d",
   "metadata": {},
   "source": [
    "9. Find the union of two sets"
   ]
  },
  {
   "cell_type": "code",
   "execution_count": 98,
   "id": "e9da9712",
   "metadata": {},
   "outputs": [
    {
     "name": "stdout",
     "output_type": "stream",
     "text": [
      "Union of both Set is: {1, 2, 3, 4, 5, 6, 7, 8, 9}\n"
     ]
    }
   ],
   "source": [
    "my_set1={1,2,3,4,5,6}\n",
    "my_set2={4,5,6,7,8,9}\n",
    "union_set=my_set1.union(my_set2)\n",
    "print(\"Union of both Set is:\",union_set)"
   ]
  },
  {
   "cell_type": "markdown",
   "id": "b473e079",
   "metadata": {},
   "source": [
    "10. Find the intersection of two sets"
   ]
  },
  {
   "cell_type": "code",
   "execution_count": 99,
   "id": "e9aa55f8",
   "metadata": {},
   "outputs": [
    {
     "name": "stdout",
     "output_type": "stream",
     "text": [
      "Intersection of both Set is: {4, 5, 6}\n"
     ]
    }
   ],
   "source": [
    "my_set1={1,2,3,4,5,6}\n",
    "my_set2={4,5,6,7,8,9}\n",
    "inter_set=my_set1.intersection(my_set2)\n",
    "print(\"Intersection of both Set is:\",inter_set)"
   ]
  },
  {
   "cell_type": "markdown",
   "id": "ad5e4555",
   "metadata": {},
   "source": [
    "11. Find the difference between two sets."
   ]
  },
  {
   "cell_type": "code",
   "execution_count": 100,
   "id": "90246a5e",
   "metadata": {},
   "outputs": [
    {
     "name": "stdout",
     "output_type": "stream",
     "text": [
      "Difference of both Set is: {1, 2, 3}\n"
     ]
    }
   ],
   "source": [
    "my_set1={1,2,3,4,5,6}\n",
    "my_set2={4,5,6,7,8,9}\n",
    "diff_set=my_set1.difference(my_set2)\n",
    "print(\"Difference of both Set is:\",diff_set)"
   ]
  },
  {
   "cell_type": "markdown",
   "id": "06b3ec9c",
   "metadata": {},
   "source": [
    "12. Check if a set is a subset of another set."
   ]
  },
  {
   "cell_type": "code",
   "execution_count": 101,
   "id": "9e27ed9f",
   "metadata": {},
   "outputs": [
    {
     "name": "stdout",
     "output_type": "stream",
     "text": [
      "Set2 is Subset of Set1: True\n"
     ]
    }
   ],
   "source": [
    "my_set1={1,2,3,4,5,6}\n",
    "my_set2={4,5,6,}\n",
    "sub_set=my_set2.issubset(my_set1)\n",
    "print(\"Set2 is Subset of Set1:\",sub_set)"
   ]
  },
  {
   "cell_type": "markdown",
   "id": "ab4c94d5",
   "metadata": {},
   "source": [
    "13. Check if a set is a superset of another set."
   ]
  },
  {
   "cell_type": "code",
   "execution_count": 104,
   "id": "d5ee2e63",
   "metadata": {},
   "outputs": [
    {
     "name": "stdout",
     "output_type": "stream",
     "text": [
      "Set1 is Superset of Set2: True\n"
     ]
    }
   ],
   "source": [
    "my_set1={1,2,3,4,5,6}\n",
    "my_set2={4,5,6}\n",
    "super_set=my_set1.issuperset(my_set2)\n",
    "print(\"Set1 is Superset of Set2:\",super_set)"
   ]
  },
  {
   "cell_type": "markdown",
   "id": "fef442c5",
   "metadata": {},
   "source": [
    "14. Create a set from a list"
   ]
  },
  {
   "cell_type": "code",
   "execution_count": 107,
   "id": "83cb5a91",
   "metadata": {},
   "outputs": [
    {
     "name": "stdout",
     "output_type": "stream",
     "text": [
      "original list: [1, 2, 3, 4, 5, 6]\n",
      "Set after Conversion of list: {1, 2, 3, 4, 5, 6}\n"
     ]
    }
   ],
   "source": [
    "lst=[1,2,3,4,5,6]\n",
    "print(\"original list:\",lst)\n",
    "my_set=set(lst)\n",
    "print(\"Set after Conversion of list:\",my_set)"
   ]
  },
  {
   "cell_type": "markdown",
   "id": "20c0d376",
   "metadata": {},
   "source": [
    "15. Convert a set to a list"
   ]
  },
  {
   "cell_type": "code",
   "execution_count": 109,
   "id": "8e4e1b52",
   "metadata": {},
   "outputs": [
    {
     "name": "stdout",
     "output_type": "stream",
     "text": [
      "original Set: {1, 2, 3, 4, 5, 6}\n",
      "List after Conversion of set: [1, 2, 3, 4, 5, 6]\n"
     ]
    }
   ],
   "source": [
    "my_set={1,2,3,4,5,6}\n",
    "print(\"original Set:\",my_set)\n",
    "my_lst=list(my_set)\n",
    "print(\"List after Conversion of set:\",my_lst)"
   ]
  },
  {
   "cell_type": "markdown",
   "id": "57357eb9",
   "metadata": {},
   "source": [
    "16. Remove a random element from a set."
   ]
  },
  {
   "cell_type": "code",
   "execution_count": 117,
   "id": "0b1d814f",
   "metadata": {},
   "outputs": [
    {
     "name": "stdout",
     "output_type": "stream",
     "text": [
      "Set after removing random Element: {1, 2, 3, 4, 6}\n"
     ]
    }
   ],
   "source": [
    "import random\n",
    "my_set={1,2,3,4,5,6}\n",
    "random_ele=random.choice(list(my_set))\n",
    "my_set.remove(random_ele)\n",
    "print(\"Set after removing random Element:\",my_set)"
   ]
  },
  {
   "cell_type": "markdown",
   "id": "9960a0ae",
   "metadata": {},
   "source": [
    "17. Pop an element from a set."
   ]
  },
  {
   "cell_type": "code",
   "execution_count": 115,
   "id": "a0b433ed",
   "metadata": {},
   "outputs": [
    {
     "name": "stdout",
     "output_type": "stream",
     "text": [
      "Popped Element is: 1\n",
      "Set after pop: {2, 3, 4, 5, 6}\n"
     ]
    }
   ],
   "source": [
    "my_set={1,2,3,4,5,6}\n",
    "popped_ele=my_set.pop()\n",
    "print(\"Popped Element is:\",popped_ele)\n",
    "print(\"Set after pop:\",my_set)"
   ]
  },
  {
   "cell_type": "markdown",
   "id": "4d8aef6a",
   "metadata": {},
   "source": [
    "18. Check if two sets have no elements in common."
   ]
  },
  {
   "cell_type": "code",
   "execution_count": 119,
   "id": "ca12a4c0",
   "metadata": {},
   "outputs": [
    {
     "name": "stdout",
     "output_type": "stream",
     "text": [
      "Two sets Don't have Common Elements\n"
     ]
    }
   ],
   "source": [
    "my_set1={1,2,3,4,5,6}\n",
    "my_set2={7,8,9}\n",
    "common=my_set1.intersection(my_set2)\n",
    "if common:\n",
    "    print(\"Two sets have Common Elements\")\n",
    "else:\n",
    "    print(\"Two sets Don't have Common Elements\")\n",
    "\n"
   ]
  },
  {
   "cell_type": "markdown",
   "id": "193be2de",
   "metadata": {},
   "source": [
    " 19. Find the symmetric difference between two sets."
   ]
  },
  {
   "cell_type": "code",
   "execution_count": 120,
   "id": "04206c09",
   "metadata": {},
   "outputs": [
    {
     "name": "stdout",
     "output_type": "stream",
     "text": [
      "Symmetric Difference: {1, 2, 3, 6, 7, 8}\n"
     ]
    }
   ],
   "source": [
    "# Define two sets\n",
    "set1 = {1, 2, 3, 4, 5}\n",
    "set2 = {4, 5, 6, 7, 8}\n",
    "\n",
    "# Calculate the symmetric difference using the ^ operator\n",
    "symmetric_difference = set1 ^ set2\n",
    "\n",
    "# Print the symmetric difference\n",
    "print(\"Symmetric Difference:\", symmetric_difference)"
   ]
  },
  {
   "cell_type": "markdown",
   "id": "17347bcd",
   "metadata": {},
   "source": [
    "20. Update a set with elements from another set."
   ]
  },
  {
   "cell_type": "code",
   "execution_count": 121,
   "id": "09b86c23",
   "metadata": {},
   "outputs": [
    {
     "name": "stdout",
     "output_type": "stream",
     "text": [
      "Set 1: {1, 2, 3}\n",
      "Set 2: {3, 4, 5}\n",
      "Updated Set 1: {1, 2, 3, 4, 5}\n"
     ]
    }
   ],
   "source": [
    "# Create the first set\n",
    "set1 = {1, 2, 3}\n",
    "print(\"Set 1:\", set1)\n",
    "\n",
    "# Create the second set\n",
    "set2 = {3, 4, 5}\n",
    "print(\"Set 2:\", set2)\n",
    "\n",
    "# Update set1 with elements from set2\n",
    "set1.update(set2)\n",
    "print(\"Updated Set 1:\", set1)"
   ]
  },
  {
   "cell_type": "markdown",
   "id": "2cb6038a",
   "metadata": {},
   "source": [
    "21. Create a set of the first 5 prime numbers."
   ]
  },
  {
   "cell_type": "code",
   "execution_count": 124,
   "id": "4e10060e",
   "metadata": {},
   "outputs": [
    {
     "name": "stdout",
     "output_type": "stream",
     "text": [
      "Set of the first 5 prime numbers: {2, 3, 5, 7, 11}\n"
     ]
    }
   ],
   "source": [
    "def is_prime(num):\n",
    "    if num <= 1:\n",
    "        return False\n",
    "    for i in range(2, int(num ** 0.5) + 1):\n",
    "        if num % i == 0:\n",
    "            return False\n",
    "    return True\n",
    "\n",
    "# Create an empty set to store the prime numbers\n",
    "prime_set = set()\n",
    "\n",
    "# Initialize the number to start checking for primes\n",
    "num = 2\n",
    "\n",
    "# Loop until we have found the first 5 prime numbers\n",
    "while len(prime_set) < 5:\n",
    "    # Check if the current number is prime using the is_prime function\n",
    "    if is_prime(num):\n",
    "        # If the number is prime, add it to the prime_set\n",
    "        prime_set.add(num)\n",
    "\n",
    "    # Move on to the next number for the next iteration\n",
    "    num += 1\n",
    "\n",
    "# Print the set of prime numbers\n",
    "print(\"Set of the first 5 prime numbers:\", prime_set)"
   ]
  },
  {
   "cell_type": "markdown",
   "id": "32299ec3",
   "metadata": {},
   "source": [
    "22. Check if two sets are identical."
   ]
  },
  {
   "cell_type": "code",
   "execution_count": 126,
   "id": "c68a6ffb",
   "metadata": {},
   "outputs": [
    {
     "name": "stdout",
     "output_type": "stream",
     "text": [
      "The sets are identical.\n"
     ]
    }
   ],
   "source": [
    "# Step 1: Define two sets\n",
    "set1 = {1, 2, 3, 4, 5}\n",
    "set2 = {3, 1, 5, 2, 4} \n",
    "\n",
    "# Step 2: Check if the sets are identical using the `==` operator\n",
    "if set1 == set2:\n",
    "    print(\"The sets are identical.\")\n",
    "else:\n",
    "    print(\"The sets are not identical.\")"
   ]
  },
  {
   "cell_type": "markdown",
   "id": "b7a17d5c",
   "metadata": {},
   "source": [
    "23. Create a frozen set"
   ]
  },
  {
   "cell_type": "code",
   "execution_count": 127,
   "id": "e1f22457",
   "metadata": {},
   "outputs": [
    {
     "name": "stdout",
     "output_type": "stream",
     "text": [
      "Frozen Set: frozenset({1, 2, 3, 4, 5})\n"
     ]
    }
   ],
   "source": [
    "elements = [1, 2, 3, 4, 5]\n",
    "\n",
    "# Step 3: Create a frozen set using the 'frozenset' constructor and passing the list of elements\n",
    "my_frozen_set = frozenset(elements)\n",
    "\n",
    "# Step 4: Print the frozen set\n",
    "print(\"Frozen Set:\", my_frozen_set)"
   ]
  },
  {
   "cell_type": "markdown",
   "id": "503e5309",
   "metadata": {},
   "source": [
    "24. Check if a set is disjoint with another set."
   ]
  },
  {
   "cell_type": "code",
   "execution_count": 128,
   "id": "cebe060e",
   "metadata": {},
   "outputs": [
    {
     "name": "stdout",
     "output_type": "stream",
     "text": [
      "Are the sets disjoint? True\n"
     ]
    }
   ],
   "source": [
    "# Step 1: Define the two sets you want to check for disjointness\n",
    "set1 = {1, 2, 3, 4}\n",
    "set2 = {5, 6, 7, 8}\n",
    "\n",
    "disjoint_status = set1.isdisjoint(set2)\n",
    "\n",
    "# Step 3: Print the result\n",
    "print(\"Are the sets disjoint?\", disjoint_status)"
   ]
  },
  {
   "cell_type": "markdown",
   "id": "5a078b53",
   "metadata": {},
   "source": [
    "25. Create a set of squares of numbers from 1 to 5."
   ]
  },
  {
   "cell_type": "code",
   "execution_count": 134,
   "id": "13c685b6",
   "metadata": {},
   "outputs": [
    {
     "name": "stdout",
     "output_type": "stream",
     "text": [
      "Squared Set is: {1, 4, 9, 16, 25}\n"
     ]
    }
   ],
   "source": [
    "square_set=set()\n",
    "for i in range(1,6):\n",
    "    squares=i**2\n",
    "    square_set.add(squares)\n",
    "print(\"Squared Set is:\",square_set)"
   ]
  },
  {
   "cell_type": "markdown",
   "id": "62957a5f",
   "metadata": {},
   "source": [
    "26. Filter out all even numbers from a set."
   ]
  },
  {
   "cell_type": "code",
   "execution_count": 135,
   "id": "58893ac3",
   "metadata": {},
   "outputs": [
    {
     "name": "stdout",
     "output_type": "stream",
     "text": [
      "{10, 12, 14, 16, 18}\n"
     ]
    }
   ],
   "source": [
    "org_set={10,12,13,14,15,16,17,18}\n",
    "even_set=[x for x in org_set if x%2==0]\n",
    "s=set(even_set)\n",
    "print(\"Set of Even Numbers\",s)"
   ]
  },
  {
   "cell_type": "markdown",
   "id": "6d56108f",
   "metadata": {},
   "source": [
    "27. Multiply all elements in a set by 2."
   ]
  },
  {
   "cell_type": "code",
   "execution_count": 139,
   "id": "29c00772",
   "metadata": {},
   "outputs": [
    {
     "name": "stdout",
     "output_type": "stream",
     "text": [
      "multiplied set: {2, 4, 6, 8, 10, 12}\n"
     ]
    }
   ],
   "source": [
    "org_set={1,2,3,4,5,6}\n",
    "mul_set=set()\n",
    "for i in org_set:\n",
    "    mul=i*2\n",
    "    mul_set.add(mul)\n",
    "print(\"multiplied set:\",mul_set)"
   ]
  },
  {
   "cell_type": "markdown",
   "id": "7a50566d",
   "metadata": {},
   "source": [
    "28. Create a set of random numbers."
   ]
  },
  {
   "cell_type": "code",
   "execution_count": 141,
   "id": "1e9032c7",
   "metadata": {},
   "outputs": [
    {
     "name": "stdout",
     "output_type": "stream",
     "text": [
      "Set of Random Num: {69, 12, 52, 91, 60}\n"
     ]
    }
   ],
   "source": [
    "import random\n",
    "n=5\n",
    "random_set=set()\n",
    "for i in range(n):\n",
    "    random_num=random.randint(1,100)\n",
    "    random_set.add(random_num)\n",
    "print(\"Set of Random Num:\",random_set)\n"
   ]
  },
  {
   "cell_type": "markdown",
   "id": "a3e466d8",
   "metadata": {},
   "source": [
    "29. Check if a set is empty.\n"
   ]
  },
  {
   "cell_type": "code",
   "execution_count": 142,
   "id": "77ce0378",
   "metadata": {},
   "outputs": [
    {
     "name": "stdout",
     "output_type": "stream",
     "text": [
      "The set is empty.\n"
     ]
    }
   ],
   "source": [
    "# Step 1: Create a set (you can replace this with your own set)\n",
    "my_set = set()\n",
    "\n",
    "# Step 2: Check if the set is empty using the 'if' statement\n",
    "if not my_set:\n",
    "    print(\"The set is empty.\")\n",
    "else:\n",
    "    print(\"The set is not empty.\")"
   ]
  },
  {
   "cell_type": "markdown",
   "id": "f15616e8",
   "metadata": {},
   "source": [
    "30. Create a nested set (hint: use frozenset)."
   ]
  },
  {
   "cell_type": "code",
   "execution_count": 145,
   "id": "ae2f0fdd",
   "metadata": {},
   "outputs": [
    {
     "name": "stdout",
     "output_type": "stream",
     "text": [
      "Nested Set: {frozenset({1, 2, 3, 4, 5}), frozenset({6, 7, 8, 9, 10})}\n"
     ]
    }
   ],
   "source": [
    "# Step 1: Create the inner sets\n",
    "set1 = {1, 2, 3, 4, 5}\n",
    "set2 = {6, 7, 8, 9, 10}\n",
    "\n",
    "# Step 2: Create frozensets from the inner sets\n",
    "frozen_set1 = frozenset(set1)\n",
    "frozen_set2 = frozenset(set2)\n",
    "\n",
    "# Step 3: Create the nested set using the frozensets\n",
    "nested_set = {frozen_set1,frozen_set2}\n",
    "\n",
    "# Print the nested set\n",
    "print(\"Nested Set:\", nested_set)"
   ]
  },
  {
   "cell_type": "markdown",
   "id": "1b5ff52e",
   "metadata": {},
   "source": [
    "31.  Remove an element from a set using the discard method."
   ]
  },
  {
   "cell_type": "code",
   "execution_count": 146,
   "id": "cb3c1796",
   "metadata": {},
   "outputs": [
    {
     "name": "stdout",
     "output_type": "stream",
     "text": [
      "Initial set: {1, 2, 3, 4, 5}\n",
      "Set after removing 3 : {1, 2, 4, 5}\n"
     ]
    }
   ],
   "source": [
    "# Create a set with some elements\n",
    "my_set = {1, 2, 3, 4, 5}\n",
    "print(\"Initial set:\", my_set)\n",
    "\n",
    "# Define the element to be removed\n",
    "element_to_remove = 3\n",
    "my_set.discard(element_to_remove)\n",
    "\n",
    "# Display the set after removing the element\n",
    "print(\"Set after removing\", element_to_remove, \":\", my_set)"
   ]
  },
  {
   "cell_type": "markdown",
   "id": "3aa3704e",
   "metadata": {},
   "source": [
    "32. Compare two sets."
   ]
  },
  {
   "cell_type": "code",
   "execution_count": 147,
   "id": "36972a66",
   "metadata": {},
   "outputs": [
    {
     "name": "stdout",
     "output_type": "stream",
     "text": [
      "Set 1: {1, 2, 3, 4, 5}\n",
      "Set 2: {4, 5, 6, 7, 8}\n",
      "Is set1 a subset of set2? False\n",
      "Is set2 a subset of set1? False\n",
      "Intersection: {4, 5}\n",
      "Union: {1, 2, 3, 4, 5, 6, 7, 8}\n",
      "Elements in set1 but not in set2: {1, 2, 3}\n",
      "Elements in set2 but not in set1: {8, 6, 7}\n"
     ]
    }
   ],
   "source": [
    "# Step 1: Define two sets\n",
    "set1 = {1, 2, 3, 4, 5}\n",
    "set2 = {4, 5, 6, 7, 8}\n",
    "\n",
    "# Step 2: Use set operations to compare the sets\n",
    "# Check if set1 is a subset of set2\n",
    "is_subset = set1.issubset(set2)\n",
    "\n",
    "# Check if set2 is a subset of set1\n",
    "is_superset = set1.issuperset(set2)\n",
    "\n",
    "# Find the intersection of the sets\n",
    "intersection = set1.intersection(set2)\n",
    "\n",
    "# Find the union of the sets\n",
    "union = set1.union(set2)\n",
    "\n",
    "# Find the elements that are in set1 but not in set2\n",
    "difference1 = set1.difference(set2)\n",
    "\n",
    "# Find the elements that are in set2 but not in set1\n",
    "difference2 = set2.difference(set1)\n",
    "\n",
    "# Step 3: Print the results\n",
    "print(\"Set 1:\", set1)\n",
    "print(\"Set 2:\", set2)\n",
    "print(\"Is set1 a subset of set2?\", is_subset)\n",
    "print(\"Is set2 a subset of set1?\", is_superset)\n",
    "print(\"Intersection:\", intersection)\n",
    "print(\"Union:\", union)\n",
    "print(\"Elements in set1 but not in set2:\", difference1)\n",
    "print(\"Elements in set2 but not in set1:\", difference2)"
   ]
  },
  {
   "cell_type": "markdown",
   "id": "89000dfe",
   "metadata": {},
   "source": [
    "33. Create a set from a string."
   ]
  },
  {
   "cell_type": "code",
   "execution_count": 148,
   "id": "9b1fc0a3",
   "metadata": {},
   "outputs": [
    {
     "name": "stdout",
     "output_type": "stream",
     "text": [
      "Set Created from String : {'l', 'e', 'o', 'H'}\n"
     ]
    }
   ],
   "source": [
    "my_str=\"Hello\"\n",
    "my_set=set(my_str)\n",
    "print(\"Set Created from String :\",my_set)"
   ]
  },
  {
   "cell_type": "markdown",
   "id": "3f5d23f4",
   "metadata": {},
   "source": [
    "34. Convert a set of strings to a set of integers."
   ]
  },
  {
   "cell_type": "code",
   "execution_count": 150,
   "id": "2fd3ac87",
   "metadata": {},
   "outputs": [
    {
     "name": "stdout",
     "output_type": "stream",
     "text": [
      "Set of Integer Created is: {456, 123, 789}\n"
     ]
    }
   ],
   "source": [
    "str_set=(\"123\",\"456\",\"789\")\n",
    "int_set=set()\n",
    "for i in str_set:\n",
    "    int_val=int(i)\n",
    "    int_set.add(int_val)\n",
    "print(\"Set of Integer Created is:\",int_set)"
   ]
  },
  {
   "cell_type": "markdown",
   "id": "86dded5e",
   "metadata": {},
   "source": [
    "35. Convert a set of integers to a set of strings."
   ]
  },
  {
   "cell_type": "code",
   "execution_count": 151,
   "id": "79c52ffd",
   "metadata": {},
   "outputs": [
    {
     "name": "stdout",
     "output_type": "stream",
     "text": [
      "Set of String Created is: {'4', '3', '2', '1', '5'}\n"
     ]
    }
   ],
   "source": [
    "int_set=(1,2,3,4,5)\n",
    "str_set=set()\n",
    "for i in int_set:\n",
    "    str_val=str(i)\n",
    "    str_set.add(str_val)\n",
    "print(\"Set of String Created is:\",str_set)"
   ]
  },
  {
   "cell_type": "markdown",
   "id": "c1d61c6c",
   "metadata": {},
   "source": [
    "36. Create a set from a tuple."
   ]
  },
  {
   "cell_type": "code",
   "execution_count": 152,
   "id": "c21c0d30",
   "metadata": {},
   "outputs": [
    {
     "name": "stdout",
     "output_type": "stream",
     "text": [
      "Created Set is: {1, 2, 3, 4, 5}\n"
     ]
    }
   ],
   "source": [
    "input_tupl=(1,2,3,4,5)\n",
    "output_set=set(input_tupl)\n",
    "print(\"Created Set is:\",output_set)\n"
   ]
  },
  {
   "cell_type": "markdown",
   "id": "df68ea50",
   "metadata": {},
   "source": [
    "37. Convert a set to a tuple."
   ]
  },
  {
   "cell_type": "code",
   "execution_count": 153,
   "id": "5e6e41e5",
   "metadata": {},
   "outputs": [
    {
     "name": "stdout",
     "output_type": "stream",
     "text": [
      "Created Tuple is: (1, 2, 3, 4, 5)\n"
     ]
    }
   ],
   "source": [
    "input_set={1,2,3,4,5}\n",
    "output_tupl=tuple(input_set)\n",
    "print(\"Created Tuple is:\",output_tupl)\n"
   ]
  },
  {
   "cell_type": "markdown",
   "id": "15855f80",
   "metadata": {},
   "source": [
    "38. Find the maximum value in a set."
   ]
  },
  {
   "cell_type": "code",
   "execution_count": 163,
   "id": "24b6ddbf",
   "metadata": {},
   "outputs": [
    {
     "name": "stdout",
     "output_type": "stream",
     "text": [
      "Maximum value: 5\n"
     ]
    }
   ],
   "source": [
    "input_set={1,2,3,4,5}\n",
    "max_val= None\n",
    "for num in input_set:\n",
    "    if max_val is None or max_val<num:\n",
    "        max_val=num\n",
    "print(\"Maximum value:\",max_val)"
   ]
  },
  {
   "cell_type": "markdown",
   "id": "aa444774",
   "metadata": {},
   "source": [
    "39. Find the minimum value in a set."
   ]
  },
  {
   "cell_type": "code",
   "execution_count": 164,
   "id": "ef116969",
   "metadata": {},
   "outputs": [
    {
     "name": "stdout",
     "output_type": "stream",
     "text": [
      "Minimum value: 1\n"
     ]
    }
   ],
   "source": [
    "input_set={1,2,3,4,5}\n",
    "min_val= None\n",
    "for num in input_set:\n",
    "    if min_val is None or min_val>num:\n",
    "        min_val=num\n",
    "print(\"Minimum value:\",min_val)"
   ]
  },
  {
   "cell_type": "markdown",
   "id": "18e38560",
   "metadata": {},
   "source": [
    "40. Create a set from user input."
   ]
  },
  {
   "cell_type": "code",
   "execution_count": 168,
   "id": "33a12c1f",
   "metadata": {},
   "outputs": [
    {
     "name": "stdout",
     "output_type": "stream",
     "text": [
      "Enter no of elements you want ot enter in set:5\n",
      "Enter element:11\n",
      "Enter element:22\n",
      "Enter element:33\n",
      "Enter element:44\n",
      "Enter element:55\n",
      "Final Set is: {'44', '33', '22', '11', '55'}\n"
     ]
    }
   ],
   "source": [
    "n=int(input(\"Enter no of elements you want ot enter in set:\"))\n",
    "input_set=set()\n",
    "for i in range(1,n+1):\n",
    "      s=input(\"Enter element:\")\n",
    "      input_set.add(s)\n",
    "print(\"Final Set is:\",input_set)\n"
   ]
  },
  {
   "cell_type": "markdown",
   "id": "249807a4",
   "metadata": {},
   "source": [
    "41. Check if the intersection of two sets is empty."
   ]
  },
  {
   "cell_type": "code",
   "execution_count": 172,
   "id": "5ba06f8d",
   "metadata": {},
   "outputs": [
    {
     "name": "stdout",
     "output_type": "stream",
     "text": [
      "Intersection of two set is not Empty\n"
     ]
    }
   ],
   "source": [
    "set1 = {1, 2, 3, 4, 5}\n",
    "set2 = { 4,5,6, 7, 8}\n",
    "intersection_res=set1.intersection(set2)\n",
    "if intersection_res:\n",
    "    print(\"Intersection of two set is not Empty\")\n",
    "else:\n",
    "    print(\"Intersection of set is Empty\")"
   ]
  },
  {
   "cell_type": "markdown",
   "id": "c7d759aa",
   "metadata": {},
   "source": [
    "42. Create a set of the first 5 Fibonacci numbers."
   ]
  },
  {
   "cell_type": "code",
   "execution_count": 183,
   "id": "cd9c6bb5",
   "metadata": {},
   "outputs": [
    {
     "name": "stdout",
     "output_type": "stream",
     "text": [
      "Set of the first 5 Fibonacci numbers: {0, 1, 2, 3, 5}\n"
     ]
    }
   ],
   "source": [
    "fib_set=set()\n",
    "a,b=0,1\n",
    "for i in range(6):\n",
    "    fib_set.add(a)\n",
    "    a,b=b,a+b\n",
    "print(\"Set of the first 5 Fibonacci numbers:\", fib_set)\n",
    "    "
   ]
  },
  {
   "cell_type": "markdown",
   "id": "efb0ddc6",
   "metadata": {},
   "source": [
    "43. Remove duplicates from a list using sets."
   ]
  },
  {
   "cell_type": "code",
   "execution_count": 184,
   "id": "dc46bf54",
   "metadata": {},
   "outputs": [
    {
     "name": "stdout",
     "output_type": "stream",
     "text": [
      "Original List: [2, 4, 6, 8, 4, 10, 6, 12, 14, 8]\n",
      "List with Duplicates Removed: [2, 4, 6, 8, 10, 12, 14]\n"
     ]
    }
   ],
   "source": [
    "# Step 1: Define a list with duplicates\n",
    "original_list = [2, 4, 6, 8, 4, 10, 6, 12, 14, 8]\n",
    "\n",
    "unique_set = set(original_list)\n",
    "\n",
    "unique_list = list(unique_set)\n",
    "# Now, 'unique_list' is a list containing only unique elements\n",
    "\n",
    "# Step 4: Print the original list and the list with duplicates removed\n",
    "print(\"Original List:\", original_list)\n",
    "print(\"List with Duplicates Removed:\", unique_list)"
   ]
  },
  {
   "cell_type": "markdown",
   "id": "4957b79a",
   "metadata": {},
   "source": [
    "44. Check if two sets have the same elements, regardless of their count."
   ]
  },
  {
   "cell_type": "code",
   "execution_count": 191,
   "id": "53541092",
   "metadata": {},
   "outputs": [
    {
     "name": "stdout",
     "output_type": "stream",
     "text": [
      "[1, 2, 3]\n",
      "The sets have the same elements.\n"
     ]
    }
   ],
   "source": [
    "def have_same_elements(set1, set2):\n",
    "    # Convert the sets to lists and sort them\n",
    "    sorted_list1 = sorted(list(set1))\n",
    "    sorted_list2 = sorted(list(set2))\n",
    "    return sorted_list1 == sorted_list2\n",
    "\n",
    "# Example sets\n",
    "set1 = {1, 2, 3, 2, 1}\n",
    "set2 = {3, 1, 2}\n",
    "result = have_same_elements(set1, set2)\n",
    "# Print the result\n",
    "if result:\n",
    "    print(\"The sets have the same elements.\")\n",
    "else:\n",
    "    print(\"The sets do not have the same elements.\")"
   ]
  },
  {
   "cell_type": "markdown",
   "id": "6820fe65",
   "metadata": {},
   "source": [
    "45. Create a set of the first `n` powers of 2"
   ]
  },
  {
   "cell_type": "code",
   "execution_count": 198,
   "id": "505e03bf",
   "metadata": {},
   "outputs": [
    {
     "name": "stdout",
     "output_type": "stream",
     "text": [
      "Set of first n power of 2: {1, 2, 4, 8, 16}\n"
     ]
    }
   ],
   "source": [
    "n=5\n",
    "power_of=[2**x for x in range(n)]\n",
    "\n",
    "print(\"Set of first n power of 2:\",set(power_of))\n",
    "    "
   ]
  },
  {
   "cell_type": "markdown",
   "id": "86de2276",
   "metadata": {},
   "source": [
    "46. Find the common elements between a set and a list."
   ]
  },
  {
   "cell_type": "code",
   "execution_count": 199,
   "id": "a7c5afa9",
   "metadata": {},
   "outputs": [
    {
     "name": "stdout",
     "output_type": "stream",
     "text": [
      "Common elements: [7, 9, 12]\n"
     ]
    }
   ],
   "source": [
    "# Step 1: Define a set and a list\n",
    "my_set = {3, 7, 9, 12, 15}\n",
    "my_list = [7, 12, 5, 9]\n",
    "\n",
    "# Step 2: Convert the list to a set for efficient comparison\n",
    "list_to_set = set(my_list)\n",
    "\n",
    "# Step 3: Initialize an empty list to store common elements\n",
    "common_elements = []\n",
    "\n",
    "# Step 4: Iterate through the elements in the set\n",
    "for element in my_set:\n",
    "    # Step 5: Check if the element is present in the converted set (list_to_set)\n",
    "    if element in list_to_set:\n",
    "        # Step 6: If the element is present in both the set and the list, add it to the common_elements list\n",
    "        common_elements.append(element)\n",
    "\n",
    "# Step 7: Print the common elements\n",
    "print(\"Common elements:\", common_elements)"
   ]
  },
  {
   "cell_type": "markdown",
   "id": "bc2e8dec",
   "metadata": {},
   "source": [
    "47. Create a set of the first `n` triangular numbers."
   ]
  },
  {
   "cell_type": "code",
   "execution_count": 200,
   "id": "4900e387",
   "metadata": {},
   "outputs": [
    {
     "name": "stdout",
     "output_type": "stream",
     "text": [
      "Enter the value of n: 5\n",
      "The set of the first 5 triangular numbers is: {1, 3, 6, 10, 15}\n"
     ]
    }
   ],
   "source": [
    "def generate_triangular_numbers(n):\n",
    "    triangular_numbers = set()  # Create an empty set to store the triangular numbers\n",
    "    for i in range(1, n + 1):\n",
    "        triangular_number = i * (i + 1) // 2  # Calculate the ith triangular number using the formula\n",
    "        triangular_numbers.add(triangular_number)  # Add the calculated triangular number to the set\n",
    "    return triangular_numbers\n",
    "\n",
    "# Input the value of 'n'\n",
    "n = int(input(\"Enter the value of n: \"))\n",
    "\n",
    "# Call the function to generate the set of first 'n' triangular numbers\n",
    "triangular_set = generate_triangular_numbers(n)\n",
    "\n",
    "# Display the set of triangular numbers\n",
    "print(f\"The set of the first {n} triangular numbers is:\", triangular_set)"
   ]
  },
  {
   "cell_type": "markdown",
   "id": "0b8c6cac",
   "metadata": {},
   "source": [
    "48. Check if a set contains another set as a subset."
   ]
  },
  {
   "cell_type": "code",
   "execution_count": 201,
   "id": "b8337c45",
   "metadata": {},
   "outputs": [
    {
     "name": "stdout",
     "output_type": "stream",
     "text": [
      "set2 is a subset of set1\n"
     ]
    }
   ],
   "source": [
    "# Define two sets\n",
    "set1 = {1, 2, 3, 4, 5}\n",
    "set2 = {3, 4}\n",
    "\n",
    "# Check if set2 is a subset of set1\n",
    "is_subset = set2.issubset(set1)\n",
    "\n",
    "# Print the result\n",
    "if is_subset:\n",
    "    print(\"set2 is a subset of set1\")\n",
    "else:\n",
    "    print(\"set2 is not a subset of set1\")"
   ]
  },
  {
   "cell_type": "markdown",
   "id": "92c3f3d8",
   "metadata": {},
   "source": [
    "49. Create a set of alternating 1s and 0s of length `n`."
   ]
  },
  {
   "cell_type": "code",
   "execution_count": 213,
   "id": "1df7ec13",
   "metadata": {},
   "outputs": [
    {
     "name": "stdout",
     "output_type": "stream",
     "text": [
      "{0, 1}\n"
     ]
    }
   ],
   "source": [
    "n=5\n",
    "alter_set=set()\n",
    "for i in range(n):\n",
    "    if i%2==0:\n",
    "        alter_set.add(1)\n",
    "    else:\n",
    "        alter_set.add(0)\n",
    "print(alter_set)\n",
    "        "
   ]
  },
  {
   "cell_type": "markdown",
   "id": "26523f5a",
   "metadata": {},
   "source": [
    "50. Merge multiple sets into one."
   ]
  },
  {
   "cell_type": "code",
   "execution_count": 209,
   "id": "a2976564",
   "metadata": {},
   "outputs": [
    {
     "name": "stdout",
     "output_type": "stream",
     "text": [
      "Merged Set: {1, 2, 3, 4, 5, 6, 7}\n"
     ]
    }
   ],
   "source": [
    "set1 = {1, 2, 3}\n",
    "set2 = {3, 4, 5}\n",
    "set3 = {5, 6, 7}\n",
    "merged_set = set1.union(set2, set3)\n",
    "print(\"Merged Set:\", merged_set)"
   ]
  },
  {
   "cell_type": "code",
   "execution_count": null,
   "id": "18594321",
   "metadata": {},
   "outputs": [],
   "source": []
  }
 ],
 "metadata": {
  "kernelspec": {
   "display_name": "Python 3 (ipykernel)",
   "language": "python",
   "name": "python3"
  },
  "language_info": {
   "codemirror_mode": {
    "name": "ipython",
    "version": 3
   },
   "file_extension": ".py",
   "mimetype": "text/x-python",
   "name": "python",
   "nbconvert_exporter": "python",
   "pygments_lexer": "ipython3",
   "version": "3.10.9"
  }
 },
 "nbformat": 4,
 "nbformat_minor": 5
}
