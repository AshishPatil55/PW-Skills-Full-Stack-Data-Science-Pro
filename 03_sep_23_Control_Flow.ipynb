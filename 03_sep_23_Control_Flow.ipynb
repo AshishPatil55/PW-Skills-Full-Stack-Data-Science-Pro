{
 "cells": [
  {
   "cell_type": "markdown",
   "id": "86434625",
   "metadata": {},
   "source": [
    "# Basic If-Else Statements:\n",
    " "
   ]
  },
  {
   "cell_type": "markdown",
   "id": "5adf0342",
   "metadata": {},
   "source": [
    "1. Write a Python program to check if a given number is positive or negativ"
   ]
  },
  {
   "cell_type": "code",
   "execution_count": 84,
   "id": "4c280956",
   "metadata": {},
   "outputs": [
    {
     "name": "stdout",
     "output_type": "stream",
     "text": [
      "Enter any number:10\n",
      "Number is Positive\n"
     ]
    }
   ],
   "source": [
    "n=int(input(\"Enter any number:\"))\n",
    "if n>0:\n",
    "    print(\"Number is Positive\")\n",
    "else:\n",
    "    print(\"Number is Negative\")"
   ]
  },
  {
   "cell_type": "markdown",
   "id": "a8ab4568",
   "metadata": {},
   "source": [
    "2. Create a program that determines if a person is eligible to vote based on their age."
   ]
  },
  {
   "cell_type": "code",
   "execution_count": 86,
   "id": "615202e7",
   "metadata": {},
   "outputs": [
    {
     "name": "stdout",
     "output_type": "stream",
     "text": [
      "Enter Age:18\n",
      "Not eligible to vote\n"
     ]
    }
   ],
   "source": [
    "age=int(input(\"Enter Age:\"))\n",
    "if age>18:\n",
    "    print(\"Eligible to vote\")\n",
    "else:\n",
    "    print(\"Not eligible to vote\")"
   ]
  },
  {
   "cell_type": "markdown",
   "id": "da9f2700",
   "metadata": {},
   "source": [
    "3. Develop a program to find the maximum of two numbers using if-else statements.\n"
   ]
  },
  {
   "cell_type": "code",
   "execution_count": 87,
   "id": "867a1cc7",
   "metadata": {},
   "outputs": [
    {
     "name": "stdout",
     "output_type": "stream",
     "text": [
      "Enter first number:10\n",
      "Enter Second number:20\n",
      "20 is Greater\n"
     ]
    }
   ],
   "source": [
    "num1=int(input(\"Enter first number:\"))\n",
    "num2=int(input(\"Enter Second number:\"))\n",
    "if num1>num2:\n",
    "    print(f\"{num1} is Greater\")\n",
    "else:\n",
    "    print(f\"{num2} is Greater\")"
   ]
  },
  {
   "cell_type": "markdown",
   "id": "52748c04",
   "metadata": {},
   "source": [
    "4. Write a Python script to classify a given year as a leap year or not.\n"
   ]
  },
  {
   "cell_type": "code",
   "execution_count": null,
   "id": "d6aac9a4",
   "metadata": {},
   "outputs": [],
   "source": [
    "year =int(input(\"Enter a year: \"))\n",
    "\n",
    "if (year % 4 == 0 and year % 100 != 0) or (year % 400 == 0):\n",
    "    print(f\"{year} is a leap year.\")\n",
    "else:\n",
    "    print(f\"{year} is not a leap year.\")"
   ]
  },
  {
   "cell_type": "markdown",
   "id": "6f625b3b",
   "metadata": {},
   "source": [
    "5. Create a program that checks whether a character is a vowel or a consonant."
   ]
  },
  {
   "cell_type": "code",
   "execution_count": null,
   "id": "137680ca",
   "metadata": {},
   "outputs": [],
   "source": [
    "user_input=input(\"enter character:\")\n",
    "if user_input in 'aeiou':\n",
    "    print(f\"Character {user_input} is vowel\")\n",
    "else:\n",
    "    print(f\"Character {user_input} is Consonent\")\n",
    "    "
   ]
  },
  {
   "cell_type": "markdown",
   "id": "8c98f60d",
   "metadata": {},
   "source": [
    "6. Implement a program to determine whether a given number is even or odd."
   ]
  },
  {
   "cell_type": "code",
   "execution_count": null,
   "id": "c1f8e922",
   "metadata": {},
   "outputs": [],
   "source": [
    "num=int(input(\"Enter any number:\"))\n",
    "if num%2==0:\n",
    "    print(\"Number is Even\")\n",
    "else:\n",
    "    print(\"Number is Odd\")"
   ]
  },
  {
   "cell_type": "markdown",
   "id": "bd0d6291",
   "metadata": {},
   "source": [
    "7. Write a Python function to calculate the absolute value of a number without using the `abs()` function."
   ]
  },
  {
   "cell_type": "code",
   "execution_count": null,
   "id": "72f16956",
   "metadata": {},
   "outputs": [],
   "source": [
    "number=int(input(\"Enter any number:\"))\n",
    "if number < 0:\n",
    "    absolute_value = -number\n",
    "else:\n",
    "    absolute_value = number\n",
    "\n",
    "print(f\"The absolute value of {number} is {absolute_value}.\")"
   ]
  },
  {
   "cell_type": "markdown",
   "id": "10b5f715",
   "metadata": {},
   "source": [
    "8. Develop a program that determines the largest of three given numbers using if-else statements.\n"
   ]
  },
  {
   "cell_type": "code",
   "execution_count": null,
   "id": "00222365",
   "metadata": {},
   "outputs": [],
   "source": [
    "num1=int(input(\"Enter First Number:\"))\n",
    "num2=int(input(\"Enter Second Number:\"))\n",
    "num3=int(input(\"Enter Third Number:\"))\n",
    "\n",
    "if num1> num2 and num1> num3:\n",
    "    print(f\"{num1} is greater\")\n",
    "elif num2> num1 and num2> num3:\n",
    "    print(f\"{num2} is greater\")\n",
    "else:\n",
    "    print(f\"{num3} is gretaer\")\n",
    "    "
   ]
  },
  {
   "cell_type": "markdown",
   "id": "03f2b672",
   "metadata": {},
   "source": [
    "9. Create a program that checks if a given string is a palindrome.\n"
   ]
  },
  {
   "cell_type": "code",
   "execution_count": null,
   "id": "2a7348aa",
   "metadata": {},
   "outputs": [],
   "source": [
    "str1=input(\"Enter String:\")\n",
    "if str1[::]==str1[::-1]:\n",
    "    print(\"String is Palindrome\")\n",
    "else:\n",
    "    print(\"String is not palindrome\")"
   ]
  },
  {
   "cell_type": "markdown",
   "id": "51e21252",
   "metadata": {},
   "source": [
    "10. Write a Python program to calculate the grade based on a student's score."
   ]
  },
  {
   "cell_type": "code",
   "execution_count": null,
   "id": "7e27a490",
   "metadata": {},
   "outputs": [],
   "source": [
    "score=int(input(\"Enter marks:\"))\n",
    "if 90 <= score <= 100:\n",
    "    grade = 'A'\n",
    "elif 80 <= score < 90:\n",
    "    grade = 'B'\n",
    "elif 70 <= score < 80:\n",
    "    grade = 'C'\n",
    "elif 60 <= score < 70:\n",
    "    grade = 'D'\n",
    "elif 0 <= score < 60:\n",
    "    grade = 'F'\n",
    "else:\n",
    "    print(\"Invalid score. Please enter a score between 0 and 100.\")\n",
    "    exit()\n",
    "\n",
    "print(f\"The student's grade is: {grade}\")"
   ]
  },
  {
   "cell_type": "markdown",
   "id": "7223d24c",
   "metadata": {},
   "source": [
    "# Nested If-Else Statements:"
   ]
  },
  {
   "cell_type": "markdown",
   "id": "d037ad2d",
   "metadata": {},
   "source": [
    "11. Write a program to find the largest among three numbers using nested if-else statements.\n"
   ]
  },
  {
   "cell_type": "code",
   "execution_count": null,
   "id": "f47e35df",
   "metadata": {},
   "outputs": [],
   "source": [
    "num1=int(input(\"Enter First Number:\"))\n",
    "num2=int(input(\"Enter Second Number:\"))\n",
    "num3=int(input(\"Enter Third Number:\"))\n",
    "\n",
    "if num1 >= num2:\n",
    "    if num1 >= num3:\n",
    "        largest = num1\n",
    "    else:\n",
    "        largest = num3\n",
    "else:\n",
    "    if num2 >= num3:\n",
    "        largest = num2\n",
    "    else:\n",
    "        largest = num3\n",
    "\n",
    "# Output the largest number\n",
    "print(f\"The largest number among {num1}, {num2}, and {num3} is: {largest}\")"
   ]
  },
  {
   "cell_type": "markdown",
   "id": "0480d871",
   "metadata": {},
   "source": [
    "12. Implement a program to determine if a triangle is equilateral, isosceles, or scalene.\n"
   ]
  },
  {
   "cell_type": "code",
   "execution_count": null,
   "id": "4fe9be54",
   "metadata": {},
   "outputs": [],
   "source": [
    "side1=int(input(\"Enter First Side:\"))\n",
    "side2=int(input(\"Enter Second Side:\"))\n",
    "side3=int(input(\"Enter Third Side:\"))\n",
    "\n",
    "if side1 + side2 > side3 and side1 + side3 > side2 and side2 + side3 > side1:\n",
    "    \n",
    "    if side1 == side2 == side3:\n",
    "        triangle_type = \"Equilateral\"\n",
    "    elif side1 == side2 or side1 == side3 or side2 == side3:\n",
    "        triangle_type = \"Isosceles\"\n",
    "    else:\n",
    "        triangle_type = \"Scalene\"\n",
    "    \n",
    "    print(f\"The triangle with side lengths {side1}, {side2}, and {side3} is a {triangle_type} triangle.\")\n",
    "else:\n",
    "    print(\"Invalid side lengths. They do not form a valid triangle.\")"
   ]
  },
  {
   "cell_type": "markdown",
   "id": "f60d8600",
   "metadata": {},
   "source": [
    "13. Develop a program that checks if a year is a leap year and also if it is a century year.\n"
   ]
  },
  {
   "cell_type": "code",
   "execution_count": null,
   "id": "025c091e",
   "metadata": {},
   "outputs": [],
   "source": [
    "year=int(input(\"Enter year:\"))\n",
    "# Check if it's a leap year\n",
    "is_leap_year = (year % 4 == 0 and year % 100 != 0) or (year % 400 == 0)\n",
    "\n",
    "# Check if it's a century year\n",
    "is_century_year = year % 100 == 0\n",
    "\n",
    "# Output the results\n",
    "if is_leap_year:\n",
    "    if is_century_year:\n",
    "        print(f\"{year} is a leap year and a century year.\")\n",
    "    else:\n",
    "        print(f\"{year} is a leap year, but not a century year.\")\n",
    "else:\n",
    "    print(f\"{year} is not a leap year.\")"
   ]
  },
  {
   "cell_type": "markdown",
   "id": "aedee2f2",
   "metadata": {},
   "source": [
    "14. Write a Python script to determine if a number is positive, negative, or zero.\n"
   ]
  },
  {
   "cell_type": "code",
   "execution_count": null,
   "id": "726fdb84",
   "metadata": {},
   "outputs": [],
   "source": [
    "number=int(input(\"Enter any Num:\"))\n",
    "if number > 0:\n",
    "    print(f\"{number} is a positive number.\")\n",
    "elif number < 0:\n",
    "    print(f\"{number} is a negative number.\")\n",
    "else:\n",
    "    print(f\"{number} is zero.\")\n"
   ]
  },
  {
   "cell_type": "markdown",
   "id": "cb96f0fd",
   "metadata": {},
   "source": [
    "15. Create a program to check if a person is a teenager (between 13 and 19 years old).\n"
   ]
  },
  {
   "cell_type": "code",
   "execution_count": null,
   "id": "d8a18535",
   "metadata": {},
   "outputs": [],
   "source": [
    "age=int(input(\"Enter age\"))\n",
    "if age>13:\n",
    "    if age<=19:\n",
    "        print(\"Person is teenager\")\n",
    "    else:\n",
    "        print(\"person is not teenager\")\n",
    "else:\n",
    "    print(\"person is not teenager\")"
   ]
  },
  {
   "cell_type": "markdown",
   "id": "ae42c4f3",
   "metadata": {},
   "source": [
    "16. Develop a program that determines the type of angle based on its measure (acute, obtuse, or right).\n"
   ]
  },
  {
   "cell_type": "code",
   "execution_count": null,
   "id": "188d6d4f",
   "metadata": {},
   "outputs": [],
   "source": [
    "\n",
    "angle_measure=int(input(\"Enter angle:\"))\n",
    "\n",
    "if 0 < angle_measure < 90:\n",
    "    angle_type = \"Acute\"\n",
    "elif angle_measure == 90:\n",
    "    angle_type = \"Right\"\n",
    "elif 90 < angle_measure < 180:\n",
    "    angle_type = \"Obtuse\"\n",
    "else:\n",
    "    angle_type = \"Invalid\"\n",
    "\n",
    "# Output the result\n",
    "if angle_type == \"Invalid\":\n",
    "    print(\"Invalid angle measure. Please enter a measure between 0 and 180 degrees.\")\n",
    "else:\n",
    "    print(f\"The angle with a measure of {angle_measure} is {angle_type}\")"
   ]
  },
  {
   "cell_type": "markdown",
   "id": "78e238e4",
   "metadata": {},
   "source": [
    "17. Write a Python program to calculate the roots of a quadratic equation."
   ]
  },
  {
   "cell_type": "code",
   "execution_count": null,
   "id": "625a47ad",
   "metadata": {},
   "outputs": [],
   "source": [
    "import cmath  \n",
    "\n",
    "def quadratic_roots(a, b, c):\n",
    "    # Calculate the discriminant\n",
    "    discriminant = cmath.sqrt(b**2 - 4*a*c)\n",
    "\n",
    "    # Calculate the two roots using the quadratic formula\n",
    "    root1 = (-b + discriminant) / (2*a)\n",
    "    root2 = (-b - discriminant) / (2*a)\n",
    "\n",
    "    return root1, root2\n",
    "\n",
    "# Get the coefficients from the user\n",
    "a = float(input(\"Enter the coefficient a: \"))\n",
    "b = float(input(\"Enter the coefficient b: \"))\n",
    "c = float(input(\"Enter the coefficient c: \"))\n",
    "\n",
    "# Calculate and display the roots\n",
    "roots = quadratic_roots(a, b, c)\n",
    "\n",
    "print(\"Root 1:\", roots[0])\n",
    "print(\"Root 2:\", roots[1])\n"
   ]
  },
  {
   "cell_type": "markdown",
   "id": "2b9d6e58",
   "metadata": {},
   "source": [
    "18. Implement a program to determine the day of the week based on a user-provided number (1 for Monday, 2 for Tuesday, etc.).\n"
   ]
  },
  {
   "cell_type": "code",
   "execution_count": null,
   "id": "ce8ba307",
   "metadata": {},
   "outputs": [],
   "source": [
    "# List of days\n",
    "days = [\"Monday\", \"Tuesday\", \"Wednesday\", \"Thursday\", \"Friday\", \"Saturday\", \"Sunday\"]\n",
    "user_number = int(input(\"Enter a number (1 for Monday, 2 for Tuesday, etc.): \"))\n",
    "\n",
    "if 1 <= user_number <= 7:\n",
    "    day_of_week = days[user_number - 1]\n",
    "    print(\"The day of the week is:\", day_of_week)\n",
    "else:\n",
    "    print(\"Invalid input. Please enter a number between 1 and 7.\")\n"
   ]
  },
  {
   "cell_type": "markdown",
   "id": "b7b3e32c",
   "metadata": {},
   "source": [
    "19. Create a program that determines if a year is a leap year and also if it is evenly divisible by 400.\n"
   ]
  },
  {
   "cell_type": "code",
   "execution_count": null,
   "id": "9e39e928",
   "metadata": {},
   "outputs": [],
   "source": [
    "year = int(input(\"Enter a year: \"))\n",
    "\n",
    "# Check if it is a leap year\n",
    "if (year % 4 == 0 and year % 100 != 0) or (year % 400 == 0):\n",
    "    print(f\"{year} is a leap year.\")\n",
    "else:\n",
    "    print(f\"{year} is not a leap year.\")"
   ]
  },
  {
   "cell_type": "markdown",
   "id": "fbdb00d4",
   "metadata": {},
   "source": [
    "20. Develop a program that checks if a given number is prime or not using nested if-else statements.\n"
   ]
  },
  {
   "cell_type": "code",
   "execution_count": null,
   "id": "8fa2e591",
   "metadata": {},
   "outputs": [],
   "source": [
    "# Get user input\n",
    "user_input = int(input(\"Enter a number: \"))\n",
    "\n",
    "# Check if the number is less than or equal to 1\n",
    "if user_input <= 1:\n",
    "    print(f\"{user_input} is not a prime number.\")\n",
    "# Check if the number is 2\n",
    "elif user_input == 2:\n",
    "    print(f\"{user_input} is a prime number.\")\n",
    "# Check for other numbers greater than 2\n",
    "else:\n",
    "    # Iterate through potential divisors up to the square root of the number\n",
    "    for i in range(2, int(user_input**0.5) + 1):\n",
    "        if user_input % i == 0:\n",
    "            print(f\"{user_input} is not a prime number.\")\n",
    "            break\n",
    "    else:\n",
    "        print(f\"{user_input} is a prime number.\")\n"
   ]
  },
  {
   "cell_type": "markdown",
   "id": "fddfe7aa",
   "metadata": {},
   "source": [
    "# Elif Statements:"
   ]
  },
  {
   "cell_type": "markdown",
   "id": "c01efefc",
   "metadata": {},
   "source": [
    "21. Write a Python program to assign grades based on different ranges of scores using elif statements.\n"
   ]
  },
  {
   "cell_type": "code",
   "execution_count": null,
   "id": "c224b8b8",
   "metadata": {},
   "outputs": [],
   "source": [
    "score=int(input(\"Enter marks:\"))\n",
    "if 90 <= score <= 100:\n",
    "    grade = 'A'\n",
    "elif 80 <= score < 90:\n",
    "    grade = 'B'\n",
    "elif 70 <= score < 80:\n",
    "    grade = 'C'\n",
    "elif 60 <= score < 70:\n",
    "    grade = 'D'\n",
    "elif 0 <= score < 60:\n",
    "    grade = 'F'\n",
    "else:\n",
    "    print(\"Invalid score. Please enter a score between 0 and 100.\")\n",
    "    exit()\n",
    "\n",
    "print(f\"The student's grade is: {grade}\")"
   ]
  },
  {
   "cell_type": "markdown",
   "id": "4d30bf38",
   "metadata": {},
   "source": [
    "22. Implement a program to determine the type of a triangle based on its angles.\n"
   ]
  },
  {
   "cell_type": "code",
   "execution_count": null,
   "id": "2b608344",
   "metadata": {},
   "outputs": [],
   "source": [
    "angle_measure=int(input(\"Enter angle:\"))\n",
    "\n",
    "if 0 < angle_measure < 90:\n",
    "    angle_type = \"Acute\"\n",
    "elif angle_measure == 90:\n",
    "    angle_type = \"Right\"\n",
    "elif 90 < angle_measure < 180:\n",
    "    angle_type = \"Obtuse\"\n",
    "else:\n",
    "    angle_type = \"Invalid\"\n",
    "\n",
    "# Output the result\n",
    "if angle_type == \"Invalid\":\n",
    "    print(\"Invalid angle measure. Please enter a measure between 0 and 180 degrees.\")\n",
    "else:\n",
    "    print(f\"The angle with a measure of {angle_measure} is {angle_type}\")"
   ]
  },
  {
   "cell_type": "markdown",
   "id": "7260cd83",
   "metadata": {},
   "source": [
    "23. Develop a program to categorize a given person's BMI into underweight, normal, overweight, or obese using \n",
    "elif statements.\n"
   ]
  },
  {
   "cell_type": "code",
   "execution_count": null,
   "id": "f801948b",
   "metadata": {},
   "outputs": [],
   "source": [
    "height=float(input(\"Enter Your Height in meters:\"))\n",
    "weight=float(input(\"Enter your Weight:\"))\n",
    "bmi = weight / (height ** 2)\n",
    "\n",
    "if bmi < 18.5:\n",
    "    print(\"Underweight\")\n",
    "elif 18.5 <= bmi < 24.9:\n",
    "    print (\"Normal weight\")\n",
    "elif 25 <= bmi < 29.9:\n",
    "    print (\"Overweight\")\n",
    "else:\n",
    "    print (\"Obese\")"
   ]
  },
  {
   "cell_type": "markdown",
   "id": "49c3a159",
   "metadata": {},
   "source": [
    "24. Create a program that determines whether a given number is positive, negative, or zero using elif \n",
    "statements."
   ]
  },
  {
   "cell_type": "code",
   "execution_count": null,
   "id": "a209bea2",
   "metadata": {},
   "outputs": [],
   "source": [
    "number=int(input(\"Enter any Num:\"))\n",
    "if num>0:\n",
    "    print(\"Number is Positive\")\n",
    "elif num<0:\n",
    "    print(\"Number is Negative\")\n",
    "else:\n",
    "    print(\"Number is Zero\")"
   ]
  },
  {
   "cell_type": "markdown",
   "id": "96c54a32",
   "metadata": {},
   "source": [
    "25. Write a Python script to determine the type of a character (uppercase, lowercase, or special) using elif \n",
    "statements."
   ]
  },
  {
   "cell_type": "code",
   "execution_count": null,
   "id": "7e9b0377",
   "metadata": {},
   "outputs": [],
   "source": [
    "char=input(\"Enter Character:\")\n",
    "if char.isupper():\n",
    "    print(\"Character is Uppercase\")\n",
    "elif char.islower():\n",
    "    print(\"Character is Lowercase\")\n",
    "else:\n",
    "    print(\"It is a Special Character\")"
   ]
  },
  {
   "cell_type": "markdown",
   "id": "cbea2af8",
   "metadata": {},
   "source": [
    "26. Implement a program to calculate the discounted price based on different purchase amounts using elif \n",
    "statements.\n"
   ]
  },
  {
   "cell_type": "code",
   "execution_count": null,
   "id": "0b273154",
   "metadata": {},
   "outputs": [],
   "source": [
    "original_price = float(input(\"Enter the original price: \"))\n",
    "purchase_amount = float(input(\"Enter the purchase amount: \"))\n",
    "\n",
    "if purchase_amount >= 1000:\n",
    "    discount_rate = 0.1  # 10% discount \n",
    "elif purchase_amount >= 500:\n",
    "    discount_rate = 0.05  # 5% discount \n",
    "else:\n",
    "    discount_rate = 0  # No discount\n",
    "\n",
    "# Calculate discounted price\n",
    "discounted_price = original_price - (original_price * discount_rate)\n",
    "\n",
    "# Display the result\n",
    "print(f\"The discounted price is: ${discounted_price:.2f}\")\n"
   ]
  },
  {
   "cell_type": "markdown",
   "id": "f45c8b54",
   "metadata": {},
   "source": [
    "27. Develop a program to calculate the electricity bill based on different consumption slabs using elif \n",
    "statements.\n"
   ]
  },
  {
   "cell_type": "code",
   "execution_count": null,
   "id": "3b06a63e",
   "metadata": {},
   "outputs": [],
   "source": [
    "consumption = float(input(\"Enter the electricity consumption in kilowatt-hours: \"))\n",
    "\n",
    "if consumption <= 100:\n",
    "    rate = 10  \n",
    "elif consumption <= 200:\n",
    "    rate = 15 \n",
    "elif consumption <= 300:\n",
    "    rate = 20  \n",
    "else:\n",
    "    rate = 25 \n",
    "\n",
    "# Calculate electricity bill\n",
    "bill = consumption * rate\n",
    "\n",
    "# Display the result\n",
    "print(f\"The electricity bill is: {bill:.2f}\")\n"
   ]
  },
  {
   "cell_type": "markdown",
   "id": "b79a6cc1",
   "metadata": {},
   "source": [
    "28. Create a program to determine the type of quadrilateral based on its angles and sides using elif \n",
    "statements.\n"
   ]
  },
  {
   "cell_type": "code",
   "execution_count": null,
   "id": "2b298ed5",
   "metadata": {},
   "outputs": [],
   "source": [
    "sides = [float(input(f\"Enter length of side {i+1}: \")) for i in range(4)]\n",
    "angles = [float(input(f\"Enter angle {i+1}: \")) for i in range(4)]\n",
    "\n",
    "if all(angle == 90 for angle in angles):\n",
    "    if all(side == sides[0] for side in sides):\n",
    "        print(\"It's a Square.\")\n",
    "    else:\n",
    "        print(\"It's a Rectangle.\")\n",
    "elif any(angle == 90 for angle in angles):\n",
    "    print(\"It's a Trapezoid.\")\n",
    "elif all(angle < 90 for angle in angles):\n",
    "    if all(side == sides[0] for side in sides):\n",
    "        print(\"It's a Rhombus.\")\n",
    "    else:\n",
    "        print(\"It's a Parallelogram.\")\n",
    "else:\n",
    "    print(\"It's an Irregular Quadrilateral.\")\n"
   ]
  },
  {
   "cell_type": "markdown",
   "id": "c783e326",
   "metadata": {},
   "source": [
    "29. Write a Python script to determine the season based on a user-provided month using elif statements.\n"
   ]
  },
  {
   "cell_type": "code",
   "execution_count": null,
   "id": "05469ff8",
   "metadata": {},
   "outputs": [],
   "source": [
    "# Input from the user\n",
    "month = input(\"Enter a month (e.g., January, February, etc.): \")\n",
    "\n",
    "# Convert the input to lowercase for case-insensitivity\n",
    "month = month.lower()\n",
    "\n",
    "# Determine the season using elif statements\n",
    "if month in ['december', 'january', 'february']:\n",
    "    season = 'Winter'\n",
    "elif month in ['march', 'april', 'may']:\n",
    "    season = 'Spring'\n",
    "elif month in ['june', 'july', 'august']:\n",
    "    season = 'Summer'\n",
    "elif month in ['september', 'october', 'november']:\n",
    "    season = 'Fall'\n",
    "else:\n",
    "    season = 'Invalid Month'\n",
    "\n",
    "print(f\"The season for {month.capitalize()} is {season}.\")\n"
   ]
  },
  {
   "cell_type": "markdown",
   "id": "5cffc3bd",
   "metadata": {},
   "source": [
    "30. Implement a program to determine the type of a year (leap or common) and month (30 or 31 days) using \n",
    "elif statements.\n"
   ]
  },
  {
   "cell_type": "code",
   "execution_count": null,
   "id": "0e7a4f9e",
   "metadata": {},
   "outputs": [],
   "source": [
    "\n",
    "year = int(input(\"Enter a year: \"))\n",
    "month = int(input(\"Enter a month (1-12): \"))\n",
    "\n",
    "if (year % 4 == 0 and year % 100 != 0) or (year % 400 == 0):\n",
    "    year_type = \"Leap Year\"\n",
    "else:\n",
    "    year_type = \"Common Year\"\n",
    "\n",
    "if month in [1, 3, 5, 7, 8, 10, 12]:\n",
    "    days_in_month = 31\n",
    "elif month in [4, 6, 9, 11]:\n",
    "    days_in_month = 30\n",
    "elif month == 2:\n",
    "    if year_type == \"Leap Year\":\n",
    "        days_in_month = 29\n",
    "    else:\n",
    "        days_in_month = 28\n",
    "else:\n",
    "    days_in_month = -1  # Invalid month\n",
    "\n",
    "# Display the result\n",
    "if days_in_month != -1:\n",
    "    print(f\"{year} is a {year_type}, and the month {month} has {days_in_month} days.\")\n",
    "else:\n",
    "    print(\"Invalid month entered.\")\n"
   ]
  },
  {
   "cell_type": "markdown",
   "id": "19c998bd",
   "metadata": {},
   "source": [
    "# Basic Level:"
   ]
  },
  {
   "cell_type": "markdown",
   "id": "8791c03a",
   "metadata": {},
   "source": [
    "1. Write a Python program that checks if a given number is positive, negative, or zero.\n"
   ]
  },
  {
   "cell_type": "code",
   "execution_count": null,
   "id": "8b8b9853",
   "metadata": {},
   "outputs": [],
   "source": [
    "n=int(input(\"Enter any number:\"))\n",
    "if n>0:\n",
    "    print(\"Number is Positive\")\n",
    "elif n<0:\n",
    "        print(\"Number is Negative\")\n",
    "else:\n",
    "    print(\"Number is Zero\")"
   ]
  },
  {
   "cell_type": "markdown",
   "id": "4651cc4d",
   "metadata": {},
   "source": [
    "2. Create a program to determine if a person is eligible to vote based on their age.\n"
   ]
  },
  {
   "cell_type": "code",
   "execution_count": null,
   "id": "34e9c223",
   "metadata": {},
   "outputs": [],
   "source": [
    "age=int(input(\"Enter Age:\"))\n",
    "if age>18:\n",
    "    print(\"Eligible to vote\")\n",
    "else:\n",
    "    print(\"Not eligible to vote\")"
   ]
  },
  {
   "cell_type": "markdown",
   "id": "890cac31",
   "metadata": {},
   "source": [
    "3.Write a program to find the maximum of two given numbers using conditional statements"
   ]
  },
  {
   "cell_type": "code",
   "execution_count": null,
   "id": "c6d6da76",
   "metadata": {},
   "outputs": [],
   "source": [
    "# Input from the user\n",
    "num1 = float(input(\"Enter the first number: \"))\n",
    "num2 = float(input(\"Enter the second number: \"))\n",
    "\n",
    "if num1 > num2:\n",
    "    maximum = num1\n",
    "else:\n",
    "    maximum = num2\n",
    "\n",
    "print(f\"The maximum of {num1} and {num2} is: {maximum}\")"
   ]
  },
  {
   "cell_type": "markdown",
   "id": "d0309ad0",
   "metadata": {},
   "source": [
    "4. Develop a program that calculates the grade of a student based on their exam score.\n"
   ]
  },
  {
   "cell_type": "code",
   "execution_count": null,
   "id": "04f7232f",
   "metadata": {},
   "outputs": [],
   "source": [
    "score=int(input(\"Enter marks:\"))\n",
    "if 90 <= score <= 100:\n",
    "    grade = 'A'\n",
    "elif 80 <= score < 90:\n",
    "    grade = 'B'\n",
    "elif 70 <= score < 80:\n",
    "    grade = 'C'\n",
    "elif 60 <= score < 70:\n",
    "    grade = 'D'\n",
    "elif 0 <= score < 60:\n",
    "    grade = 'F'\n",
    "else:\n",
    "    print(\"Invalid score. Please enter a score between 0 and 100.\")\n",
    "    exit()\n",
    "\n",
    "print(f\"The student's grade is: {grade}\")"
   ]
  },
  {
   "cell_type": "markdown",
   "id": "d0b368e1",
   "metadata": {},
   "source": [
    "5. Create a program that checks if a year is a leap year or not.\n"
   ]
  },
  {
   "cell_type": "code",
   "execution_count": null,
   "id": "a86c6e6f",
   "metadata": {},
   "outputs": [],
   "source": [
    "year=int(input(\"Enter year:\"))\n",
    "# Check if it's a leap year\n",
    "is_leap_year = (year % 4 == 0 and year % 100 != 0) or (year % 400 == 0)\n",
    "\n",
    "\n",
    "# Output the results\n",
    "if is_leap_year:\n",
    "        print(f\"{year} is a leap year and a century year.\")\n",
    "else:\n",
    "    print(f\"{year} is not a leap year.\")"
   ]
  },
  {
   "cell_type": "markdown",
   "id": "6dc28e02",
   "metadata": {},
   "source": [
    "6. Write a program to classify a triangle based on its sides' lengths.\n"
   ]
  },
  {
   "cell_type": "code",
   "execution_count": null,
   "id": "11c1c064",
   "metadata": {},
   "outputs": [],
   "source": [
    "# Input from the user\n",
    "side1 = float(input(\"Enter the length of the first side: \"))\n",
    "side2 = float(input(\"Enter the length of the second side: \"))\n",
    "side3 = float(input(\"Enter the length of the third side: \"))\n",
    "\n",
    "if side1 == side2 == side3:\n",
    "    triangle_type = \"Equilateral\"\n",
    "elif side1 == side2 or side1 == side3 or side2 == side3:\n",
    "    triangle_type = \"Isosceles\"\n",
    "else:\n",
    "    triangle_type = \"Scalene\"\n",
    "\n",
    "# Display the result\n",
    "print(f\"The triangle with side lengths {side1}, {side2}, and {side3} is a {triangle_type} triangle.\")\n"
   ]
  },
  {
   "cell_type": "markdown",
   "id": "04f03c55",
   "metadata": {},
   "source": [
    "7. Build a program that determines the largest of three given numbers."
   ]
  },
  {
   "cell_type": "code",
   "execution_count": null,
   "id": "8bdd0903",
   "metadata": {},
   "outputs": [],
   "source": [
    "num1=int(input(\"Enter First Number:\"))\n",
    "num2=int(input(\"Enter Second Number:\"))\n",
    "num3=int(input(\"Enter Third Number:\"))\n",
    "\n",
    "if num1 >= num2:\n",
    "    if num1 >= num3:\n",
    "        largest = num1\n",
    "    else:\n",
    "        largest = num3\n",
    "else:\n",
    "    if num2 >= num3:\n",
    "        largest = num2\n",
    "    else:\n",
    "        largest = num3\n",
    "\n",
    "# Output the largest number\n",
    "print(f\"The largest number among {num1}, {num2}, and {num3} is: {largest}\")"
   ]
  },
  {
   "cell_type": "markdown",
   "id": "92a73676",
   "metadata": {},
   "source": [
    "8. Develop a program that checks whether a character is a vowel or a consonant.\n"
   ]
  },
  {
   "cell_type": "code",
   "execution_count": null,
   "id": "dda5672d",
   "metadata": {},
   "outputs": [],
   "source": [
    "user_input=input(\"enter character:\")\n",
    "if user_input.lower() in 'aeiou':\n",
    "    print(f\"Character {user_input} is vowel\")\n",
    "else:\n",
    "    print(f\"Character {user_input} is Consonent\")"
   ]
  },
  {
   "cell_type": "markdown",
   "id": "452c5e65",
   "metadata": {},
   "source": [
    "9. Create a program to calculate the total cost of a shopping cart based on discounts.\n"
   ]
  },
  {
   "cell_type": "code",
   "execution_count": null,
   "id": "78ae4d52",
   "metadata": {},
   "outputs": [],
   "source": [
    "item_count = int(input(\"Enter the number of items in the shopping cart: \"))\n",
    "\n",
    "total_cost = 0\n",
    "\n",
    "# Calculate total cost based on discounts using if-elif statements\n",
    "for _ in range(item_count):\n",
    "    item_price = float(input(\"Enter the price of an item: \"))\n",
    "    \n",
    "    if item_price > 100:\n",
    "        discount = 0.1  # 10% discount for items with price greater than 100\n",
    "    else:\n",
    "        discount = 0  # No discount for items with price 100 or less\n",
    "    \n",
    "    discounted_price = item_price - (item_price * discount)\n",
    "    total_cost += discounted_price\n",
    "\n",
    "\n",
    "print(f\"The total cost of the shopping cart is: {total_cost:.2f}\")\n"
   ]
  },
  {
   "cell_type": "markdown",
   "id": "6a6c4413",
   "metadata": {},
   "source": [
    "10. Write a program that checks if a given number is even or odd.\n"
   ]
  },
  {
   "cell_type": "code",
   "execution_count": 88,
   "id": "da88e9e3",
   "metadata": {},
   "outputs": [
    {
     "name": "stdout",
     "output_type": "stream",
     "text": [
      "Enter any Number:11\n",
      "number is Odd\n"
     ]
    }
   ],
   "source": [
    "num=int(input(\"Enter any Number:\"))\n",
    "if num%2==0:\n",
    "    print(\"Number is even\")\n",
    "else:\n",
    "    print(\"number is Odd\")"
   ]
  },
  {
   "cell_type": "markdown",
   "id": "1e89a470",
   "metadata": {},
   "source": [
    "## Intermediate Level:\n"
   ]
  },
  {
   "cell_type": "markdown",
   "id": "66947906",
   "metadata": {},
   "source": [
    "11. Write a program that calculates the roots of a quadratic equation .\n"
   ]
  },
  {
   "cell_type": "code",
   "execution_count": 89,
   "id": "e1b77177",
   "metadata": {},
   "outputs": [
    {
     "name": "stdout",
     "output_type": "stream",
     "text": [
      "Enter the coefficient 'a' (non-zero): 12\n",
      "Enter the coefficient 'b': 13\n",
      "Enter the coefficient 'c': 14\n",
      "The roots of the quadratic equation are complex conjugates: -0.5416666666666666 + 0.9344858955002419i, -0.5416666666666666 - 0.9344858955002419i\n"
     ]
    }
   ],
   "source": [
    "import math\n",
    "\n",
    "a = float(input(\"Enter the coefficient 'a' (non-zero): \"))\n",
    "b = float(input(\"Enter the coefficient 'b': \"))\n",
    "c = float(input(\"Enter the coefficient 'c': \"))\n",
    "\n",
    "# Calculate the discriminant\n",
    "discriminant = b**2 - 4*a*c\n",
    "\n",
    "if discriminant > 0:\n",
    "    root1 = (-b + math.sqrt(discriminant)) / (2*a)\n",
    "    root2 = (-b - math.sqrt(discriminant)) / (2*a)\n",
    "    print(f\"The roots of the quadratic equation are real and distinct: {root1}, {root2}\")\n",
    "elif discriminant == 0:\n",
    "    root = -b / (2*a)\n",
    "    print(f\"The root of the quadratic equation is real and equal: {root}\")\n",
    "else:\n",
    "    real_part = -b / (2*a)\n",
    "    imaginary_part = math.sqrt(abs(discriminant)) / (2*a)\n",
    "    print(f\"The roots of the quadratic equation are complex conjugates: {real_part} + {imaginary_part}i, {real_part} - {imaginary_part}i\")\n"
   ]
  },
  {
   "cell_type": "markdown",
   "id": "06a65b34",
   "metadata": {},
   "source": [
    "12. Create a program that determines the day of the week based on the day number (1-7).\n"
   ]
  },
  {
   "cell_type": "code",
   "execution_count": 90,
   "id": "1ffd7601",
   "metadata": {},
   "outputs": [
    {
     "name": "stdout",
     "output_type": "stream",
     "text": [
      "Enter the day number (1-7): 5\n",
      "The day corresponding to day number 5 is Friday.\n"
     ]
    }
   ],
   "source": [
    "# Input from the user\n",
    "day_number = int(input(\"Enter the day number (1-7): \"))\n",
    "\n",
    "# Determine the day of the week using if-elif statements\n",
    "if day_number == 1:\n",
    "    day_name = \"Monday\"\n",
    "elif day_number == 2:\n",
    "    day_name = \"Tuesday\"\n",
    "elif day_number == 3:\n",
    "    day_name = \"Wednesday\"\n",
    "elif day_number == 4:\n",
    "    day_name = \"Thursday\"\n",
    "elif day_number == 5:\n",
    "    day_name = \"Friday\"\n",
    "elif day_number == 6:\n",
    "    day_name = \"Saturday\"\n",
    "elif day_number == 7:\n",
    "    day_name = \"Sunday\"\n",
    "else:\n",
    "    day_name = \"Invalid Day Number\"\n",
    "\n",
    "# Display the result\n",
    "print(f\"The day corresponding to day number {day_number} is {day_name}.\")\n"
   ]
  },
  {
   "cell_type": "markdown",
   "id": "1fba4c9e",
   "metadata": {},
   "source": [
    "13. Develop a program that calculates the factorial of a given number using recursion.\n"
   ]
  },
  {
   "cell_type": "code",
   "execution_count": 4,
   "id": "641b411a",
   "metadata": {},
   "outputs": [
    {
     "name": "stdout",
     "output_type": "stream",
     "text": [
      "Enter Number:5\n",
      "factorial of 5 is 120\n"
     ]
    }
   ],
   "source": [
    "def fact(n):\n",
    "    if n <=2:\n",
    "        return n\n",
    "    else:\n",
    "        return n*fact(n-1)\n",
    "    \n",
    "\n",
    "num=int(input(\"Enter Number:\"))    \n",
    "res=fact(num)\n",
    "print(f\"factorial of {num} is {res}\")"
   ]
  },
  {
   "cell_type": "markdown",
   "id": "64ad63de",
   "metadata": {},
   "source": [
    "14. Write a program to find the largest among three numbers without using the `max()` function.\n"
   ]
  },
  {
   "cell_type": "code",
   "execution_count": 15,
   "id": "440a945a",
   "metadata": {},
   "outputs": [
    {
     "name": "stdout",
     "output_type": "stream",
     "text": [
      "Enter first Number:55\n",
      "Enter Second Number:65\n",
      "Enter Third Number:85\n",
      "85 is greater\n"
     ]
    }
   ],
   "source": [
    "def large_of_three(num1,num2,num3):\n",
    "    \n",
    "    if num1>num2 and num1>num3:\n",
    "        return f\"{num1} is greater\"\n",
    "    elif num2>num1 and num2>num3:\n",
    "        return f\"{num2} is greater\"\n",
    "    elif num3>num2 and num3>num1:\n",
    "        return f\"{num3} is greater\"\n",
    "    else:\n",
    "        print(\"All are Same\")\n",
    "\n",
    "n1=int(input(\"Enter first Number:\"))\n",
    "n2=int(input(\"Enter Second Number:\"))\n",
    "n3=int(input(\"Enter Third Number:\"))\n",
    "res=large_of_three(n1,n2,n3)\n",
    "print(res)"
   ]
  },
  {
   "cell_type": "markdown",
   "id": "3c6d49e6",
   "metadata": {},
   "source": [
    "15. Create a program that simulates a basic ATM transaction menu.\n"
   ]
  },
  {
   "cell_type": "code",
   "execution_count": 17,
   "id": "0f68aea5",
   "metadata": {},
   "outputs": [
    {
     "name": "stdout",
     "output_type": "stream",
     "text": [
      "\n",
      "ATM Transaction Menu:\n",
      "1. Check Balance\n",
      "2. Deposit Money\n",
      "3. Withdraw Money\n",
      "4. Exit\n",
      "Enter your choice (1-4): 3\n",
      "Enter the amount to withdraw: $500\n",
      "500.00 has been withdrawn. Your new balance is: 500.00\n",
      "\n",
      "ATM Transaction Menu:\n",
      "1. Check Balance\n",
      "2. Deposit Money\n",
      "3. Withdraw Money\n",
      "4. Exit\n",
      "Enter your choice (1-4): 1\n",
      "Your balance is: 500.00\n",
      "\n",
      "ATM Transaction Menu:\n",
      "1. Check Balance\n",
      "2. Deposit Money\n",
      "3. Withdraw Money\n",
      "4. Exit\n",
      "Enter your choice (1-4): 4\n",
      "Thank you for using the ATM. Have a great day!\n"
     ]
    }
   ],
   "source": [
    "def display_menu():\n",
    "    print(\"\\nATM Transaction Menu:\")\n",
    "    print(\"1. Check Balance\")\n",
    "    print(\"2. Deposit Money\")\n",
    "    print(\"3. Withdraw Money\")\n",
    "    print(\"4. Exit\")\n",
    "\n",
    "def check_balance(balance):\n",
    "    print(f\"Your balance is: {balance:.2f}\")\n",
    "\n",
    "def deposit_money(balance):\n",
    "    amount = float(input(\"Enter the amount to deposit: \"))\n",
    "    balance += amount\n",
    "    print(f\"{amount:.2f} has been deposited. Your new balance is: {balance:.2f}\")\n",
    "    return balance\n",
    "\n",
    "def withdraw_money(balance):\n",
    "    amount = float(input(\"Enter the amount to withdraw: $\"))\n",
    "    if amount <= balance:\n",
    "        balance -= amount\n",
    "        print(f\"{amount:.2f} has been withdrawn. Your new balance is: {balance:.2f}\")\n",
    "    else:\n",
    "        print(\"Insufficient funds. Withdrawal canceled.\")\n",
    "    return balance\n",
    "\n",
    "# Initial balance\n",
    "account_balance = 1000.00\n",
    "\n",
    "while True:\n",
    "    display_menu()\n",
    "\n",
    "    choice = input(\"Enter your choice (1-4): \")\n",
    "\n",
    "    if choice == '1':\n",
    "        check_balance(account_balance)\n",
    "    elif choice == '2':\n",
    "        account_balance = deposit_money(account_balance)\n",
    "    elif choice == '3':\n",
    "        account_balance = withdraw_money(account_balance)\n",
    "    elif choice == '4':\n",
    "        print(\"Thank you for using the ATM. Have a great day!\")\n",
    "        break\n",
    "    else:\n",
    "        print(\"Invalid choice. Please enter a number between 1 and 4.\")\n"
   ]
  },
  {
   "cell_type": "markdown",
   "id": "7b9d3b7d",
   "metadata": {},
   "source": [
    "16. Build a program that checks if a given string is a palindrome or not.\n"
   ]
  },
  {
   "cell_type": "code",
   "execution_count": 21,
   "id": "e70d8730",
   "metadata": {},
   "outputs": [
    {
     "name": "stdout",
     "output_type": "stream",
     "text": [
      "Enter any string:mom\n",
      "String is Palindrome\n"
     ]
    }
   ],
   "source": [
    "def palindrome(str1):\n",
    "    if str1==str1[::-1]:\n",
    "        return \"String is Palindrome\"\n",
    "    else:\n",
    "        return \"Not Palindrome\"\n",
    "\n",
    "str1=input(\"Enter any string:\")\n",
    "res=palindrome(str1)\n",
    "print(res)"
   ]
  },
  {
   "cell_type": "markdown",
   "id": "34b500bc",
   "metadata": {},
   "source": [
    "17. Write a program that calculates the average of a list of numbers, excluding the smallest and largest values.\n"
   ]
  },
  {
   "cell_type": "code",
   "execution_count": 23,
   "id": "c06de838",
   "metadata": {},
   "outputs": [
    {
     "name": "stdout",
     "output_type": "stream",
     "text": [
      "Enter a list of numbers separated by space: 5 8 7 6 55 88 22 66\n",
      "The average of the list (excluding the smallest and largest values) is: 27.33\n"
     ]
    }
   ],
   "source": [
    "def calculate_average(numbers):\n",
    "    if len(numbers) <= 2:\n",
    "        print(\"Insufficient number of elements to calculate the average.\")\n",
    "        return None\n",
    "\n",
    "    # Exclude the smallest and largest values\n",
    "    numbers.sort()\n",
    "    excluded_numbers = numbers[1:-1]\n",
    "\n",
    "    # Calculate the average\n",
    "    average = sum(excluded_numbers) / len(excluded_numbers)\n",
    "    return average\n",
    "\n",
    "# Input from the user\n",
    "number_list = [float(num) for num in input(\"Enter a list of numbers separated by space: \").split()]\n",
    "\n",
    "# Calculate and display the average\n",
    "average_result = calculate_average(number_list)\n",
    "\n",
    "if average_result is not None:\n",
    "    print(f\"The average of the list (excluding the smallest and largest values) is: {average_result:.2f}\")\n"
   ]
  },
  {
   "cell_type": "markdown",
   "id": "f42eb405",
   "metadata": {},
   "source": [
    "18. Develop a program that converts a given temperature from Celsius to Fahrenheit.\n"
   ]
  },
  {
   "cell_type": "code",
   "execution_count": 2,
   "id": "44dd46f7",
   "metadata": {},
   "outputs": [
    {
     "name": "stdout",
     "output_type": "stream",
     "text": [
      "Enter temperature in Celsius: 38\n",
      "38.0 degrees Celsius is equal to 100.4 degrees Fahrenheit.\n"
     ]
    }
   ],
   "source": [
    "# Get user input for temperature in Celsius\n",
    "celsius_temperature = float(input(\"Enter temperature in Celsius: \"))\n",
    "\n",
    "# Convert Celsius to Fahrenheit using the formula: (Celsius * 9/5) + 32\n",
    "fahrenheit_temperature = (celsius_temperature * 9/5) + 32\n",
    "\n",
    "# Display the result\n",
    "print(f\"{celsius_temperature} degrees Celsius is equal to {fahrenheit_temperature} degrees Fahrenheit.\")\n"
   ]
  },
  {
   "cell_type": "markdown",
   "id": "03ffe382",
   "metadata": {},
   "source": [
    "19. Create a program that simulates a basic calculator for addition, subtraction, multiplication, and division.\n"
   ]
  },
  {
   "cell_type": "code",
   "execution_count": 4,
   "id": "019f239b",
   "metadata": {},
   "outputs": [
    {
     "name": "stdout",
     "output_type": "stream",
     "text": [
      "Enter the first number: 10\n",
      "Enter the second number: 23\n",
      "Enter the operation (+, -, *, /): +\n",
      "Result: 10.0 + 23.0 = 33.0\n"
     ]
    }
   ],
   "source": [
    "def add(x, y):\n",
    "    return x + y\n",
    "\n",
    "def subtract(x, y):\n",
    "    return x - y\n",
    "\n",
    "def multiply(x, y):\n",
    "    return x * y\n",
    "\n",
    "def divide(x, y):\n",
    "    if y != 0:\n",
    "        return x / y\n",
    "    else:\n",
    "        return \"Cannot divide by zero.\"\n",
    "\n",
    "num1 = float(input(\"Enter the first number: \"))\n",
    "num2 = float(input(\"Enter the second number: \"))\n",
    "operation = input(\"Enter the operation (+, -, *, /): \")\n",
    "\n",
    "# Perform the selected operation\n",
    "result = 0\n",
    "if operation == '+':\n",
    "    result = add(num1, num2)\n",
    "elif operation == '-':\n",
    "    result = subtract(num1, num2)\n",
    "elif operation == '*':\n",
    "    result = multiply(num1, num2)\n",
    "elif operation == '/':\n",
    "    result = divide(num1, num2)\n",
    "else:\n",
    "    print(\"Invalid operation entered.\")\n",
    "\n",
    "# Display the result\n",
    "print(f\"Result: {num1} {operation} {num2} = {result}\")\n"
   ]
  },
  {
   "cell_type": "markdown",
   "id": "9642cf97",
   "metadata": {},
   "source": [
    "20. Write a program that determines the roots of a cubic equation using the Cardano formula.\n"
   ]
  },
  {
   "cell_type": "code",
   "execution_count": 6,
   "id": "6d26eb66",
   "metadata": {},
   "outputs": [
    {
     "name": "stdout",
     "output_type": "stream",
     "text": [
      "Enter the coefficient a: 10\n",
      "Enter the coefficient b: 20\n",
      "Enter the coefficient c: 30\n",
      "Enter the coefficient d: 40\n",
      "Roots of the cubic equation: [(-2.822090638713678-3.637078786572405j), (3.560847944094022+0.048112522432468344j), (-2.7387573053803442+3.588966264139936j)]\n"
     ]
    }
   ],
   "source": [
    "import cmath  # Import the complex math module\n",
    "\n",
    "# Function to find the roots of a cubic equation using the Cardano formula\n",
    "def find_cubic_roots(a, b, c, d):\n",
    "    # Calculate discriminant and its cube root\n",
    "    delta = 18 * a * b * c * d - 4 * b**3 * d + b**2 * c**2 - 4 * a * c**3 - 27 * a**2 * d**2\n",
    "    delta_cubed_root = cmath.exp(cmath.log(delta) / 3)\n",
    "\n",
    "    # Calculate intermediate values\n",
    "    p = (3 * a * c - b**2) / (3 * a**2)\n",
    "    q = (2 * b**3 - 9 * a * b * c + 27 * a**2 * d) / (27 * a**3)\n",
    "\n",
    "    # Calculate the complex cube roots of 1\n",
    "    omega = (-1 + cmath.sqrt(-3)) / 2\n",
    "    roots = []\n",
    "\n",
    "    # Calculate the three roots using Cardano formula\n",
    "    for k in range(3):\n",
    "        root_k = -1 / (3 * a) * (b + omega**k * delta_cubed_root + p / (omega**k))\n",
    "        roots.append(root_k)\n",
    "\n",
    "    return roots\n",
    "\n",
    "# Get user input for coefficients of the cubic equation\n",
    "a = float(input(\"Enter the coefficient a: \"))\n",
    "b = float(input(\"Enter the coefficient b: \"))\n",
    "c = float(input(\"Enter the coefficient c: \"))\n",
    "d = float(input(\"Enter the coefficient d: \"))\n",
    "\n",
    "# Find and display the roots of the cubic equation\n",
    "roots = find_cubic_roots(a, b, c, d)\n",
    "print(\"Roots of the cubic equation:\", roots)\n"
   ]
  },
  {
   "cell_type": "markdown",
   "id": "a2171b31",
   "metadata": {},
   "source": [
    "## Advanced Level:"
   ]
  },
  {
   "cell_type": "markdown",
   "id": "5d25ef73",
   "metadata": {},
   "source": [
    "21. Create a program that calculates the income tax based on the user's income and tax brackets.\n"
   ]
  },
  {
   "cell_type": "code",
   "execution_count": 8,
   "id": "75eab46b",
   "metadata": {},
   "outputs": [
    {
     "name": "stdout",
     "output_type": "stream",
     "text": [
      "Enter your income: 50000\n",
      "Your income tax is: 5000.00\n"
     ]
    }
   ],
   "source": [
    "# Function to calculate income tax\n",
    "def calculate_income_tax(income):\n",
    "    # Define tax brackets and rates\n",
    "    brackets = [0, 10000, 40000, 80000, float('inf')]\n",
    "    rates = [0.0, 0.1, 0.2, 0.3]\n",
    "\n",
    "    tax = 0.0\n",
    "    remaining_income = income\n",
    "\n",
    "    # Calculate tax for each bracket\n",
    "    for i in range(1, len(brackets)):\n",
    "        if remaining_income > 0:\n",
    "            bracket_income = min(remaining_income, brackets[i] - brackets[i - 1])\n",
    "            tax += bracket_income * rates[i - 1]\n",
    "            remaining_income -= bracket_income\n",
    "\n",
    "    return tax\n",
    "\n",
    "# Get user input for income\n",
    "income = float(input(\"Enter your income: \"))\n",
    "\n",
    "# Calculate and display income tax\n",
    "income_tax = calculate_income_tax(income)\n",
    "print(f\"Your income tax is: {income_tax:.2f}\")\n"
   ]
  },
  {
   "cell_type": "markdown",
   "id": "3022e851",
   "metadata": {},
   "source": [
    "22. Write a program that simulates a rock-paper-scissors game against the computer.\n"
   ]
  },
  {
   "cell_type": "code",
   "execution_count": 11,
   "id": "72fde35d",
   "metadata": {},
   "outputs": [
    {
     "name": "stdout",
     "output_type": "stream",
     "text": [
      "Enter your choice:\n",
      "1. Rock\n",
      "2. Paper\n",
      "3. Scissors\n",
      "Your choice (1, 2, or 3): 1\n",
      "\n",
      "You chose Rock\n",
      "The computer chose Scissors\n",
      "You win!\n"
     ]
    }
   ],
   "source": [
    "import random\n",
    "\n",
    "# Function to get the user's choice\n",
    "def get_user_choice():\n",
    "    print(\"Enter your choice:\")\n",
    "    print(\"1. Rock\")\n",
    "    print(\"2. Paper\")\n",
    "    print(\"3. Scissors\")\n",
    "    user_choice = input(\"Your choice (1, 2, or 3): \")\n",
    "    return user_choice\n",
    "\n",
    "# Function to get the computer's choice\n",
    "def get_computer_choice():\n",
    "    return str(random.randint(1, 3))\n",
    "\n",
    "# Function to determine the winner\n",
    "def determine_winner(user_choice, computer_choice):\n",
    "    print(f\"\\nYou chose {choices[user_choice]}\")\n",
    "    print(f\"The computer chose {choices[computer_choice]}\")\n",
    "\n",
    "    if user_choice == computer_choice:\n",
    "        return \"It's a tie!\"\n",
    "    elif (user_choice == \"1\" and computer_choice == \"3\") or \\\n",
    "         (user_choice == \"2\" and computer_choice == \"1\") or \\\n",
    "         (user_choice == \"3\" and computer_choice == \"2\"):\n",
    "        return \"You win!\"\n",
    "    else:\n",
    "        return \"You lose!\"\n",
    "\n",
    "# Map choices to their respective names\n",
    "choices = {\"1\": \"Rock\", \"2\": \"Paper\", \"3\": \"Scissors\"}\n",
    "\n",
    "# Get user and computer choices, and determine the winner\n",
    "user_choice = get_user_choice()\n",
    "computer_choice = get_computer_choice()\n",
    "result = determine_winner(user_choice, computer_choice)\n",
    "\n",
    "# Display the result\n",
    "print(result)\n"
   ]
  },
  {
   "cell_type": "markdown",
   "id": "988f11e0",
   "metadata": {},
   "source": [
    "23. Develop a program that generates a random password based on user preferences (length, complexity).\n"
   ]
  },
  {
   "cell_type": "code",
   "execution_count": 13,
   "id": "bb193543",
   "metadata": {},
   "outputs": [
    {
     "name": "stdout",
     "output_type": "stream",
     "text": [
      "Enter the desired password length: 8\n",
      "Include lowercase letters? (yes/no): yes\n",
      "Include uppercase letters? (yes/no): yes\n",
      "Include digits? (yes/no): yes\n",
      "Include special characters? (yes/no): no\n",
      "Generated Password: 7sS9CznN\n"
     ]
    }
   ],
   "source": [
    "import random\n",
    "import string\n",
    "\n",
    "def generate_password(length, include_lowercase, include_uppercase, include_digits, include_special_chars):\n",
    "    chars = \"\"\n",
    "    \n",
    "    if include_lowercase:\n",
    "        chars += string.ascii_lowercase\n",
    "    if include_uppercase:\n",
    "        chars += string.ascii_uppercase\n",
    "    if include_digits:\n",
    "        chars += string.digits\n",
    "    if include_special_chars:\n",
    "        chars += string.punctuation\n",
    "\n",
    "    if not chars:\n",
    "        return \"Please include at least one character type.\"\n",
    "\n",
    "    password = ''.join(random.choice(chars) for _ in range(length))\n",
    "    return password\n",
    "\n",
    "# Get user preferences for the password\n",
    "length = int(input(\"Enter the desired password length: \"))\n",
    "include_lowercase = input(\"Include lowercase letters? (yes/no): \").lower() == 'yes'\n",
    "include_uppercase = input(\"Include uppercase letters? (yes/no): \").lower() == 'yes'\n",
    "include_digits = input(\"Include digits? (yes/no): \").lower() == 'yes'\n",
    "include_special_chars = input(\"Include special characters? (yes/no): \").lower() == 'yes'\n",
    "\n",
    "# Generate and display the password\n",
    "password = generate_password(length, include_lowercase, include_uppercase, include_digits, include_special_chars)\n",
    "print(f\"Generated Password: {password}\")\n"
   ]
  },
  {
   "cell_type": "markdown",
   "id": "b6d90199",
   "metadata": {},
   "source": [
    "24. Create a program that implements a simple text-based adventure game with branching scenarios.\n"
   ]
  },
  {
   "cell_type": "code",
   "execution_count": 14,
   "id": "e81bf75a",
   "metadata": {},
   "outputs": [
    {
     "name": "stdout",
     "output_type": "stream",
     "text": [
      "Welcome to the Simple Adventure Game!\n",
      "You find yourself in front of a mysterious cave.\n",
      "Do you want to:\n",
      "1. Enter the cave\n",
      "2. Walk away\n",
      "Enter your choice (1 or 2): 1\n",
      "You enter the dark cave and see two tunnels.\n",
      "Do you want to:\n",
      "1. Take the left tunnel\n",
      "2. Take the right tunnel\n",
      "Enter your choice (1 or 2): 2\n",
      "You walk into a room filled with sleeping dragons.\n",
      "You accidentally wake them up!\n",
      "You manage to escape, but the dragons are now awake.\n",
      "Game Over.\n"
     ]
    }
   ],
   "source": [
    "import time\n",
    "\n",
    "def print_slow(text):\n",
    "    for char in text:\n",
    "        print(char, end='', flush=True)\n",
    "        time.sleep(0.05)\n",
    "    print()\n",
    "\n",
    "def intro():\n",
    "    print_slow(\"Welcome to the Simple Adventure Game!\")\n",
    "    print_slow(\"You find yourself in front of a mysterious cave.\")\n",
    "\n",
    "def choose_path():\n",
    "    print_slow(\"Do you want to:\")\n",
    "    print_slow(\"1. Enter the cave\")\n",
    "    print_slow(\"2. Walk away\")\n",
    "    return input(\"Enter your choice (1 or 2): \")\n",
    "\n",
    "def enter_cave():\n",
    "    print_slow(\"You enter the dark cave and see two tunnels.\")\n",
    "    print_slow(\"Do you want to:\")\n",
    "    print_slow(\"1. Take the left tunnel\")\n",
    "    print_slow(\"2. Take the right tunnel\")\n",
    "    return input(\"Enter your choice (1 or 2): \")\n",
    "\n",
    "def left_tunnel():\n",
    "    print_slow(\"You encounter a friendly group of bats!\")\n",
    "    print_slow(\"They guide you to a treasure chest.\")\n",
    "    print_slow(\"Congratulations! You win!\")\n",
    "\n",
    "def right_tunnel():\n",
    "    print_slow(\"You walk into a room filled with sleeping dragons.\")\n",
    "    print_slow(\"You accidentally wake them up!\")\n",
    "    print_slow(\"You manage to escape, but the dragons are now awake.\")\n",
    "    print_slow(\"Game Over.\")\n",
    "\n",
    "def walk_away():\n",
    "    print_slow(\"You decide not to enter the cave.\")\n",
    "    print_slow(\"Thanks for playing! Goodbye.\")\n",
    "\n",
    "def main():\n",
    "    intro()\n",
    "\n",
    "    choice1 = choose_path()\n",
    "\n",
    "    if choice1 == '1':\n",
    "        choice2 = enter_cave()\n",
    "        if choice2 == '1':\n",
    "            left_tunnel()\n",
    "        elif choice2 == '2':\n",
    "            right_tunnel()\n",
    "        else:\n",
    "            print_slow(\"Invalid choice. Game Over.\")\n",
    "    elif choice1 == '2':\n",
    "        walk_away()\n",
    "    else:\n",
    "        print_slow(\"Invalid choice. Game Over.\")\n",
    "\n",
    "if __name__ == \"__main__\":\n",
    "    main()\n"
   ]
  },
  {
   "cell_type": "markdown",
   "id": "b8d63320",
   "metadata": {},
   "source": [
    "25. Build a program that solves a linear equation  for x, considering different cases.\n"
   ]
  },
  {
   "cell_type": "code",
   "execution_count": 15,
   "id": "2d52ae3f",
   "metadata": {},
   "outputs": [
    {
     "name": "stdout",
     "output_type": "stream",
     "text": [
      "Enter the coefficient a: 11\n",
      "Enter the coefficient b: 22\n",
      "The solution for the linear equation 11.0x + 22.0 = 0 is x = -2.0\n"
     ]
    }
   ],
   "source": [
    "def solve_linear_equation(a, b):\n",
    "    if a == 0:\n",
    "        if b == 0:\n",
    "            return \"Infinite solutions (all real numbers are solutions)\"\n",
    "        else:\n",
    "            return \"No solution (contradiction)\"\n",
    "    else:\n",
    "        x = -b / a\n",
    "        return f\"The solution for the linear equation {a}x + {b} = 0 is x = {x}\"\n",
    "\n",
    "# Get user input for coefficients of the linear equation\n",
    "a = float(input(\"Enter the coefficient a: \"))\n",
    "b = float(input(\"Enter the coefficient b: \"))\n",
    "\n",
    "# Solve the linear equation and display the result\n",
    "result = solve_linear_equation(a, b)\n",
    "print(result)\n"
   ]
  },
  {
   "cell_type": "markdown",
   "id": "37df766c",
   "metadata": {},
   "source": [
    "26. Write a program that simulates a basic quiz game with multiple-choice questions and scoring.\n"
   ]
  },
  {
   "cell_type": "code",
   "execution_count": 16,
   "id": "9727aa63",
   "metadata": {},
   "outputs": [
    {
     "name": "stdout",
     "output_type": "stream",
     "text": [
      "Welcome to the Simple Quiz Game!\n",
      "What is the capital of France?\n",
      "1. Paris\n",
      "2. Berlin\n",
      "3. London\n",
      "4. Madrid\n",
      "Enter the number corresponding to your choice: 1\n",
      "Correct! You earned 1 point.\n",
      "Which planet is known as the Red Planet?\n",
      "1. Earth\n",
      "2. Mars\n",
      "3. Jupiter\n",
      "4. Venus\n",
      "Enter the number corresponding to your choice: 4\n",
      "Wrong! The correct answer is Mars.\n",
      "Who wrote 'Romeo and Juliet'?\n",
      "1. Charles Dickens\n",
      "2. William Shakespeare\n",
      "3. Jane Austen\n",
      "4. Mark Twain\n",
      "Enter the number corresponding to your choice: 5\n",
      "Invalid input. Skipping this question.\n",
      "\n",
      "Your final score is: 1 out of 3.\n"
     ]
    }
   ],
   "source": [
    "import time\n",
    "\n",
    "def print_slow(text):\n",
    "    for char in text:\n",
    "        print(char, end='', flush=True)\n",
    "        time.sleep(0.05)\n",
    "    print()\n",
    "\n",
    "def ask_question(question, options, correct_option, score):\n",
    "    print_slow(question)\n",
    "    for i, option in enumerate(options, start=1):\n",
    "        print(f\"{i}. {option}\")\n",
    "    user_answer = input(\"Enter the number corresponding to your choice: \")\n",
    "\n",
    "    if user_answer.isdigit() and 1 <= int(user_answer) <= len(options):\n",
    "        user_choice = options[int(user_answer) - 1]\n",
    "        if user_choice == correct_option:\n",
    "            print_slow(\"Correct! You earned 1 point.\")\n",
    "            score += 1\n",
    "        else:\n",
    "            print_slow(f\"Wrong! The correct answer is {correct_option}.\")\n",
    "    else:\n",
    "        print_slow(\"Invalid input. Skipping this question.\")\n",
    "\n",
    "    return score\n",
    "\n",
    "# Welcome message\n",
    "print_slow(\"Welcome to the Simple Quiz Game!\")\n",
    "time.sleep(1)\n",
    "\n",
    "# Initialize score\n",
    "score = 0\n",
    "\n",
    "# Question 1\n",
    "score = ask_question(\"What is the capital of France?\", [\"Paris\", \"Berlin\", \"London\", \"Madrid\"], \"Paris\", score)\n",
    "\n",
    "# Question 2\n",
    "score = ask_question(\"Which planet is known as the Red Planet?\", [\"Earth\", \"Mars\", \"Jupiter\", \"Venus\"], \"Mars\", score)\n",
    "\n",
    "# Question 3\n",
    "score = ask_question(\"Who wrote 'Romeo and Juliet'?\", [\"Charles Dickens\", \"William Shakespeare\", \"Jane Austen\", \"Mark Twain\"], \"William Shakespeare\", score)\n",
    "\n",
    "# Display final score\n",
    "print_slow(f\"\\nYour final score is: {score} out of 3.\")\n"
   ]
  },
  {
   "cell_type": "markdown",
   "id": "1fa596fa",
   "metadata": {},
   "source": [
    "\n",
    "27. Develop a program that determines whether a given year is a prime number or not.\n",
    "\n"
   ]
  },
  {
   "cell_type": "code",
   "execution_count": 2,
   "id": "9a38a6c3",
   "metadata": {},
   "outputs": [
    {
     "name": "stdout",
     "output_type": "stream",
     "text": [
      "Enter a year: 2002\n",
      "2002 is not a prime year.\n"
     ]
    }
   ],
   "source": [
    "def is_prime(year):\n",
    "    if year <= 1:\n",
    "        return False\n",
    "    for i in range(2, int(year**0.5) + 1):\n",
    "        if year % i == 0:\n",
    "            return False\n",
    "    return True\n",
    "\n",
    "year = input(\"Enter a year: \")\n",
    "\n",
    "if year.isdigit():\n",
    "    year = int(year)\n",
    "    if is_prime(year):\n",
    "        print(f\"{year} is a prime year.\")\n",
    "    else:\n",
    "        print(f\"{year} is not a prime year.\")\n",
    "else:\n",
    "    print(\"Please enter a valid integer.\")\n"
   ]
  },
  {
   "cell_type": "markdown",
   "id": "ccfe66c9",
   "metadata": {},
   "source": [
    "28. Create a program that sorts three numbers in ascending order using conditional statements.\n"
   ]
  },
  {
   "cell_type": "code",
   "execution_count": 3,
   "id": "38696dae",
   "metadata": {},
   "outputs": [
    {
     "name": "stdout",
     "output_type": "stream",
     "text": [
      "Enter the first number: 55\n",
      "Enter the second number: 44\n",
      "Enter the third number: 88\n",
      "Sorted numbers in ascending order: (44.0, 55.0, 88.0)\n"
     ]
    }
   ],
   "source": [
    "# Get three numbers from the user\n",
    "num1 = float(input(\"Enter the first number: \"))\n",
    "num2 = float(input(\"Enter the second number: \"))\n",
    "num3 = float(input(\"Enter the third number: \"))\n",
    "\n",
    "# Using conditional statements to sort the numbers\n",
    "if num1 <= num2 <= num3:\n",
    "    sorted_nums = (num1, num2, num3)\n",
    "elif num1 <= num3 <= num2:\n",
    "    sorted_nums = (num1, num3, num2)\n",
    "elif num2 <= num1 <= num3:\n",
    "    sorted_nums = (num2, num1, num3)\n",
    "elif num2 <= num3 <= num1:\n",
    "    sorted_nums = (num2, num3, num1)\n",
    "elif num3 <= num1 <= num2:\n",
    "    sorted_nums = (num3, num1, num2)\n",
    "else:\n",
    "    sorted_nums = (num3, num2, num1)\n",
    "\n",
    "# Display the sorted numbers\n",
    "print(\"Sorted numbers in ascending order:\", sorted_nums)\n"
   ]
  },
  {
   "cell_type": "markdown",
   "id": "52e37693",
   "metadata": {},
   "source": [
    "29. Build a program that determines the roots of a quartic equation using numerical methods.\n"
   ]
  },
  {
   "cell_type": "code",
   "execution_count": 4,
   "id": "5c4f481f",
   "metadata": {},
   "outputs": [
    {
     "name": "stdout",
     "output_type": "stream",
     "text": [
      "Root 1: 0.25\n",
      "Root 2: 1.0\n",
      "Root 3: 0.9999999999999997\n",
      "Root 4: 1.0000000000000004\n"
     ]
    }
   ],
   "source": [
    "def quartic_equation(x, coefficients):\n",
    "    return sum(c * (x**i) for i, c in enumerate(coefficients))\n",
    "\n",
    "def derivative_quartic(x, coefficients):\n",
    "    return sum(i * c * (x**(i-1)) for i, c in enumerate(coefficients) if i > 0)\n",
    "\n",
    "def newton_raphson_quartic(coefficients, initial_guess, tolerance=1e-6, max_iterations=1000):\n",
    "    x = initial_guess\n",
    "\n",
    "    for _ in range(max_iterations):\n",
    "        f_x = quartic_equation(x, coefficients)\n",
    "        f_prime_x = derivative_quartic(x, coefficients)\n",
    "\n",
    "        if abs(f_prime_x) < tolerance:\n",
    "            break\n",
    "\n",
    "        x = x - f_x / f_prime_x\n",
    "\n",
    "    return x\n",
    "\n",
    "# Example coefficients for the quartic equation: ax^4 + bx^3 + cx^2 + dx + e\n",
    "coefficients = [1, -10, 35, -50, 24]\n",
    "\n",
    "# Find the roots using the Newton-Raphson method\n",
    "root1 = newton_raphson_quartic(coefficients, initial_guess=0.0)\n",
    "root2 = newton_raphson_quartic(coefficients, initial_guess=1.0)\n",
    "root3 = newton_raphson_quartic(coefficients, initial_guess=2.0)\n",
    "root4 = newton_raphson_quartic(coefficients, initial_guess=3.0)\n",
    "\n",
    "print(\"Root 1:\", root1)\n",
    "print(\"Root 2:\", root2)\n",
    "print(\"Root 3:\", root3)\n",
    "print(\"Root 4:\", root4)\n"
   ]
  },
  {
   "cell_type": "markdown",
   "id": "487aa47f",
   "metadata": {},
   "source": [
    "30. Write a program that calculates the BMI (Body Mass Index) and provides health recommendations based \n",
    "on the user's input"
   ]
  },
  {
   "cell_type": "code",
   "execution_count": 5,
   "id": "829debe5",
   "metadata": {},
   "outputs": [
    {
     "name": "stdout",
     "output_type": "stream",
     "text": [
      "Enter your weight in kilograms: 55\n",
      "Enter your height in meters: 1.8\n",
      "Your BMI is: 16.98\n",
      "Underweight: Consider gaining weight for better health.\n"
     ]
    }
   ],
   "source": [
    "def calculate_bmi(weight, height):\n",
    "    return weight / (height**2)\n",
    "\n",
    "def health_recommendations(bmi):\n",
    "    if bmi < 18.5:\n",
    "        return \"Underweight: Consider gaining weight for better health.\"\n",
    "    elif 18.5 <= bmi < 24.9:\n",
    "        return \"Normal weight: Keep up the good work!\"\n",
    "    elif 25 <= bmi < 29.9:\n",
    "        return \"Overweight: Consider losing weight for better health.\"\n",
    "    else:\n",
    "        return \"Obese: It's recommended to consult with a healthcare professional.\"\n",
    "\n",
    "# Input for weight and height\n",
    "weight = float(input(\"Enter your weight in kilograms: \"))\n",
    "height = float(input(\"Enter your height in meters: \"))\n",
    "\n",
    "# Check if input values are valid\n",
    "if weight > 0 and height > 0:\n",
    "    # Calculate BMI\n",
    "    bmi = calculate_bmi(weight, height)\n",
    "\n",
    "    # Display BMI and health recommendations\n",
    "    print(f\"Your BMI is: {bmi:.2f}\")\n",
    "    print(health_recommendations(bmi))\n",
    "else:\n",
    "    print(\"Please enter valid positive values for weight and height.\")\n"
   ]
  },
  {
   "cell_type": "markdown",
   "id": "111b0828",
   "metadata": {},
   "source": [
    "## Challenge Level:"
   ]
  },
  {
   "cell_type": "markdown",
   "id": "972ed0d5",
   "metadata": {},
   "source": [
    "31. Create a program that validates a password based on complexity rules (length, characters, etc.).\n"
   ]
  },
  {
   "cell_type": "code",
   "execution_count": 6,
   "id": "611109f1",
   "metadata": {},
   "outputs": [
    {
     "name": "stdout",
     "output_type": "stream",
     "text": [
      "Enter your password: Pass@123\n",
      "Password is valid.\n"
     ]
    }
   ],
   "source": [
    "def is_valid_password(password):\n",
    "    # Check if password meets length requirement\n",
    "    if len(password) < 8:\n",
    "        return False\n",
    "\n",
    "    # Check if password contains at least one uppercase letter\n",
    "    if not any(char.isupper() for char in password):\n",
    "        return False\n",
    "\n",
    "    # Check if password contains at least one lowercase letter\n",
    "    if not any(char.islower() for char in password):\n",
    "        return False\n",
    "\n",
    "    # Check if password contains at least one digit\n",
    "    if not any(char.isdigit() for char in password):\n",
    "        return False\n",
    "\n",
    "    # Check if password contains at least one special character\n",
    "    special_characters = \"!@#$%^&*()-_=+[]{}|;:'\\\",.<>/?\"\n",
    "    if not any(char in special_characters for char in password):\n",
    "        return False\n",
    "\n",
    "    # If all checks pass, the password is valid\n",
    "    return True\n",
    "\n",
    "# Get password input from the user\n",
    "password = input(\"Enter your password: \")\n",
    "\n",
    "# Validate the password\n",
    "if is_valid_password(password):\n",
    "    print(\"Password is valid.\")\n",
    "else:\n",
    "    print(\"Password is not valid. Please ensure it meets the complexity requirements.\")\n"
   ]
  },
  {
   "cell_type": "markdown",
   "id": "723feffa",
   "metadata": {},
   "source": [
    "32. Develop a program that performs matrix addition and subtraction based on user input.\n"
   ]
  },
  {
   "cell_type": "code",
   "execution_count": 7,
   "id": "6dc7dcc4",
   "metadata": {},
   "outputs": [
    {
     "name": "stdout",
     "output_type": "stream",
     "text": [
      "Matrix 1:\n",
      "Enter the number of rows: 2\n",
      "Enter the number of columns: 2\n",
      "Enter the matrix elements:\n",
      "Enter element at position (1, 1): 4\n",
      "Enter element at position (1, 2): 5\n",
      "Enter element at position (2, 1): 6\n",
      "Enter element at position (2, 2): 7\n",
      "\n",
      "Matrix 2:\n",
      "Enter the number of rows: 2\n",
      "Enter the number of columns: 2\n",
      "Enter the matrix elements:\n",
      "Enter element at position (1, 1): 6\n",
      "Enter element at position (1, 2): 7\n",
      "Enter element at position (2, 1): 8\n",
      "Enter element at position (2, 2): 9\n",
      "\n",
      "Matrix Addition Result:\n",
      "[10.0, 12.0]\n",
      "[14.0, 16.0]\n",
      "\n",
      "Matrix Subtraction Result:\n",
      "[-2.0, -2.0]\n",
      "[-2.0, -2.0]\n"
     ]
    }
   ],
   "source": [
    "\n",
    "def add_matrices(matrix1, matrix2):\n",
    "    result = []\n",
    "    for i in range(len(matrix1)):\n",
    "        row = []\n",
    "        for j in range(len(matrix1[0])):\n",
    "            row.append(matrix1[i][j] + matrix2[i][j])\n",
    "        result.append(row)\n",
    "    return result\n",
    "\n",
    "def subtract_matrices(matrix1, matrix2):\n",
    "    result = []\n",
    "    for i in range(len(matrix1)):\n",
    "        row = []\n",
    "        for j in range(len(matrix1[0])):\n",
    "            row.append(matrix1[i][j] - matrix2[i][j])\n",
    "        result.append(row)\n",
    "    return result\n",
    "\n",
    "def input_matrix():\n",
    "    rows = int(input(\"Enter the number of rows: \"))\n",
    "    cols = int(input(\"Enter the number of columns: \"))\n",
    "\n",
    "    matrix = []\n",
    "    print(\"Enter the matrix elements:\")\n",
    "    for i in range(rows):\n",
    "        row = []\n",
    "        for j in range(cols):\n",
    "            element = float(input(f\"Enter element at position ({i+1}, {j+1}): \"))\n",
    "            row.append(element)\n",
    "        matrix.append(row)\n",
    "\n",
    "    return matrix\n",
    "\n",
    "def display_matrix(matrix):\n",
    "    for row in matrix:\n",
    "        print(row)\n",
    "\n",
    "# Input matrices from the user\n",
    "print(\"Matrix 1:\")\n",
    "matrix1 = input_matrix()\n",
    "\n",
    "print(\"\\nMatrix 2:\")\n",
    "matrix2 = input_matrix()\n",
    "\n",
    "# Perform matrix addition and subtraction\n",
    "sum_result = add_matrices(matrix1, matrix2)\n",
    "difference_result = subtract_matrices(matrix1, matrix2)\n",
    "\n",
    "# Display the results\n",
    "print(\"\\nMatrix Addition Result:\")\n",
    "display_matrix(sum_result)\n",
    "\n",
    "print(\"\\nMatrix Subtraction Result:\")\n",
    "display_matrix(difference_result)\n",
    "\n"
   ]
  },
  {
   "cell_type": "markdown",
   "id": "c00432fb",
   "metadata": {},
   "source": [
    "33. Write a program that calculates the greatest common divisor (GCD) of two numbers using the Euclidean \n",
    "algorithm.\n"
   ]
  },
  {
   "cell_type": "code",
   "execution_count": 8,
   "id": "311b1071",
   "metadata": {},
   "outputs": [
    {
     "name": "stdout",
     "output_type": "stream",
     "text": [
      "Enter the first number: 55\n",
      "Enter the second number: 44\n",
      "The Greatest Common Divisor (GCD) of 55 and 44 is: 11\n"
     ]
    }
   ],
   "source": [
    "def euclidean_algorithm(a, b):\n",
    "    while b:\n",
    "        a, b = b, a % b\n",
    "    return a\n",
    "\n",
    "# Input two numbers\n",
    "num1 = int(input(\"Enter the first number: \"))\n",
    "num2 = int(input(\"Enter the second number: \"))\n",
    "\n",
    "# Calculate the GCD using the Euclidean algorithm\n",
    "gcd = euclidean_algorithm(num1, num2)\n",
    "\n",
    "# Display the result\n",
    "print(f\"The Greatest Common Divisor (GCD) of {num1} and {num2} is: {gcd}\")\n"
   ]
  },
  {
   "cell_type": "markdown",
   "id": "b7f52972",
   "metadata": {},
   "source": [
    "\n",
    "34. Build a program that performs matrix multiplication using nested loops and conditional statements.\n"
   ]
  },
  {
   "cell_type": "code",
   "execution_count": 9,
   "id": "83a37817",
   "metadata": {},
   "outputs": [
    {
     "name": "stdout",
     "output_type": "stream",
     "text": [
      "Matrix 1:\n",
      "Enter the number of rows: 2\n",
      "Enter the number of columns: 2\n",
      "Enter the matrix elements:\n",
      "Enter element at position (1, 1): 5\n",
      "Enter element at position (1, 2): 6\n",
      "Enter element at position (2, 1): 9\n",
      "Enter element at position (2, 2): 8\n",
      "\n",
      "Matrix 2:\n",
      "Enter the number of rows: 2\n",
      "Enter the number of columns: 2\n",
      "Enter the matrix elements:\n",
      "Enter element at position (1, 1): 7\n",
      "Enter element at position (1, 2): 8\n",
      "Enter element at position (2, 1): 9\n",
      "Enter element at position (2, 2): 4\n",
      "\n",
      "Matrix Multiplication Result:\n",
      "[89.0, 64.0]\n",
      "[135.0, 104.0]\n"
     ]
    }
   ],
   "source": [
    "def matrix_multiplication(matrix1, matrix2):\n",
    "    result = []\n",
    "\n",
    "    # Check if the matrices can be multiplied\n",
    "    if len(matrix1[0]) != len(matrix2):\n",
    "        print(\"Error: Matrices cannot be multiplied. Number of columns in Matrix 1 must be equal to the number of rows in Matrix 2.\")\n",
    "        return None\n",
    "\n",
    "    # Initialize the result matrix with zeros\n",
    "    for i in range(len(matrix1)):\n",
    "        result.append([0] * len(matrix2[0]))\n",
    "\n",
    "    # Perform matrix multiplication\n",
    "    for i in range(len(matrix1)):\n",
    "        for j in range(len(matrix2[0])):\n",
    "            for k in range(len(matrix2)):\n",
    "                result[i][j] += matrix1[i][k] * matrix2[k][j]\n",
    "\n",
    "    return result\n",
    "\n",
    "def input_matrix():\n",
    "    rows = int(input(\"Enter the number of rows: \"))\n",
    "    cols = int(input(\"Enter the number of columns: \"))\n",
    "\n",
    "    matrix = []\n",
    "    print(\"Enter the matrix elements:\")\n",
    "    for i in range(rows):\n",
    "        row = []\n",
    "        for j in range(cols):\n",
    "            element = float(input(f\"Enter element at position ({i+1}, {j+1}): \"))\n",
    "            row.append(element)\n",
    "        matrix.append(row)\n",
    "\n",
    "    return matrix\n",
    "\n",
    "def display_matrix(matrix):\n",
    "    for row in matrix:\n",
    "        print(row)\n",
    "\n",
    "# Input matrices from the user\n",
    "print(\"Matrix 1:\")\n",
    "matrix1 = input_matrix()\n",
    "\n",
    "print(\"\\nMatrix 2:\")\n",
    "matrix2 = input_matrix()\n",
    "\n",
    "# Perform matrix multiplication\n",
    "result_matrix = matrix_multiplication(matrix1, matrix2)\n",
    "\n",
    "# Display the result\n",
    "if result_matrix:\n",
    "    print(\"\\nMatrix Multiplication Result:\")\n",
    "    display_matrix(result_matrix)\n"
   ]
  },
  {
   "cell_type": "markdown",
   "id": "5ae8f475",
   "metadata": {},
   "source": [
    "35. Create a program that simulates a basic text-based tic-tac-toe game against the computer.\n"
   ]
  },
  {
   "cell_type": "code",
   "execution_count": 10,
   "id": "4a6c8f39",
   "metadata": {},
   "outputs": [
    {
     "name": "stdout",
     "output_type": "stream",
     "text": [
      "Welcome to Tic-Tac-Toe!\n",
      "\n",
      "  |   |  \n",
      "-----------------\n",
      "  |   |  \n",
      "-----------------\n",
      "  |   |  \n",
      "-----------------\n",
      "Computer's turn:\n",
      "  |   |  \n",
      "-----------------\n",
      "  |   | O\n",
      "-----------------\n",
      "  |   |  \n",
      "-----------------\n",
      "Enter the row (1, 2, or 3): 1\n",
      "Enter the column (1, 2, or 3): 1\n",
      "X |   |  \n",
      "-----------------\n",
      "  |   | O\n",
      "-----------------\n",
      "  |   |  \n",
      "-----------------\n",
      "Computer's turn:\n",
      "X |   | O\n",
      "-----------------\n",
      "  |   | O\n",
      "-----------------\n",
      "  |   |  \n",
      "-----------------\n",
      "Enter the row (1, 2, or 3): 2\n",
      "Enter the column (1, 2, or 3): 2\n",
      "X |   | O\n",
      "-----------------\n",
      "  | X | O\n",
      "-----------------\n",
      "  |   |  \n",
      "-----------------\n",
      "Computer's turn:\n",
      "X |   | O\n",
      "-----------------\n",
      "  | X | O\n",
      "-----------------\n",
      "  | O |  \n",
      "-----------------\n",
      "Enter the row (1, 2, or 3): 3\n",
      "Enter the column (1, 2, or 3): 3\n",
      "X |   | O\n",
      "-----------------\n",
      "  | X | O\n",
      "-----------------\n",
      "  | O | X\n",
      "-----------------\n",
      "X wins!\n"
     ]
    }
   ],
   "source": [
    "import random\n",
    "\n",
    "def print_board(board):\n",
    "    for row in board:\n",
    "        print(\" | \".join(row))\n",
    "        print(\"-\" * 17)\n",
    "\n",
    "def check_winner(board, player):\n",
    "    # Check rows and columns\n",
    "    for i in range(3):\n",
    "        if all(board[i][j] == player for j in range(3)) or all(board[j][i] == player for j in range(3)):\n",
    "            return True\n",
    "\n",
    "    # Check diagonals\n",
    "    if all(board[i][i] == player for i in range(3)) or all(board[i][2 - i] == player for i in range(3)):\n",
    "        return True\n",
    "\n",
    "    return False\n",
    "\n",
    "def is_board_full(board):\n",
    "    return all(board[i][j] != ' ' for i in range(3) for j in range(3))\n",
    "\n",
    "def get_empty_cells(board):\n",
    "    return [(i, j) for i in range(3) for j in range(3) if board[i][j] == ' ']\n",
    "\n",
    "def player_move(board):\n",
    "    while True:\n",
    "        try:\n",
    "            row = int(input(\"Enter the row (1, 2, or 3): \")) - 1\n",
    "            col = int(input(\"Enter the column (1, 2, or 3): \")) - 1\n",
    "\n",
    "            if board[row][col] == ' ':\n",
    "                return row, col\n",
    "            else:\n",
    "                print(\"Cell already occupied. Try again.\")\n",
    "        except (ValueError, IndexError):\n",
    "            print(\"Invalid input. Please enter a valid row and column.\")\n",
    "\n",
    "def computer_move(board):\n",
    "    empty_cells = get_empty_cells(board)\n",
    "    return random.choice(empty_cells)\n",
    "\n",
    "board = [[' ' for _ in range(3)] for _ in range(3)]\n",
    "players = ['X', 'O']\n",
    "current_player = random.choice(players)\n",
    "\n",
    "print(\"Welcome to Tic-Tac-Toe!\\n\")\n",
    "\n",
    "while True:\n",
    "    print_board(board)\n",
    "\n",
    "    if current_player == 'X':\n",
    "        row, col = player_move(board)\n",
    "    else:\n",
    "        print(\"Computer's turn:\")\n",
    "        row, col = computer_move(board)\n",
    "\n",
    "    board[row][col] = current_player\n",
    "\n",
    "    if check_winner(board, current_player):\n",
    "        print_board(board)\n",
    "        print(f\"{current_player} wins!\")\n",
    "        break\n",
    "\n",
    "    if is_board_full(board):\n",
    "        print_board(board)\n",
    "        print(\"It's a tie!\")\n",
    "        break\n",
    "\n",
    "    current_player = 'O' if current_player == 'X' else 'X'\n"
   ]
  },
  {
   "cell_type": "markdown",
   "id": "d9a86b1a",
   "metadata": {},
   "source": [
    "36. Write a program that generates Fibonacci numbers up to a specified term using iterative methods.\n"
   ]
  },
  {
   "cell_type": "code",
   "execution_count": 11,
   "id": "74790f10",
   "metadata": {},
   "outputs": [
    {
     "name": "stdout",
     "output_type": "stream",
     "text": [
      "Enter the number of Fibonacci terms to generate: 6\n",
      "Fibonacci sequence up to term 6: [0, 1, 1, 2, 3, 5]\n"
     ]
    }
   ],
   "source": [
    "def generate_fibonacci(n):\n",
    "    fibonacci_sequence = [0, 1]\n",
    "\n",
    "    for i in range(2, n):\n",
    "        next_term = fibonacci_sequence[-1] + fibonacci_sequence[-2]\n",
    "        fibonacci_sequence.append(next_term)\n",
    "\n",
    "    return fibonacci_sequence[:n]\n",
    "\n",
    "# Get the number of terms from the user\n",
    "n = int(input(\"Enter the number of Fibonacci terms to generate: \"))\n",
    "\n",
    "if n <= 0:\n",
    "    print(\"Please enter a positive integer.\")\n",
    "else:\n",
    "    fibonacci_numbers = generate_fibonacci(n)\n",
    "    print(f\"Fibonacci sequence up to term {n}: {fibonacci_numbers}\")\n"
   ]
  },
  {
   "cell_type": "markdown",
   "id": "5b7d997e",
   "metadata": {},
   "source": [
    "37. Develop a program that calculates the nth term of the Fibonacci sequence using memoization.\n"
   ]
  },
  {
   "cell_type": "code",
   "execution_count": 13,
   "id": "b981bfbc",
   "metadata": {},
   "outputs": [
    {
     "name": "stdout",
     "output_type": "stream",
     "text": [
      "Enter the term number of the Fibonacci sequence: 8\n",
      "The 8th term of the Fibonacci sequence is: 21\n"
     ]
    }
   ],
   "source": [
    "def fibonacci_memo(n, memo={}):\n",
    "    if n <= 1:\n",
    "        return n\n",
    "\n",
    "    if n not in memo:\n",
    "        memo[n] = fibonacci_memo(n - 1, memo) + fibonacci_memo(n - 2, memo)\n",
    "\n",
    "    return memo[n]\n",
    "\n",
    "# Get the term number from the user\n",
    "n = int(input(\"Enter the term number of the Fibonacci sequence: \"))\n",
    "\n",
    "if n < 0:\n",
    "    print(\"Please enter a non-negative integer.\")\n",
    "else:\n",
    "    result = fibonacci_memo(n)\n",
    "    print(f\"The {n}th term of the Fibonacci sequence is: {result}\")\n"
   ]
  },
  {
   "cell_type": "markdown",
   "id": "862dc810",
   "metadata": {},
   "source": [
    "38. Create a program that generates a calendar for a given month and year using conditional statements.\n"
   ]
  },
  {
   "cell_type": "code",
   "execution_count": 14,
   "id": "18eba9bc",
   "metadata": {},
   "outputs": [
    {
     "name": "stdout",
     "output_type": "stream",
     "text": [
      "Enter the year: 2024\n",
      "Enter the month (1-12): 11\n",
      "   November 2024    \n",
      "--------------------\n",
      "Mo Tu We Th Fr Sa Su\n",
      "             1  2  3\n",
      " 4  5  6  7  8  9 10\n",
      "11 12 13 14 15 16 17\n",
      "18 19 20 21 22 23 24\n",
      "25 26 27 28 29 30\n"
     ]
    }
   ],
   "source": [
    "import calendar\n",
    "\n",
    "def generate_calendar(year, month):\n",
    "    cal = calendar.monthcalendar(year, month)\n",
    "    header = calendar.month_name[month] + \" \" + str(year)\n",
    "    \n",
    "    print(header.center(20))\n",
    "    print(\"-\" * 20)\n",
    "    print(\"Mo Tu We Th Fr Sa Su\")\n",
    "\n",
    "    for week in cal:\n",
    "        week_str = \"\"\n",
    "        for day in week:\n",
    "            if day == 0:\n",
    "                week_str += \"   \"\n",
    "            else:\n",
    "                week_str += f\"{day:2} \"\n",
    "        print(week_str.rstrip())\n",
    "\n",
    "# Get the year and month from the user\n",
    "try:\n",
    "    year = int(input(\"Enter the year: \"))\n",
    "    month = int(input(\"Enter the month (1-12): \"))\n",
    "\n",
    "    if 1 <= month <= 12:\n",
    "        generate_calendar(year, month)\n",
    "    else:\n",
    "        print(\"Invalid month. Please enter a month between 1 and 12.\")\n",
    "except ValueError:\n",
    "    print(\"Invalid input. Please enter valid integers for year and month.\")\n"
   ]
  },
  {
   "cell_type": "markdown",
   "id": "4b4c7def",
   "metadata": {},
   "source": [
    "39. Build a program that simulates a basic text-based blackjack game against the computer.\n"
   ]
  },
  {
   "cell_type": "code",
   "execution_count": 15,
   "id": "e0736d24",
   "metadata": {},
   "outputs": [
    {
     "name": "stdout",
     "output_type": "stream",
     "text": [
      "Welcome to Blackjack!\n",
      "\n",
      "Your cards: [7, 7], current score: 14\n",
      "Computer's first card: 3\n",
      "Type 'y' to get another card, 'n' to pass: y\n",
      "Your cards: [7, 7, 10], current score: 24\n",
      "Computer's first card: 3\n",
      "Your final hand: [7, 7, 10], final score: 24\n",
      "Computer's final hand: [3, 5, 6, 10], final score: 24\n",
      "It's a draw!\n"
     ]
    }
   ],
   "source": [
    "import random\n",
    "\n",
    "def deal_card():\n",
    "    \"\"\"Return a random card from the deck.\"\"\"\n",
    "    cards = [11, 2, 3, 4, 5, 6, 7, 8, 9, 10, 10, 10, 10]\n",
    "    return random.choice(cards)\n",
    "\n",
    "def calculate_score(cards):\n",
    "    \"\"\"Calculate the score of a hand.\"\"\"\n",
    "    if sum(cards) == 21 and len(cards) == 2:\n",
    "        return 0  # Blackjack (Ace + 10-value card)\n",
    "    if 11 in cards and sum(cards) > 21:\n",
    "        cards.remove(11)\n",
    "        cards.append(1)  # Convert Ace from 11 to 1\n",
    "    return sum(cards)\n",
    "\n",
    "def compare(player_score, computer_score):\n",
    "    \"\"\"Compare the scores and determine the winner.\"\"\"\n",
    "    if player_score == computer_score:\n",
    "        return \"It's a draw!\"\n",
    "    elif computer_score == 0:\n",
    "        return \"Computer has Blackjack. You lose!\"\n",
    "    elif player_score == 0:\n",
    "        return \"Blackjack! You win!\"\n",
    "    elif player_score > 21:\n",
    "        return \"You went over. You lose!\"\n",
    "    elif computer_score > 21:\n",
    "        return \"Computer went over. You win!\"\n",
    "    elif player_score > computer_score:\n",
    "        return \"You win!\"\n",
    "    else:\n",
    "        return \"You lose!\"\n",
    "\n",
    "def play_game():\n",
    "    print(\"Welcome to Blackjack!\\n\")\n",
    "\n",
    "    # Initial deal\n",
    "    player_cards = [deal_card(), deal_card()]\n",
    "    computer_cards = [deal_card()]\n",
    "\n",
    "    game_over = False\n",
    "\n",
    "    while not game_over:\n",
    "        player_score = calculate_score(player_cards)\n",
    "        computer_score = calculate_score(computer_cards)\n",
    "\n",
    "        print(f\"Your cards: {player_cards}, current score: {player_score}\")\n",
    "        print(f\"Computer's first card: {computer_cards[0]}\")\n",
    "\n",
    "        # Check for Blackjack or if the player is over 21\n",
    "        if player_score == 0 or player_score > 21:\n",
    "            game_over = True\n",
    "        else:\n",
    "            should_continue = input(\"Type 'y' to get another card, 'n' to pass: \").lower()\n",
    "            if should_continue == 'y':\n",
    "                player_cards.append(deal_card())\n",
    "            else:\n",
    "                game_over = True\n",
    "\n",
    "    # Computer's turn\n",
    "    while computer_score != 0 and computer_score < 17:\n",
    "        computer_cards.append(deal_card())\n",
    "        computer_score = calculate_score(computer_cards)\n",
    "\n",
    "    print(f\"Your final hand: {player_cards}, final score: {player_score}\")\n",
    "    print(f\"Computer's final hand: {computer_cards}, final score: {computer_score}\")\n",
    "\n",
    "    result = compare(player_score, computer_score)\n",
    "    print(result)\n",
    "\n",
    "# Start the game\n",
    "play_game()\n"
   ]
  },
  {
   "cell_type": "markdown",
   "id": "ac88c35f",
   "metadata": {},
   "source": [
    "40. Write a program that generates the prime factors of a given number using trial division.\n"
   ]
  },
  {
   "cell_type": "code",
   "execution_count": 16,
   "id": "3f863471",
   "metadata": {},
   "outputs": [
    {
     "name": "stdout",
     "output_type": "stream",
     "text": [
      "Enter a number to find its prime factors: 8\n",
      "Prime factors of 8: [2, 2, 2]\n"
     ]
    }
   ],
   "source": [
    "def prime_factors(n):\n",
    "    factors = []\n",
    "    divisor = 2\n",
    "\n",
    "    while n > 1:\n",
    "        while n % divisor == 0:\n",
    "            factors.append(divisor)\n",
    "            n //= divisor\n",
    "        divisor += 1\n",
    "\n",
    "    return factors\n",
    "\n",
    "# Get the number from the user\n",
    "try:\n",
    "    number = int(input(\"Enter a number to find its prime factors: \"))\n",
    "\n",
    "    if number < 2:\n",
    "        print(\"Prime factors are only applicable to numbers greater than or equal to 2.\")\n",
    "    else:\n",
    "        factors = prime_factors(number)\n",
    "        print(f\"Prime factors of {number}: {factors}\")\n",
    "except ValueError:\n",
    "    print(\"Invalid input. Please enter a valid integer.\")\n"
   ]
  },
  {
   "cell_type": "code",
   "execution_count": null,
   "id": "905c8182",
   "metadata": {},
   "outputs": [],
   "source": []
  }
 ],
 "metadata": {
  "kernelspec": {
   "display_name": "Python 3 (ipykernel)",
   "language": "python",
   "name": "python3"
  },
  "language_info": {
   "codemirror_mode": {
    "name": "ipython",
    "version": 3
   },
   "file_extension": ".py",
   "mimetype": "text/x-python",
   "name": "python",
   "nbconvert_exporter": "python",
   "pygments_lexer": "ipython3",
   "version": "3.10.9"
  }
 },
 "nbformat": 4,
 "nbformat_minor": 5
}
