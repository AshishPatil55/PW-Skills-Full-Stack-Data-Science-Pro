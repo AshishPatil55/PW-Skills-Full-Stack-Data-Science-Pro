{
 "cells": [
  {
   "cell_type": "markdown",
   "id": "f7b5203d",
   "metadata": {},
   "source": [
    "# Basic Level:\n",
    "\n"
   ]
  },
  {
   "cell_type": "markdown",
   "id": "1fcb294a",
   "metadata": {},
   "source": [
    "1. Write a Python program to print the numbers from 1 to 10 using a `for` loop."
   ]
  },
  {
   "cell_type": "code",
   "execution_count": 3,
   "id": "68ea445a",
   "metadata": {},
   "outputs": [
    {
     "name": "stdout",
     "output_type": "stream",
     "text": [
      "1\n",
      "2\n",
      "3\n",
      "4\n",
      "5\n",
      "6\n",
      "7\n",
      "8\n",
      "9\n",
      "10\n"
     ]
    }
   ],
   "source": [
    "for i in range(1,11):\n",
    "    print(i)"
   ]
  },
  {
   "cell_type": "markdown",
   "id": "76ebba1b",
   "metadata": {},
   "source": [
    "2. Create a program that calculates the sum of all numbers in a list using a `for` loop."
   ]
  },
  {
   "cell_type": "code",
   "execution_count": 5,
   "id": "80336e7f",
   "metadata": {},
   "outputs": [
    {
     "name": "stdout",
     "output_type": "stream",
     "text": [
      "Sum of Elements in List is: 210\n"
     ]
    }
   ],
   "source": [
    "sum=0\n",
    "lst=[10,20,30,40,50,60]\n",
    "for i in lst:\n",
    "    sum=sum+i\n",
    "print(\"Sum of Elements in List is:\",sum)"
   ]
  },
  {
   "cell_type": "markdown",
   "id": "f31e9b9d",
   "metadata": {},
   "source": [
    "3. Write a program to print the characters of a string in reverse order using a `for` loop."
   ]
  },
  {
   "cell_type": "code",
   "execution_count": 12,
   "id": "5dd19204",
   "metadata": {},
   "outputs": [
    {
     "name": "stdout",
     "output_type": "stream",
     "text": [
      "reersed string is hsihsA\n"
     ]
    }
   ],
   "source": [
    "str1=\"Ashish\"\n",
    "newstr=\"\"\n",
    "for i in str1[::-1]:\n",
    "    newstr += i\n",
    "print(\"reersed string is\",newstr)"
   ]
  },
  {
   "cell_type": "markdown",
   "id": "80398bff",
   "metadata": {},
   "source": [
    "4. Develop a program that finds the factorial of a given number using a `for` loop."
   ]
  },
  {
   "cell_type": "markdown",
   "id": "27d61b64",
   "metadata": {},
   "source": [
    "n=5\n",
    "fact=1\n",
    "for i in range(1,n+1):\n",
    "    fact=fact*i  \n",
    "print(fact)\n"
   ]
  },
  {
   "cell_type": "markdown",
   "id": "9f21f058",
   "metadata": {},
   "source": [
    "5. Create a program to print the multiplication table of a given number using a `for` loop"
   ]
  },
  {
   "cell_type": "code",
   "execution_count": 18,
   "id": "8f21f0de",
   "metadata": {},
   "outputs": [
    {
     "name": "stdout",
     "output_type": "stream",
     "text": [
      "Enter any Number:5\n",
      "5 X 1 = 5\n",
      "5 X 2 = 10\n",
      "5 X 3 = 15\n",
      "5 X 4 = 20\n",
      "5 X 5 = 25\n",
      "5 X 6 = 30\n",
      "5 X 7 = 35\n",
      "5 X 8 = 40\n",
      "5 X 9 = 45\n",
      "5 X 10 = 50\n"
     ]
    }
   ],
   "source": [
    "num=int(input(\"Enter any Number:\"))\n",
    "for i in range(1,11):\n",
    "    mul=num*i\n",
    "    print(\"{} X {} = {}\".format(num,i,mul))"
   ]
  },
  {
   "cell_type": "markdown",
   "id": "57dc2768",
   "metadata": {},
   "source": [
    "6. Write a program that counts the number of even and odd numbers in a list using a `for` loop."
   ]
  },
  {
   "cell_type": "code",
   "execution_count": 10,
   "id": "bad43224",
   "metadata": {},
   "outputs": [
    {
     "name": "stdout",
     "output_type": "stream",
     "text": [
      "Even Numbers are: 7\n",
      "Odd Numbers are: 8\n"
     ]
    }
   ],
   "source": [
    "lst=[1,2,3,4,5,6,7,8,9,10,11,12,13,14,15]\n",
    "even_count=0\n",
    "odd_count=0\n",
    "for i in lst:\n",
    "    if i%2==0:\n",
    "        even_count+=1\n",
    "    else:\n",
    "        odd_count+=1\n",
    "print(\"Even Numbers are:\",even_count)\n",
    "print(\"Odd Numbers are:\",odd_count)"
   ]
  },
  {
   "cell_type": "markdown",
   "id": "fc5756bc",
   "metadata": {},
   "source": [
    "7. Develop a program that prints the squares of numbers from 1 to 5 using a `for` loop."
   ]
  },
  {
   "cell_type": "code",
   "execution_count": 12,
   "id": "3fcf9e85",
   "metadata": {},
   "outputs": [
    {
     "name": "stdout",
     "output_type": "stream",
     "text": [
      "1\n",
      "4\n",
      "9\n",
      "16\n",
      "25\n"
     ]
    }
   ],
   "source": [
    "for i in range(1,6):\n",
    "    square=i**2\n",
    "    print(square)"
   ]
  },
  {
   "cell_type": "markdown",
   "id": "f27ba24a",
   "metadata": {},
   "source": [
    "8. Create a program to find the length of a string without using the `len()` function.\n",
    "\n"
   ]
  },
  {
   "cell_type": "code",
   "execution_count": 14,
   "id": "e17921c4",
   "metadata": {},
   "outputs": [
    {
     "name": "stdout",
     "output_type": "stream",
     "text": [
      "length of String is: 6\n"
     ]
    }
   ],
   "source": [
    "lenth=0\n",
    "s=\"ashish\"\n",
    "for i in s:\n",
    "    lenth+=1\n",
    "print(\"length of String is:\",lenth)"
   ]
  },
  {
   "cell_type": "markdown",
   "id": "861e00ef",
   "metadata": {},
   "source": [
    "9. Write a program that calculates the average of a list of numbers using a `for` loop"
   ]
  },
  {
   "cell_type": "code",
   "execution_count": 19,
   "id": "f9a994e2",
   "metadata": {},
   "outputs": [
    {
     "name": "stdout",
     "output_type": "stream",
     "text": [
      "Average of list is: 6.0\n"
     ]
    }
   ],
   "source": [
    "lst=[2,3,4,5,6,7,8,9,10]\n",
    "sum=0\n",
    "count=0\n",
    "for i in lst:\n",
    "    count+=1\n",
    "    sum+=i\n",
    "average=sum/count\n",
    "print(\"Average of list is:\",average)\n",
    "    "
   ]
  },
  {
   "cell_type": "markdown",
   "id": "2439cf77",
   "metadata": {},
   "source": [
    "10. Develop a program that prints the first `n` Fibonacci numbers using a `for` loop"
   ]
  },
  {
   "cell_type": "code",
   "execution_count": 32,
   "id": "dea5e51a",
   "metadata": {},
   "outputs": [
    {
     "name": "stdout",
     "output_type": "stream",
     "text": [
      "Enter any Number:5\n",
      "0\n",
      "1\n",
      "2\n",
      "3\n",
      "5\n"
     ]
    }
   ],
   "source": [
    "n=int(input(\"Enter any Number:\"))\n",
    "a=0\n",
    "b=1\n",
    "for i in range(n):\n",
    "    if i<=1:\n",
    "        print(i)\n",
    "    else:\n",
    "        a,b=b,a+b\n",
    "        fib=a+b\n",
    "        print(fib)\n"
   ]
  },
  {
   "cell_type": "markdown",
   "id": "24405498",
   "metadata": {},
   "source": [
    "# Intermediate Level:"
   ]
  },
  {
   "cell_type": "markdown",
   "id": "3e1b8362",
   "metadata": {},
   "source": [
    "11. Write a program to check if a given list contains any duplicates using a `for` loop."
   ]
  },
  {
   "cell_type": "code",
   "execution_count": 10,
   "id": "256d48f2",
   "metadata": {},
   "outputs": [
    {
     "name": "stdout",
     "output_type": "stream",
     "text": [
      "List Contains Duplicates\n"
     ]
    }
   ],
   "source": [
    "def check_duplicate(lst2):\n",
    "    for i in range(len(lst2)):\n",
    "        for j in range(i+1,len(lst2)):\n",
    "            if lst2[i]==lst2[j]:\n",
    "                return True\n",
    "    else:\n",
    "        return False\n",
    "\n",
    "lst2=[10,11,12,13,14,15,16,11]\n",
    "res=check_duplicate(lst2)\n",
    "if res:\n",
    "    print(\"List Contains Duplicates\")\n",
    "else:\n",
    "     print(\"List doesnt Contains Duplicates\")\n",
    "    "
   ]
  },
  {
   "cell_type": "markdown",
   "id": "c4bd95e2",
   "metadata": {},
   "source": [
    "12. Create a program that prints the prime numbers in a given range using a `for` loop"
   ]
  },
  {
   "cell_type": "code",
   "execution_count": 45,
   "id": "c06681fb",
   "metadata": {},
   "outputs": [
    {
     "name": "stdout",
     "output_type": "stream",
     "text": [
      "Enter the start of the range: 1\n",
      "Enter the end of the range: 22\n",
      "Prime numbers in the range 1 to 22 are:\n",
      "2\n",
      "3\n",
      "5\n",
      "7\n",
      "11\n",
      "13\n",
      "17\n",
      "19\n"
     ]
    }
   ],
   "source": [
    "def is_prime(num):\n",
    "    if num < 2:\n",
    "        return False\n",
    "    for i in range(2, int(num**0.5) + 1):\n",
    "        if num % i == 0:\n",
    "            return False\n",
    "    return True\n",
    "\n",
    "# Get the range from the user\n",
    "start = int(input(\"Enter the start of the range: \"))\n",
    "end = int(input(\"Enter the end of the range: \"))\n",
    "\n",
    "# Display prime numbers in the given range using the function\n",
    "print(f\"Prime numbers in the range {start} to {end} are:\")\n",
    "\n",
    "for num in range(start, end + 1):\n",
    "    if is_prime(num):\n",
    "        print(num)\n"
   ]
  },
  {
   "cell_type": "markdown",
   "id": "0777ad43",
   "metadata": {},
   "source": [
    "13. Develop a program that counts the number of vowels in a string using a `for` loop."
   ]
  },
  {
   "cell_type": "code",
   "execution_count": 55,
   "id": "f46e9d02",
   "metadata": {},
   "outputs": [
    {
     "name": "stdout",
     "output_type": "stream",
     "text": [
      "Total number of Vowels is: 2\n"
     ]
    }
   ],
   "source": [
    "str1=\"ashish\"\n",
    "vow=\"aeiou\"\n",
    "count=0\n",
    "for i in str1:\n",
    "    if i in vow:\n",
    "        count+=1\n",
    "print(\"Total number of Vowels is:\",count)\n",
    "\n",
    "\n",
    "        "
   ]
  },
  {
   "cell_type": "markdown",
   "id": "857b1039",
   "metadata": {},
   "source": [
    "14. Write a program to find the maximum element in a 2D list using a nested `for` loop."
   ]
  },
  {
   "cell_type": "code",
   "execution_count": 63,
   "id": "02f10dff",
   "metadata": {},
   "outputs": [
    {
     "name": "stdout",
     "output_type": "stream",
     "text": [
      "The maximum element in the 2D list is: 91\n"
     ]
    }
   ],
   "source": [
    "# Sample 2D list\n",
    "matrix = [\n",
    "    [3, 5, 2],\n",
    "    [8, 1, 4],\n",
    "    [7, 6, 91]\n",
    "]\n",
    "\n",
    "# Initialize max_element with the first element of the matrix\n",
    "max_element = matrix[0][0]\n",
    "\n",
    "# Use nested for loops to iterate through each element in the matrix\n",
    "for row in matrix:\n",
    "    for element in row:\n",
    "        # Compare the current element with the current max_element\n",
    "        if element > max_element:\n",
    "            max_element = element\n",
    "\n",
    "# Display the result\n",
    "print(\"The maximum element in the 2D list is:\", max_element)\n"
   ]
  },
  {
   "cell_type": "markdown",
   "id": "6b6b5f12",
   "metadata": {},
   "source": [
    "15. Create a program that removes all occurrences of a specific element from a list using a `for` loop."
   ]
  },
  {
   "cell_type": "code",
   "execution_count": 65,
   "id": "784ecf0f",
   "metadata": {},
   "outputs": [
    {
     "name": "stdout",
     "output_type": "stream",
     "text": [
      "enter element to remove30\n",
      "[10, 20, 40, 50, 60]\n"
     ]
    }
   ],
   "source": [
    "lst=[10,20,30,40,30,50,60]\n",
    "n=int(input(\"enter element to remove\"))\n",
    "\n",
    "for i in lst:\n",
    "    if i==n:\n",
    "        lst.remove(n)\n",
    "print(lst)"
   ]
  },
  {
   "cell_type": "markdown",
   "id": "42640aa4",
   "metadata": {},
   "source": [
    "16. Develop a program that generates a multiplication table for numbers from 1 to 5 using a nested `for` loop"
   ]
  },
  {
   "cell_type": "code",
   "execution_count": 69,
   "id": "3fc2e25f",
   "metadata": {},
   "outputs": [
    {
     "name": "stdout",
     "output_type": "stream",
     "text": [
      "1 X 1 = 1\n",
      "1 X 2 = 2\n",
      "1 X 3 = 3\n",
      "1 X 4 = 4\n",
      "1 X 5 = 5\n",
      "1 X 6 = 6\n",
      "1 X 7 = 7\n",
      "1 X 8 = 8\n",
      "1 X 9 = 9\n",
      "1 X 10 = 10\n",
      "2 X 1 = 2\n",
      "2 X 2 = 4\n",
      "2 X 3 = 6\n",
      "2 X 4 = 8\n",
      "2 X 5 = 10\n",
      "2 X 6 = 12\n",
      "2 X 7 = 14\n",
      "2 X 8 = 16\n",
      "2 X 9 = 18\n",
      "2 X 10 = 20\n",
      "3 X 1 = 3\n",
      "3 X 2 = 6\n",
      "3 X 3 = 9\n",
      "3 X 4 = 12\n",
      "3 X 5 = 15\n",
      "3 X 6 = 18\n",
      "3 X 7 = 21\n",
      "3 X 8 = 24\n",
      "3 X 9 = 27\n",
      "3 X 10 = 30\n",
      "4 X 1 = 4\n",
      "4 X 2 = 8\n",
      "4 X 3 = 12\n",
      "4 X 4 = 16\n",
      "4 X 5 = 20\n",
      "4 X 6 = 24\n",
      "4 X 7 = 28\n",
      "4 X 8 = 32\n",
      "4 X 9 = 36\n",
      "4 X 10 = 40\n",
      "5 X 1 = 5\n",
      "5 X 2 = 10\n",
      "5 X 3 = 15\n",
      "5 X 4 = 20\n",
      "5 X 5 = 25\n",
      "5 X 6 = 30\n",
      "5 X 7 = 35\n",
      "5 X 8 = 40\n",
      "5 X 9 = 45\n",
      "5 X 10 = 50\n"
     ]
    }
   ],
   "source": [
    "for j in range(1,6):\n",
    "    for i in range(1,11):\n",
    "        mul=j*i\n",
    "        print(\"{} X {} = {}\".format(j,i,mul))"
   ]
  },
  {
   "cell_type": "markdown",
   "id": "62bb5618",
   "metadata": {},
   "source": [
    "17. Write a program that converts a list of Fahrenheit temperatures to Celsius using a `for` loop"
   ]
  },
  {
   "cell_type": "code",
   "execution_count": 75,
   "id": "1246331f",
   "metadata": {},
   "outputs": [
    {
     "name": "stdout",
     "output_type": "stream",
     "text": [
      "Temp Converted to celcius is: [10.0, 15.555555555555555, 23.88888888888889, 26.666666666666668, 32.22222222222222, 35.0, 7.222222222222222]\n"
     ]
    }
   ],
   "source": [
    "farenhit_lst=[50,60,75,80,90,95,45]\n",
    "celcius_lst=[]\n",
    "for i in lst:\n",
    "    celcius=(i-32)*5/9\n",
    "    celcius_lst.append(celcius)\n",
    "print(\"Temp Converted to celcius is:\",celcius_lst)"
   ]
  },
  {
   "cell_type": "markdown",
   "id": "76a6bad2",
   "metadata": {},
   "source": [
    "18. Create a program to print the common elements from two lists using a `for` loop."
   ]
  },
  {
   "cell_type": "code",
   "execution_count": 76,
   "id": "2283a1a3",
   "metadata": {},
   "outputs": [
    {
     "name": "stdout",
     "output_type": "stream",
     "text": [
      "[100, 50, 60]\n"
     ]
    }
   ],
   "source": [
    "lst1=[100,20,30,40,50,60]\n",
    "lst2=[50,60,70,80,90,100]\n",
    "common_lst=[]\n",
    "for i in lst1:\n",
    "    if i in lst2:\n",
    "        common_lst.append(i)\n",
    "print(\"List of Common Elements is:\",common_lst)\n",
    "        "
   ]
  },
  {
   "cell_type": "markdown",
   "id": "cdf5a32c",
   "metadata": {},
   "source": [
    "19.Develop a program that prints the pattern of right-angled triangles using a `for` loop. Use ‘*’ to draw the \n",
    "pattern"
   ]
  },
  {
   "cell_type": "code",
   "execution_count": 78,
   "id": "7b2db519",
   "metadata": {},
   "outputs": [
    {
     "name": "stdout",
     "output_type": "stream",
     "text": [
      "*\n",
      "**\n",
      "***\n",
      "****\n",
      "*****\n",
      "******\n",
      "*******\n"
     ]
    }
   ],
   "source": [
    "for i in range(1,8):\n",
    "    print(\"*\"*i)"
   ]
  },
  {
   "cell_type": "markdown",
   "id": "e9bf552c",
   "metadata": {},
   "source": [
    "20. Write a program to find the greatest common divisor (GCD) of two numbers using a `for` loop"
   ]
  },
  {
   "cell_type": "code",
   "execution_count": 80,
   "id": "ad2c876b",
   "metadata": {},
   "outputs": [
    {
     "name": "stdout",
     "output_type": "stream",
     "text": [
      "Enter the first number: 15\n",
      "Enter the second number: 20\n",
      "The GCD of 15 and 20 is: 5\n"
     ]
    }
   ],
   "source": [
    "def find_gcd(a, b):\n",
    "    while b:\n",
    "        a, b = b, a % b\n",
    "    return a\n",
    "\n",
    "# Get two numbers from the user\n",
    "num1 = int(input(\"Enter the first number: \"))\n",
    "num2 = int(input(\"Enter the second number: \"))\n",
    "\n",
    "# Find the GCD using a for loop\n",
    "gcd = find_gcd(num1, num2)\n",
    "\n",
    "# Display the result\n",
    "print(f\"The GCD of {num1} and {num2} is: {gcd}\")\n"
   ]
  },
  {
   "cell_type": "markdown",
   "id": "521d38ed",
   "metadata": {},
   "source": [
    "# Advanced Level:"
   ]
  },
  {
   "cell_type": "markdown",
   "id": "f1696494",
   "metadata": {},
   "source": [
    "21. Create a program that calculates the sum of the digits of numbers in a list using a list comprehension."
   ]
  },
  {
   "cell_type": "code",
   "execution_count": 2,
   "id": "78c24c5b",
   "metadata": {},
   "outputs": [
    {
     "name": "stdout",
     "output_type": "stream",
     "text": [
      "Sum of digits for each number: [6, 15, 24, 3, 7, 11]\n"
     ]
    }
   ],
   "source": [
    "numbers = [123, 456, 789, 12, 34, 56]\n",
    "\n",
    "sum_of_digits_list = [sum(int(digit) for digit in str(num)) for num in numbers]\n",
    "\n",
    "print(\"Sum of digits for each number:\", sum_of_digits_list)\n"
   ]
  },
  {
   "cell_type": "markdown",
   "id": "e4c64664",
   "metadata": {},
   "source": [
    "22. Write a program to find the prime factors of a given number using a `for` loop and list comprehension"
   ]
  },
  {
   "cell_type": "code",
   "execution_count": 7,
   "id": "989204bd",
   "metadata": {},
   "outputs": [
    {
     "name": "stdout",
     "output_type": "stream",
     "text": [
      "Enter a number to find its prime factors: 36\n",
      "The prime factors of 36 are: [2, 3]\n"
     ]
    }
   ],
   "source": [
    "# Get a number from the user\n",
    "number = int(input(\"Enter a number to find its prime factors: \"))\n",
    "\n",
    "# Use a for loop and list comprehension to find prime factors\n",
    "factors = [i for i in range(2, number + 1) if number % i == 0 and all(i % j != 0 for j in range(2, int(i**0.5) + 1))]\n",
    "\n",
    "# Display the prime factors\n",
    "print(f\"The prime factors of {number} are: {factors}\")\n"
   ]
  },
  {
   "cell_type": "markdown",
   "id": "88072b91",
   "metadata": {},
   "source": [
    "23. Develop a program that extracts unique elements from a list and stores them in a new list using a list comprehension."
   ]
  },
  {
   "cell_type": "code",
   "execution_count": 21,
   "id": "8ae6fd81",
   "metadata": {},
   "outputs": [
    {
     "name": "stdout",
     "output_type": "stream",
     "text": [
      "Original List: [1, 2, 2, 3, 4, 4, 5, 6, 6]\n",
      "List with Unique Elements: [1, 2, 3, 4, 5, 6]\n"
     ]
    }
   ],
   "source": [
    "original_list = [1, 2, 2, 3, 4, 4, 5, 6, 6]\n",
    "\n",
    "# Using a list comprehension to extract unique elements\n",
    "unique_elements = [x for i, x in enumerate(original_list) if x not in original_list[:i]]\n",
    "\n",
    "# Display the result\n",
    "print(\"Original List:\", original_list)\n",
    "print(\"List with Unique Elements:\", unique_elements)\n"
   ]
  },
  {
   "cell_type": "markdown",
   "id": "791946d8",
   "metadata": {},
   "source": [
    "24. Create a program that generates a list of all palindromic numbers up to a specified limit using a list \n",
    "comprehension."
   ]
  },
  {
   "cell_type": "code",
   "execution_count": 31,
   "id": "01b02c01",
   "metadata": {},
   "outputs": [
    {
     "name": "stdout",
     "output_type": "stream",
     "text": [
      "[0, 1, 2, 3, 4, 5, 6, 7, 8, 9, 11, 22, 33, 44, 55, 66, 77, 88, 99]\n"
     ]
    }
   ],
   "source": [
    "n=100\n",
    "palindrome=[x for x in range(n+1) if str(x)==str(x)[::-1]]\n",
    "print(palindrome)"
   ]
  },
  {
   "cell_type": "code",
   "execution_count": 28,
   "id": "010ab732",
   "metadata": {},
   "outputs": [
    {
     "name": "stdout",
     "output_type": "stream",
     "text": [
      "Enter the limit for palindromic numbers: 100\n",
      "Palindromic numbers up to 100: [0, 1, 2, 3, 4, 5, 6, 7, 8, 9, 11, 22, 33, 44, 55, 66, 77, 88, 99]\n"
     ]
    }
   ],
   "source": []
  },
  {
   "cell_type": "markdown",
   "id": "e791ac7f",
   "metadata": {},
   "source": [
    "25. Write a program to flatten a nested list using list comprehension.\n"
   ]
  },
  {
   "cell_type": "code",
   "execution_count": 34,
   "id": "acdfa08e",
   "metadata": {},
   "outputs": [
    {
     "name": "stdout",
     "output_type": "stream",
     "text": [
      "[10, 20, 30, 40, 50, 60, 70, 80, 90]\n"
     ]
    }
   ],
   "source": [
    "nested_list=[[10,20,30],[40,50,60],[70,80,90]]\n",
    "flattened_list = [item for sublist in nested_list for item in (sublist if isinstance(sublist, list) else [sublist])]\n",
    "print(flattened_list)\n"
   ]
  },
  {
   "cell_type": "markdown",
   "id": "718468a5",
   "metadata": {},
   "source": [
    "26. Develop a program that computes the sum of even and odd numbers in a list separately using list \n",
    "comprehension."
   ]
  },
  {
   "cell_type": "code",
   "execution_count": 38,
   "id": "4d5dd428",
   "metadata": {},
   "outputs": [
    {
     "name": "stdout",
     "output_type": "stream",
     "text": [
      "Even  Number sum is: 70\n",
      "Odd  Number sum is: 47\n"
     ]
    }
   ],
   "source": [
    "lst=[10,11,12,1,3,14,15,16,17,18]\n",
    "evensum=sum([x for x in lst if x%2==0 ])\n",
    "oddsum=sum([x for x in lst if x%2!=0 ])\n",
    "print(\"Even  Number sum is:\",evensum)\n",
    "print(\"Odd  Number sum is:\",oddsum)"
   ]
  },
  {
   "cell_type": "markdown",
   "id": "6a080047",
   "metadata": {},
   "source": [
    "27. Create a program that generates a list of squares of odd numbers between 1 and 10 using list \n",
    "comprehension."
   ]
  },
  {
   "cell_type": "code",
   "execution_count": 39,
   "id": "aab0fbe3",
   "metadata": {},
   "outputs": [
    {
     "name": "stdout",
     "output_type": "stream",
     "text": [
      "[1, 9, 25, 49, 81]\n"
     ]
    }
   ],
   "source": [
    "lst=[1,2,3,4,5,6,7,8,9]\n",
    "odd_square_lst=[x**2 for x in lst if x%2!=0]\n",
    "print(odd_square_lst)"
   ]
  },
  {
   "cell_type": "markdown",
   "id": "9c4891b5",
   "metadata": {},
   "source": [
    "28. Write a program that combines two lists into a dictionary using list comprehension.\n"
   ]
  },
  {
   "cell_type": "code",
   "execution_count": 47,
   "id": "1232cb68",
   "metadata": {},
   "outputs": [
    {
     "name": "stdout",
     "output_type": "stream",
     "text": [
      "{'roll': '12', 'id': 'A24', 'name': 'Ashish', 'class': 'BE'}\n"
     ]
    }
   ],
   "source": [
    "key=[\"roll\",\"id\",\"name\",\"class\"]\n",
    "value=[\"12\",\"A24\",\"Ashish\",\"BE\"]\n",
    "dict_of_list={key:value for key,value in zip(key,value)}\n",
    "print(dict_of_list)"
   ]
  },
  {
   "cell_type": "markdown",
   "id": "676e91d2",
   "metadata": {},
   "source": [
    "29. Develop a program that extracts the vowels from a string and stores them in a list using list comprehension.\n"
   ]
  },
  {
   "cell_type": "code",
   "execution_count": 56,
   "id": "d54815fb",
   "metadata": {},
   "outputs": [
    {
     "name": "stdout",
     "output_type": "stream",
     "text": [
      "List of vowels: ['a', 'i']\n"
     ]
    }
   ],
   "source": [
    "str1=\"ashish\"\n",
    "vowels=\"aeiou\"\n",
    "vowels_list=[x for x in str1 if x in vowels]\n",
    "print(\"List of vowels:\",vowels_list)"
   ]
  },
  {
   "cell_type": "markdown",
   "id": "ad3ed724",
   "metadata": {},
   "source": [
    "30. Create a program that removes all non-numeric characters from a list of strings using list comprehension."
   ]
  },
  {
   "cell_type": "code",
   "execution_count": 78,
   "id": "50535a52",
   "metadata": {},
   "outputs": [
    {
     "name": "stdout",
     "output_type": "stream",
     "text": [
      "Original List: ['abc123', '456def', '7ghi', 'jkl']\n",
      "List with Numeric Characters Only: ['123', '456', '7', '']\n"
     ]
    }
   ],
   "source": [
    "original_strings = ['abc123', '456def', '7ghi', 'jkl']\n",
    "\n",
    "numeric_strings = [''.join(char for char in s if char.isdigit()) for s in original_strings]\n",
    "\n",
    "# Display the result\n",
    "print(\"Original List:\", original_strings)\n",
    "print(\"List with Numeric Characters Only:\", numeric_strings)\n"
   ]
  },
  {
   "cell_type": "markdown",
   "id": "0ef8538e",
   "metadata": {},
   "source": [
    "# Challenge Level:"
   ]
  },
  {
   "cell_type": "markdown",
   "id": "1a5cb2cc",
   "metadata": {},
   "source": [
    "31. Write a program to generate a list of prime numbers using the Sieve of Eratosthenes algorithm and list comprehension."
   ]
  },
  {
   "cell_type": "code",
   "execution_count": 79,
   "id": "32e197c9",
   "metadata": {},
   "outputs": [
    {
     "name": "stdout",
     "output_type": "stream",
     "text": [
      "Enter the limit for prime numbers: 50\n",
      "Prime numbers up to 50: [2, 3, 5, 7, 11, 13, 17, 19, 23, 29, 31, 37, 41, 43, 47]\n"
     ]
    }
   ],
   "source": [
    "def sieve_of_eratosthenes(limit):\n",
    "    primes = [True] * (limit + 1)\n",
    "    primes[0] = primes[1] = False\n",
    "    \n",
    "    for i in range(2, int(limit**0.5) + 1):\n",
    "        if primes[i]:\n",
    "            for j in range(i**2, limit + 1, i):\n",
    "                primes[j] = False\n",
    "    \n",
    "    return [num for num in range(2, limit + 1) if primes[num]]\n",
    "\n",
    "# Get the limit from the user\n",
    "limit = int(input(\"Enter the limit for prime numbers: \"))\n",
    "\n",
    "# Generate a list of prime numbers using the Sieve of Eratosthenes\n",
    "prime_numbers = sieve_of_eratosthenes(limit)\n",
    "\n",
    "# Display the result\n",
    "print(f\"Prime numbers up to {limit}: {prime_numbers}\")\n"
   ]
  },
  {
   "cell_type": "markdown",
   "id": "1e6f9de5",
   "metadata": {},
   "source": [
    "32. Create a program that generates a list of all Pythagorean triplets up to a specified limit using list comprehension."
   ]
  },
  {
   "cell_type": "code",
   "execution_count": 81,
   "id": "81159515",
   "metadata": {},
   "outputs": [
    {
     "name": "stdout",
     "output_type": "stream",
     "text": [
      "Enter the limit for Pythagorean triplets: 50\n",
      "Pythagorean triplets up to 50 are: [(3, 4, 5), (6, 8, 10), (5, 12, 13), (9, 12, 15), (8, 15, 17), (12, 16, 20), (15, 20, 25), (7, 24, 25), (10, 24, 26), (20, 21, 29), (18, 24, 30), (16, 30, 34), (21, 28, 35), (12, 35, 37), (15, 36, 39), (24, 32, 40), (9, 40, 41), (27, 36, 45), (30, 40, 50), (14, 48, 50)]\n"
     ]
    }
   ],
   "source": [
    "# Get the limit from the user\n",
    "limit = int(input(\"Enter the limit for Pythagorean triplets: \"))\n",
    "\n",
    "pythagorean_triplets = [\n",
    "    (a, b, c)\n",
    "    for c in range(1, limit + 1)\n",
    "    for b in range(1, c)\n",
    "    for a in range(1, b)\n",
    "    if a**2 + b**2 == c**2\n",
    "]\n",
    "\n",
    "# Display the result\n",
    "print(f\"Pythagorean triplets up to {limit} are: {pythagorean_triplets}\")\n"
   ]
  },
  {
   "cell_type": "markdown",
   "id": "dfab0bc7",
   "metadata": {},
   "source": [
    "33. Develop a program that generates a list of all possible combinations of two lists using list comprehension.\n"
   ]
  },
  {
   "cell_type": "code",
   "execution_count": 82,
   "id": "6445e7b7",
   "metadata": {},
   "outputs": [
    {
     "name": "stdout",
     "output_type": "stream",
     "text": [
      "All possible combinations of [1, 2, 3] and ['a', 'b', 'c'] are: [(1, 'a'), (1, 'b'), (1, 'c'), (2, 'a'), (2, 'b'), (2, 'c'), (3, 'a'), (3, 'b'), (3, 'c')]\n"
     ]
    }
   ],
   "source": [
    "list1 = [1, 2, 3]\n",
    "list2 = ['a', 'b', 'c']\n",
    "\n",
    "# Generate a list of all possible combinations using list comprehension\n",
    "combinations = [(x, y) for x in list1 for y in list2]\n",
    "\n",
    "# Display the result\n",
    "print(f\"All possible combinations of {list1} and {list2} are: {combinations}\")\n"
   ]
  },
  {
   "cell_type": "markdown",
   "id": "ab173bac",
   "metadata": {},
   "source": [
    "34. Write a program that calculates the mean, median, and mode of a list of numbers using list \n",
    "comprehension."
   ]
  },
  {
   "cell_type": "code",
   "execution_count": 88,
   "id": "649802fc",
   "metadata": {},
   "outputs": [
    {
     "name": "stdout",
     "output_type": "stream",
     "text": [
      "List of Numbers: [10, 15, 20, 25, 30, 35, 40, 45, 50]\n",
      "Mean: 30.0\n",
      "Median: 30\n",
      "Mode: 10\n"
     ]
    }
   ],
   "source": [
    "import statistics\n",
    "numbers=[10,15,20,25,30,35,40,45,50]\n",
    "mean=sum([x for x in numbers])/len(numbers)\n",
    "\n",
    "# Calculate median using list comprehension\n",
    "sorted_numbers = sorted(numbers)\n",
    "mid = len(sorted_numbers) // 2\n",
    "median = (sorted_numbers[mid] + sorted_numbers[mid - 1]) / 2 if len(sorted_numbers) % 2 == 0 else sorted_numbers[mid]\n",
    "\n",
    "# Calculate mode using statistics.mode\n",
    "mode = statistics.mode(numbers)\n",
    "\n",
    "# Display the results\n",
    "print(\"List of Numbers:\", numbers)\n",
    "print(\"Mean:\", mean)\n",
    "print(\"Median:\", median)\n",
    "print(\"Mode:\", mode)\n"
   ]
  },
  {
   "cell_type": "markdown",
   "id": "6cc6d969",
   "metadata": {},
   "source": [
    "35. Create a program that generates Pascal's triangle up to a specified number of rows using list \n",
    "comprehension."
   ]
  },
  {
   "cell_type": "code",
   "execution_count": 3,
   "id": "046a236a",
   "metadata": {},
   "outputs": [
    {
     "name": "stdout",
     "output_type": "stream",
     "text": [
      "Enter number:5\n",
      "     1\n",
      "    1 1\n",
      "   1 2 1\n",
      "  1 3 3 1\n",
      " 1 4 6 4 1\n"
     ]
    }
   ],
   "source": [
    "n =int(input(\"Enter number:\"))\n",
    " \n",
    "# iterarte upto n\n",
    "for i in range(n):\n",
    "    # adjust space\n",
    "    print(' '*(n-i), end='')\n",
    " # compute power of 11\n",
    "    print(' '.join(map(str, str(11**i))))"
   ]
  },
  {
   "cell_type": "markdown",
   "id": "57977a30",
   "metadata": {},
   "source": [
    "36. Develop a program that calculates the sum of the digits of a factorial of numbers from 1 to 5 using list \n",
    "comprehension."
   ]
  },
  {
   "cell_type": "code",
   "execution_count": 4,
   "id": "26cc84ca",
   "metadata": {},
   "outputs": [
    {
     "name": "stdout",
     "output_type": "stream",
     "text": [
      "Factorial of 1: 1\n",
      "Sum of digits: 1\n",
      "\n",
      "Factorial of 2: 2\n",
      "Sum of digits: 2\n",
      "\n",
      "Factorial of 3: 6\n",
      "Sum of digits: 6\n",
      "\n",
      "Factorial of 4: 24\n",
      "Sum of digits: 6\n",
      "\n",
      "Factorial of 5: 120\n",
      "Sum of digits: 3\n",
      "\n"
     ]
    }
   ],
   "source": [
    "import math\n",
    "\n",
    "# Calculate the factorial and sum of digits using list comprehension\n",
    "factorial_sums = [sum(int(digit) for digit in str(math.factorial(num))) for num in range(1, 6)]\n",
    "\n",
    "# Display the result\n",
    "for num, factorial_sum in zip(range(1, 6), factorial_sums):\n",
    "    print(f\"Factorial of {num}:\", math.factorial(num))\n",
    "    print(f\"Sum of digits:\", factorial_sum)\n",
    "    print()"
   ]
  },
  {
   "cell_type": "markdown",
   "id": "a166aaf9",
   "metadata": {},
   "source": [
    "37. Write a program that finds the longest word in a sentence using list comprehension.\n"
   ]
  },
  {
   "cell_type": "code",
   "execution_count": 8,
   "id": "58389de5",
   "metadata": {},
   "outputs": [
    {
     "name": "stdout",
     "output_type": "stream",
     "text": [
      "Enter a sentence: this is  A NOTEBOOK\n",
      "The longest word in the sentence is: NOTEBOOK\n"
     ]
    }
   ],
   "source": [
    "# Get a sentence from the user\n",
    "sentence = input(\"Enter a sentence: \")\n",
    "\n",
    "# Use list comprehension to find the longest word\n",
    "longest_word = max((word for word in sentence.split()), key=len)\n",
    "\n",
    "# Display the result\n",
    "print(f\"The longest word in the sentence is: {longest_word}\")\n"
   ]
  },
  {
   "cell_type": "markdown",
   "id": "c3864f83",
   "metadata": {},
   "source": [
    "38. Create a program that filters a list of strings to include only those with more than three vowels using list \n",
    "comprehension."
   ]
  },
  {
   "cell_type": "code",
   "execution_count": 18,
   "id": "90de006d",
   "metadata": {},
   "outputs": [
    {
     "name": "stdout",
     "output_type": "stream",
     "text": [
      "Original List: ['hello', 'world', 'python', 'programming', 'potatoo', 'audio']\n",
      "Filtered List with more than three vowels: ['potatoo', 'audio']\n"
     ]
    }
   ],
   "source": [
    "\n",
    "string_list = [\"hello\", \"world\", \"python\", \"programming\", \"potatoo\", \"audio\"]\n",
    "count=0\n",
    "for i in string_list:\n",
    "    if i in \"aeiou\":\n",
    "        count+=1\n",
    "# Use list comprehension to filter strings with more than three vowels\n",
    "filtered_strings = [word for word in string_list if count_vowels(word) > 3]\n",
    "\n",
    "print(\"Original List:\", string_list)\n",
    "print(\"Filtered List with more than three vowels:\", filtered_strings)\n"
   ]
  },
  {
   "cell_type": "markdown",
   "id": "344589fe",
   "metadata": {},
   "source": [
    "39. Develop a program that calculates the sum of the digits of numbers from 1 to 1000 using list \n",
    "comprehension."
   ]
  },
  {
   "cell_type": "code",
   "execution_count": 1,
   "id": "6fb8e5d7",
   "metadata": {},
   "outputs": [
    {
     "name": "stdout",
     "output_type": "stream",
     "text": [
      "Number: 1, Sum of digits: 1\n",
      "Number: 2, Sum of digits: 2\n",
      "Number: 3, Sum of digits: 3\n",
      "Number: 4, Sum of digits: 4\n",
      "Number: 5, Sum of digits: 5\n",
      "Number: 6, Sum of digits: 6\n",
      "Number: 7, Sum of digits: 7\n",
      "Number: 8, Sum of digits: 8\n",
      "Number: 9, Sum of digits: 9\n",
      "Number: 10, Sum of digits: 1\n",
      "Number: 11, Sum of digits: 2\n",
      "Number: 12, Sum of digits: 3\n",
      "Number: 13, Sum of digits: 4\n",
      "Number: 14, Sum of digits: 5\n",
      "Number: 15, Sum of digits: 6\n",
      "Number: 16, Sum of digits: 7\n",
      "Number: 17, Sum of digits: 8\n",
      "Number: 18, Sum of digits: 9\n",
      "Number: 19, Sum of digits: 10\n",
      "Number: 20, Sum of digits: 2\n",
      "Number: 21, Sum of digits: 3\n",
      "Number: 22, Sum of digits: 4\n",
      "Number: 23, Sum of digits: 5\n",
      "Number: 24, Sum of digits: 6\n",
      "Number: 25, Sum of digits: 7\n",
      "Number: 26, Sum of digits: 8\n",
      "Number: 27, Sum of digits: 9\n",
      "Number: 28, Sum of digits: 10\n",
      "Number: 29, Sum of digits: 11\n",
      "Number: 30, Sum of digits: 3\n",
      "Number: 31, Sum of digits: 4\n",
      "Number: 32, Sum of digits: 5\n",
      "Number: 33, Sum of digits: 6\n",
      "Number: 34, Sum of digits: 7\n",
      "Number: 35, Sum of digits: 8\n",
      "Number: 36, Sum of digits: 9\n",
      "Number: 37, Sum of digits: 10\n",
      "Number: 38, Sum of digits: 11\n",
      "Number: 39, Sum of digits: 12\n",
      "Number: 40, Sum of digits: 4\n",
      "Number: 41, Sum of digits: 5\n",
      "Number: 42, Sum of digits: 6\n",
      "Number: 43, Sum of digits: 7\n",
      "Number: 44, Sum of digits: 8\n",
      "Number: 45, Sum of digits: 9\n",
      "Number: 46, Sum of digits: 10\n",
      "Number: 47, Sum of digits: 11\n",
      "Number: 48, Sum of digits: 12\n",
      "Number: 49, Sum of digits: 13\n",
      "Number: 50, Sum of digits: 5\n",
      "Number: 51, Sum of digits: 6\n",
      "Number: 52, Sum of digits: 7\n",
      "Number: 53, Sum of digits: 8\n",
      "Number: 54, Sum of digits: 9\n",
      "Number: 55, Sum of digits: 10\n",
      "Number: 56, Sum of digits: 11\n",
      "Number: 57, Sum of digits: 12\n",
      "Number: 58, Sum of digits: 13\n",
      "Number: 59, Sum of digits: 14\n",
      "Number: 60, Sum of digits: 6\n",
      "Number: 61, Sum of digits: 7\n",
      "Number: 62, Sum of digits: 8\n",
      "Number: 63, Sum of digits: 9\n",
      "Number: 64, Sum of digits: 10\n",
      "Number: 65, Sum of digits: 11\n",
      "Number: 66, Sum of digits: 12\n",
      "Number: 67, Sum of digits: 13\n",
      "Number: 68, Sum of digits: 14\n",
      "Number: 69, Sum of digits: 15\n",
      "Number: 70, Sum of digits: 7\n",
      "Number: 71, Sum of digits: 8\n",
      "Number: 72, Sum of digits: 9\n",
      "Number: 73, Sum of digits: 10\n",
      "Number: 74, Sum of digits: 11\n",
      "Number: 75, Sum of digits: 12\n",
      "Number: 76, Sum of digits: 13\n",
      "Number: 77, Sum of digits: 14\n",
      "Number: 78, Sum of digits: 15\n",
      "Number: 79, Sum of digits: 16\n",
      "Number: 80, Sum of digits: 8\n",
      "Number: 81, Sum of digits: 9\n",
      "Number: 82, Sum of digits: 10\n",
      "Number: 83, Sum of digits: 11\n",
      "Number: 84, Sum of digits: 12\n",
      "Number: 85, Sum of digits: 13\n",
      "Number: 86, Sum of digits: 14\n",
      "Number: 87, Sum of digits: 15\n",
      "Number: 88, Sum of digits: 16\n",
      "Number: 89, Sum of digits: 17\n",
      "Number: 90, Sum of digits: 9\n",
      "Number: 91, Sum of digits: 10\n",
      "Number: 92, Sum of digits: 11\n",
      "Number: 93, Sum of digits: 12\n",
      "Number: 94, Sum of digits: 13\n",
      "Number: 95, Sum of digits: 14\n",
      "Number: 96, Sum of digits: 15\n",
      "Number: 97, Sum of digits: 16\n",
      "Number: 98, Sum of digits: 17\n",
      "Number: 99, Sum of digits: 18\n",
      "Number: 100, Sum of digits: 1\n",
      "Number: 101, Sum of digits: 2\n",
      "Number: 102, Sum of digits: 3\n",
      "Number: 103, Sum of digits: 4\n",
      "Number: 104, Sum of digits: 5\n",
      "Number: 105, Sum of digits: 6\n",
      "Number: 106, Sum of digits: 7\n",
      "Number: 107, Sum of digits: 8\n",
      "Number: 108, Sum of digits: 9\n",
      "Number: 109, Sum of digits: 10\n",
      "Number: 110, Sum of digits: 2\n",
      "Number: 111, Sum of digits: 3\n",
      "Number: 112, Sum of digits: 4\n",
      "Number: 113, Sum of digits: 5\n",
      "Number: 114, Sum of digits: 6\n",
      "Number: 115, Sum of digits: 7\n",
      "Number: 116, Sum of digits: 8\n",
      "Number: 117, Sum of digits: 9\n",
      "Number: 118, Sum of digits: 10\n",
      "Number: 119, Sum of digits: 11\n",
      "Number: 120, Sum of digits: 3\n",
      "Number: 121, Sum of digits: 4\n",
      "Number: 122, Sum of digits: 5\n",
      "Number: 123, Sum of digits: 6\n",
      "Number: 124, Sum of digits: 7\n",
      "Number: 125, Sum of digits: 8\n",
      "Number: 126, Sum of digits: 9\n",
      "Number: 127, Sum of digits: 10\n",
      "Number: 128, Sum of digits: 11\n",
      "Number: 129, Sum of digits: 12\n",
      "Number: 130, Sum of digits: 4\n",
      "Number: 131, Sum of digits: 5\n",
      "Number: 132, Sum of digits: 6\n",
      "Number: 133, Sum of digits: 7\n",
      "Number: 134, Sum of digits: 8\n",
      "Number: 135, Sum of digits: 9\n",
      "Number: 136, Sum of digits: 10\n",
      "Number: 137, Sum of digits: 11\n",
      "Number: 138, Sum of digits: 12\n",
      "Number: 139, Sum of digits: 13\n",
      "Number: 140, Sum of digits: 5\n",
      "Number: 141, Sum of digits: 6\n",
      "Number: 142, Sum of digits: 7\n",
      "Number: 143, Sum of digits: 8\n",
      "Number: 144, Sum of digits: 9\n",
      "Number: 145, Sum of digits: 10\n",
      "Number: 146, Sum of digits: 11\n",
      "Number: 147, Sum of digits: 12\n",
      "Number: 148, Sum of digits: 13\n",
      "Number: 149, Sum of digits: 14\n",
      "Number: 150, Sum of digits: 6\n",
      "Number: 151, Sum of digits: 7\n",
      "Number: 152, Sum of digits: 8\n",
      "Number: 153, Sum of digits: 9\n",
      "Number: 154, Sum of digits: 10\n",
      "Number: 155, Sum of digits: 11\n",
      "Number: 156, Sum of digits: 12\n",
      "Number: 157, Sum of digits: 13\n",
      "Number: 158, Sum of digits: 14\n",
      "Number: 159, Sum of digits: 15\n",
      "Number: 160, Sum of digits: 7\n",
      "Number: 161, Sum of digits: 8\n",
      "Number: 162, Sum of digits: 9\n",
      "Number: 163, Sum of digits: 10\n",
      "Number: 164, Sum of digits: 11\n",
      "Number: 165, Sum of digits: 12\n",
      "Number: 166, Sum of digits: 13\n",
      "Number: 167, Sum of digits: 14\n",
      "Number: 168, Sum of digits: 15\n",
      "Number: 169, Sum of digits: 16\n",
      "Number: 170, Sum of digits: 8\n",
      "Number: 171, Sum of digits: 9\n",
      "Number: 172, Sum of digits: 10\n",
      "Number: 173, Sum of digits: 11\n",
      "Number: 174, Sum of digits: 12\n",
      "Number: 175, Sum of digits: 13\n",
      "Number: 176, Sum of digits: 14\n",
      "Number: 177, Sum of digits: 15\n",
      "Number: 178, Sum of digits: 16\n",
      "Number: 179, Sum of digits: 17\n",
      "Number: 180, Sum of digits: 9\n",
      "Number: 181, Sum of digits: 10\n",
      "Number: 182, Sum of digits: 11\n",
      "Number: 183, Sum of digits: 12\n",
      "Number: 184, Sum of digits: 13\n",
      "Number: 185, Sum of digits: 14\n",
      "Number: 186, Sum of digits: 15\n",
      "Number: 187, Sum of digits: 16\n",
      "Number: 188, Sum of digits: 17\n",
      "Number: 189, Sum of digits: 18\n",
      "Number: 190, Sum of digits: 10\n",
      "Number: 191, Sum of digits: 11\n",
      "Number: 192, Sum of digits: 12\n",
      "Number: 193, Sum of digits: 13\n",
      "Number: 194, Sum of digits: 14\n",
      "Number: 195, Sum of digits: 15\n",
      "Number: 196, Sum of digits: 16\n",
      "Number: 197, Sum of digits: 17\n",
      "Number: 198, Sum of digits: 18\n",
      "Number: 199, Sum of digits: 19\n",
      "Number: 200, Sum of digits: 2\n",
      "Number: 201, Sum of digits: 3\n",
      "Number: 202, Sum of digits: 4\n",
      "Number: 203, Sum of digits: 5\n",
      "Number: 204, Sum of digits: 6\n",
      "Number: 205, Sum of digits: 7\n",
      "Number: 206, Sum of digits: 8\n",
      "Number: 207, Sum of digits: 9\n",
      "Number: 208, Sum of digits: 10\n",
      "Number: 209, Sum of digits: 11\n",
      "Number: 210, Sum of digits: 3\n",
      "Number: 211, Sum of digits: 4\n",
      "Number: 212, Sum of digits: 5\n",
      "Number: 213, Sum of digits: 6\n",
      "Number: 214, Sum of digits: 7\n",
      "Number: 215, Sum of digits: 8\n",
      "Number: 216, Sum of digits: 9\n",
      "Number: 217, Sum of digits: 10\n",
      "Number: 218, Sum of digits: 11\n",
      "Number: 219, Sum of digits: 12\n",
      "Number: 220, Sum of digits: 4\n",
      "Number: 221, Sum of digits: 5\n",
      "Number: 222, Sum of digits: 6\n",
      "Number: 223, Sum of digits: 7\n",
      "Number: 224, Sum of digits: 8\n",
      "Number: 225, Sum of digits: 9\n",
      "Number: 226, Sum of digits: 10\n",
      "Number: 227, Sum of digits: 11\n",
      "Number: 228, Sum of digits: 12\n",
      "Number: 229, Sum of digits: 13\n",
      "Number: 230, Sum of digits: 5\n",
      "Number: 231, Sum of digits: 6\n",
      "Number: 232, Sum of digits: 7\n",
      "Number: 233, Sum of digits: 8\n",
      "Number: 234, Sum of digits: 9\n",
      "Number: 235, Sum of digits: 10\n",
      "Number: 236, Sum of digits: 11\n",
      "Number: 237, Sum of digits: 12\n",
      "Number: 238, Sum of digits: 13\n",
      "Number: 239, Sum of digits: 14\n",
      "Number: 240, Sum of digits: 6\n",
      "Number: 241, Sum of digits: 7\n",
      "Number: 242, Sum of digits: 8\n",
      "Number: 243, Sum of digits: 9\n",
      "Number: 244, Sum of digits: 10\n",
      "Number: 245, Sum of digits: 11\n",
      "Number: 246, Sum of digits: 12\n",
      "Number: 247, Sum of digits: 13\n",
      "Number: 248, Sum of digits: 14\n",
      "Number: 249, Sum of digits: 15\n",
      "Number: 250, Sum of digits: 7\n",
      "Number: 251, Sum of digits: 8\n",
      "Number: 252, Sum of digits: 9\n",
      "Number: 253, Sum of digits: 10\n",
      "Number: 254, Sum of digits: 11\n",
      "Number: 255, Sum of digits: 12\n",
      "Number: 256, Sum of digits: 13\n",
      "Number: 257, Sum of digits: 14\n",
      "Number: 258, Sum of digits: 15\n",
      "Number: 259, Sum of digits: 16\n",
      "Number: 260, Sum of digits: 8\n",
      "Number: 261, Sum of digits: 9\n",
      "Number: 262, Sum of digits: 10\n",
      "Number: 263, Sum of digits: 11\n",
      "Number: 264, Sum of digits: 12\n",
      "Number: 265, Sum of digits: 13\n",
      "Number: 266, Sum of digits: 14\n",
      "Number: 267, Sum of digits: 15\n",
      "Number: 268, Sum of digits: 16\n",
      "Number: 269, Sum of digits: 17\n",
      "Number: 270, Sum of digits: 9\n",
      "Number: 271, Sum of digits: 10\n",
      "Number: 272, Sum of digits: 11\n",
      "Number: 273, Sum of digits: 12\n",
      "Number: 274, Sum of digits: 13\n",
      "Number: 275, Sum of digits: 14\n",
      "Number: 276, Sum of digits: 15\n",
      "Number: 277, Sum of digits: 16\n",
      "Number: 278, Sum of digits: 17\n",
      "Number: 279, Sum of digits: 18\n",
      "Number: 280, Sum of digits: 10\n",
      "Number: 281, Sum of digits: 11\n",
      "Number: 282, Sum of digits: 12\n",
      "Number: 283, Sum of digits: 13\n",
      "Number: 284, Sum of digits: 14\n",
      "Number: 285, Sum of digits: 15\n",
      "Number: 286, Sum of digits: 16\n",
      "Number: 287, Sum of digits: 17\n",
      "Number: 288, Sum of digits: 18\n",
      "Number: 289, Sum of digits: 19\n",
      "Number: 290, Sum of digits: 11\n",
      "Number: 291, Sum of digits: 12\n",
      "Number: 292, Sum of digits: 13\n",
      "Number: 293, Sum of digits: 14\n",
      "Number: 294, Sum of digits: 15\n",
      "Number: 295, Sum of digits: 16\n",
      "Number: 296, Sum of digits: 17\n",
      "Number: 297, Sum of digits: 18\n",
      "Number: 298, Sum of digits: 19\n",
      "Number: 299, Sum of digits: 20\n",
      "Number: 300, Sum of digits: 3\n",
      "Number: 301, Sum of digits: 4\n",
      "Number: 302, Sum of digits: 5\n",
      "Number: 303, Sum of digits: 6\n",
      "Number: 304, Sum of digits: 7\n",
      "Number: 305, Sum of digits: 8\n",
      "Number: 306, Sum of digits: 9\n",
      "Number: 307, Sum of digits: 10\n",
      "Number: 308, Sum of digits: 11\n",
      "Number: 309, Sum of digits: 12\n",
      "Number: 310, Sum of digits: 4\n",
      "Number: 311, Sum of digits: 5\n",
      "Number: 312, Sum of digits: 6\n",
      "Number: 313, Sum of digits: 7\n",
      "Number: 314, Sum of digits: 8\n",
      "Number: 315, Sum of digits: 9\n",
      "Number: 316, Sum of digits: 10\n",
      "Number: 317, Sum of digits: 11\n",
      "Number: 318, Sum of digits: 12\n",
      "Number: 319, Sum of digits: 13\n",
      "Number: 320, Sum of digits: 5\n",
      "Number: 321, Sum of digits: 6\n",
      "Number: 322, Sum of digits: 7\n",
      "Number: 323, Sum of digits: 8\n",
      "Number: 324, Sum of digits: 9\n",
      "Number: 325, Sum of digits: 10\n",
      "Number: 326, Sum of digits: 11\n",
      "Number: 327, Sum of digits: 12\n",
      "Number: 328, Sum of digits: 13\n",
      "Number: 329, Sum of digits: 14\n",
      "Number: 330, Sum of digits: 6\n",
      "Number: 331, Sum of digits: 7\n",
      "Number: 332, Sum of digits: 8\n",
      "Number: 333, Sum of digits: 9\n",
      "Number: 334, Sum of digits: 10\n",
      "Number: 335, Sum of digits: 11\n",
      "Number: 336, Sum of digits: 12\n",
      "Number: 337, Sum of digits: 13\n",
      "Number: 338, Sum of digits: 14\n",
      "Number: 339, Sum of digits: 15\n",
      "Number: 340, Sum of digits: 7\n",
      "Number: 341, Sum of digits: 8\n",
      "Number: 342, Sum of digits: 9\n",
      "Number: 343, Sum of digits: 10\n",
      "Number: 344, Sum of digits: 11\n",
      "Number: 345, Sum of digits: 12\n",
      "Number: 346, Sum of digits: 13\n",
      "Number: 347, Sum of digits: 14\n",
      "Number: 348, Sum of digits: 15\n",
      "Number: 349, Sum of digits: 16\n",
      "Number: 350, Sum of digits: 8\n",
      "Number: 351, Sum of digits: 9\n",
      "Number: 352, Sum of digits: 10\n",
      "Number: 353, Sum of digits: 11\n",
      "Number: 354, Sum of digits: 12\n",
      "Number: 355, Sum of digits: 13\n",
      "Number: 356, Sum of digits: 14\n",
      "Number: 357, Sum of digits: 15\n",
      "Number: 358, Sum of digits: 16\n",
      "Number: 359, Sum of digits: 17\n",
      "Number: 360, Sum of digits: 9\n",
      "Number: 361, Sum of digits: 10\n",
      "Number: 362, Sum of digits: 11\n",
      "Number: 363, Sum of digits: 12\n",
      "Number: 364, Sum of digits: 13\n",
      "Number: 365, Sum of digits: 14\n",
      "Number: 366, Sum of digits: 15\n",
      "Number: 367, Sum of digits: 16\n",
      "Number: 368, Sum of digits: 17\n",
      "Number: 369, Sum of digits: 18\n",
      "Number: 370, Sum of digits: 10\n",
      "Number: 371, Sum of digits: 11\n",
      "Number: 372, Sum of digits: 12\n",
      "Number: 373, Sum of digits: 13\n",
      "Number: 374, Sum of digits: 14\n",
      "Number: 375, Sum of digits: 15\n",
      "Number: 376, Sum of digits: 16\n",
      "Number: 377, Sum of digits: 17\n",
      "Number: 378, Sum of digits: 18\n",
      "Number: 379, Sum of digits: 19\n",
      "Number: 380, Sum of digits: 11\n",
      "Number: 381, Sum of digits: 12\n",
      "Number: 382, Sum of digits: 13\n",
      "Number: 383, Sum of digits: 14\n",
      "Number: 384, Sum of digits: 15\n",
      "Number: 385, Sum of digits: 16\n",
      "Number: 386, Sum of digits: 17\n",
      "Number: 387, Sum of digits: 18\n",
      "Number: 388, Sum of digits: 19\n",
      "Number: 389, Sum of digits: 20\n",
      "Number: 390, Sum of digits: 12\n",
      "Number: 391, Sum of digits: 13\n",
      "Number: 392, Sum of digits: 14\n",
      "Number: 393, Sum of digits: 15\n",
      "Number: 394, Sum of digits: 16\n",
      "Number: 395, Sum of digits: 17\n",
      "Number: 396, Sum of digits: 18\n",
      "Number: 397, Sum of digits: 19\n",
      "Number: 398, Sum of digits: 20\n",
      "Number: 399, Sum of digits: 21\n",
      "Number: 400, Sum of digits: 4\n",
      "Number: 401, Sum of digits: 5\n",
      "Number: 402, Sum of digits: 6\n",
      "Number: 403, Sum of digits: 7\n",
      "Number: 404, Sum of digits: 8\n",
      "Number: 405, Sum of digits: 9\n",
      "Number: 406, Sum of digits: 10\n",
      "Number: 407, Sum of digits: 11\n",
      "Number: 408, Sum of digits: 12\n",
      "Number: 409, Sum of digits: 13\n",
      "Number: 410, Sum of digits: 5\n",
      "Number: 411, Sum of digits: 6\n",
      "Number: 412, Sum of digits: 7\n",
      "Number: 413, Sum of digits: 8\n",
      "Number: 414, Sum of digits: 9\n",
      "Number: 415, Sum of digits: 10\n",
      "Number: 416, Sum of digits: 11\n",
      "Number: 417, Sum of digits: 12\n",
      "Number: 418, Sum of digits: 13\n",
      "Number: 419, Sum of digits: 14\n",
      "Number: 420, Sum of digits: 6\n",
      "Number: 421, Sum of digits: 7\n",
      "Number: 422, Sum of digits: 8\n",
      "Number: 423, Sum of digits: 9\n",
      "Number: 424, Sum of digits: 10\n",
      "Number: 425, Sum of digits: 11\n",
      "Number: 426, Sum of digits: 12\n",
      "Number: 427, Sum of digits: 13\n",
      "Number: 428, Sum of digits: 14\n",
      "Number: 429, Sum of digits: 15\n",
      "Number: 430, Sum of digits: 7\n",
      "Number: 431, Sum of digits: 8\n",
      "Number: 432, Sum of digits: 9\n",
      "Number: 433, Sum of digits: 10\n",
      "Number: 434, Sum of digits: 11\n",
      "Number: 435, Sum of digits: 12\n",
      "Number: 436, Sum of digits: 13\n",
      "Number: 437, Sum of digits: 14\n",
      "Number: 438, Sum of digits: 15\n",
      "Number: 439, Sum of digits: 16\n",
      "Number: 440, Sum of digits: 8\n",
      "Number: 441, Sum of digits: 9\n",
      "Number: 442, Sum of digits: 10\n",
      "Number: 443, Sum of digits: 11\n",
      "Number: 444, Sum of digits: 12\n",
      "Number: 445, Sum of digits: 13\n",
      "Number: 446, Sum of digits: 14\n",
      "Number: 447, Sum of digits: 15\n",
      "Number: 448, Sum of digits: 16\n",
      "Number: 449, Sum of digits: 17\n",
      "Number: 450, Sum of digits: 9\n",
      "Number: 451, Sum of digits: 10\n",
      "Number: 452, Sum of digits: 11\n",
      "Number: 453, Sum of digits: 12\n",
      "Number: 454, Sum of digits: 13\n",
      "Number: 455, Sum of digits: 14\n",
      "Number: 456, Sum of digits: 15\n",
      "Number: 457, Sum of digits: 16\n",
      "Number: 458, Sum of digits: 17\n",
      "Number: 459, Sum of digits: 18\n",
      "Number: 460, Sum of digits: 10\n",
      "Number: 461, Sum of digits: 11\n",
      "Number: 462, Sum of digits: 12\n",
      "Number: 463, Sum of digits: 13\n",
      "Number: 464, Sum of digits: 14\n",
      "Number: 465, Sum of digits: 15\n",
      "Number: 466, Sum of digits: 16\n",
      "Number: 467, Sum of digits: 17\n",
      "Number: 468, Sum of digits: 18\n",
      "Number: 469, Sum of digits: 19\n",
      "Number: 470, Sum of digits: 11\n",
      "Number: 471, Sum of digits: 12\n",
      "Number: 472, Sum of digits: 13\n",
      "Number: 473, Sum of digits: 14\n",
      "Number: 474, Sum of digits: 15\n",
      "Number: 475, Sum of digits: 16\n",
      "Number: 476, Sum of digits: 17\n",
      "Number: 477, Sum of digits: 18\n",
      "Number: 478, Sum of digits: 19\n",
      "Number: 479, Sum of digits: 20\n",
      "Number: 480, Sum of digits: 12\n",
      "Number: 481, Sum of digits: 13\n",
      "Number: 482, Sum of digits: 14\n",
      "Number: 483, Sum of digits: 15\n",
      "Number: 484, Sum of digits: 16\n",
      "Number: 485, Sum of digits: 17\n",
      "Number: 486, Sum of digits: 18\n",
      "Number: 487, Sum of digits: 19\n",
      "Number: 488, Sum of digits: 20\n",
      "Number: 489, Sum of digits: 21\n",
      "Number: 490, Sum of digits: 13\n",
      "Number: 491, Sum of digits: 14\n",
      "Number: 492, Sum of digits: 15\n",
      "Number: 493, Sum of digits: 16\n",
      "Number: 494, Sum of digits: 17\n",
      "Number: 495, Sum of digits: 18\n",
      "Number: 496, Sum of digits: 19\n",
      "Number: 497, Sum of digits: 20\n",
      "Number: 498, Sum of digits: 21\n",
      "Number: 499, Sum of digits: 22\n",
      "Number: 500, Sum of digits: 5\n",
      "Number: 501, Sum of digits: 6\n",
      "Number: 502, Sum of digits: 7\n",
      "Number: 503, Sum of digits: 8\n",
      "Number: 504, Sum of digits: 9\n",
      "Number: 505, Sum of digits: 10\n",
      "Number: 506, Sum of digits: 11\n",
      "Number: 507, Sum of digits: 12\n",
      "Number: 508, Sum of digits: 13\n",
      "Number: 509, Sum of digits: 14\n",
      "Number: 510, Sum of digits: 6\n",
      "Number: 511, Sum of digits: 7\n",
      "Number: 512, Sum of digits: 8\n",
      "Number: 513, Sum of digits: 9\n",
      "Number: 514, Sum of digits: 10\n",
      "Number: 515, Sum of digits: 11\n",
      "Number: 516, Sum of digits: 12\n",
      "Number: 517, Sum of digits: 13\n",
      "Number: 518, Sum of digits: 14\n",
      "Number: 519, Sum of digits: 15\n",
      "Number: 520, Sum of digits: 7\n",
      "Number: 521, Sum of digits: 8\n",
      "Number: 522, Sum of digits: 9\n",
      "Number: 523, Sum of digits: 10\n",
      "Number: 524, Sum of digits: 11\n",
      "Number: 525, Sum of digits: 12\n",
      "Number: 526, Sum of digits: 13\n",
      "Number: 527, Sum of digits: 14\n",
      "Number: 528, Sum of digits: 15\n",
      "Number: 529, Sum of digits: 16\n",
      "Number: 530, Sum of digits: 8\n",
      "Number: 531, Sum of digits: 9\n",
      "Number: 532, Sum of digits: 10\n",
      "Number: 533, Sum of digits: 11\n",
      "Number: 534, Sum of digits: 12\n",
      "Number: 535, Sum of digits: 13\n",
      "Number: 536, Sum of digits: 14\n",
      "Number: 537, Sum of digits: 15\n",
      "Number: 538, Sum of digits: 16\n",
      "Number: 539, Sum of digits: 17\n",
      "Number: 540, Sum of digits: 9\n",
      "Number: 541, Sum of digits: 10\n",
      "Number: 542, Sum of digits: 11\n",
      "Number: 543, Sum of digits: 12\n",
      "Number: 544, Sum of digits: 13\n",
      "Number: 545, Sum of digits: 14\n",
      "Number: 546, Sum of digits: 15\n",
      "Number: 547, Sum of digits: 16\n",
      "Number: 548, Sum of digits: 17\n",
      "Number: 549, Sum of digits: 18\n",
      "Number: 550, Sum of digits: 10\n",
      "Number: 551, Sum of digits: 11\n",
      "Number: 552, Sum of digits: 12\n",
      "Number: 553, Sum of digits: 13\n",
      "Number: 554, Sum of digits: 14\n",
      "Number: 555, Sum of digits: 15\n",
      "Number: 556, Sum of digits: 16\n",
      "Number: 557, Sum of digits: 17\n",
      "Number: 558, Sum of digits: 18\n",
      "Number: 559, Sum of digits: 19\n",
      "Number: 560, Sum of digits: 11\n",
      "Number: 561, Sum of digits: 12\n",
      "Number: 562, Sum of digits: 13\n",
      "Number: 563, Sum of digits: 14\n",
      "Number: 564, Sum of digits: 15\n",
      "Number: 565, Sum of digits: 16\n",
      "Number: 566, Sum of digits: 17\n",
      "Number: 567, Sum of digits: 18\n",
      "Number: 568, Sum of digits: 19\n",
      "Number: 569, Sum of digits: 20\n",
      "Number: 570, Sum of digits: 12\n",
      "Number: 571, Sum of digits: 13\n",
      "Number: 572, Sum of digits: 14\n",
      "Number: 573, Sum of digits: 15\n",
      "Number: 574, Sum of digits: 16\n",
      "Number: 575, Sum of digits: 17\n",
      "Number: 576, Sum of digits: 18\n",
      "Number: 577, Sum of digits: 19\n",
      "Number: 578, Sum of digits: 20\n",
      "Number: 579, Sum of digits: 21\n",
      "Number: 580, Sum of digits: 13\n",
      "Number: 581, Sum of digits: 14\n",
      "Number: 582, Sum of digits: 15\n",
      "Number: 583, Sum of digits: 16\n",
      "Number: 584, Sum of digits: 17\n",
      "Number: 585, Sum of digits: 18\n",
      "Number: 586, Sum of digits: 19\n",
      "Number: 587, Sum of digits: 20\n",
      "Number: 588, Sum of digits: 21\n",
      "Number: 589, Sum of digits: 22\n",
      "Number: 590, Sum of digits: 14\n",
      "Number: 591, Sum of digits: 15\n",
      "Number: 592, Sum of digits: 16\n",
      "Number: 593, Sum of digits: 17\n",
      "Number: 594, Sum of digits: 18\n",
      "Number: 595, Sum of digits: 19\n",
      "Number: 596, Sum of digits: 20\n",
      "Number: 597, Sum of digits: 21\n",
      "Number: 598, Sum of digits: 22\n",
      "Number: 599, Sum of digits: 23\n",
      "Number: 600, Sum of digits: 6\n",
      "Number: 601, Sum of digits: 7\n",
      "Number: 602, Sum of digits: 8\n",
      "Number: 603, Sum of digits: 9\n",
      "Number: 604, Sum of digits: 10\n",
      "Number: 605, Sum of digits: 11\n",
      "Number: 606, Sum of digits: 12\n",
      "Number: 607, Sum of digits: 13\n",
      "Number: 608, Sum of digits: 14\n",
      "Number: 609, Sum of digits: 15\n",
      "Number: 610, Sum of digits: 7\n",
      "Number: 611, Sum of digits: 8\n",
      "Number: 612, Sum of digits: 9\n",
      "Number: 613, Sum of digits: 10\n",
      "Number: 614, Sum of digits: 11\n",
      "Number: 615, Sum of digits: 12\n",
      "Number: 616, Sum of digits: 13\n",
      "Number: 617, Sum of digits: 14\n",
      "Number: 618, Sum of digits: 15\n",
      "Number: 619, Sum of digits: 16\n",
      "Number: 620, Sum of digits: 8\n",
      "Number: 621, Sum of digits: 9\n",
      "Number: 622, Sum of digits: 10\n",
      "Number: 623, Sum of digits: 11\n",
      "Number: 624, Sum of digits: 12\n",
      "Number: 625, Sum of digits: 13\n",
      "Number: 626, Sum of digits: 14\n",
      "Number: 627, Sum of digits: 15\n",
      "Number: 628, Sum of digits: 16\n",
      "Number: 629, Sum of digits: 17\n",
      "Number: 630, Sum of digits: 9\n",
      "Number: 631, Sum of digits: 10\n",
      "Number: 632, Sum of digits: 11\n",
      "Number: 633, Sum of digits: 12\n",
      "Number: 634, Sum of digits: 13\n",
      "Number: 635, Sum of digits: 14\n",
      "Number: 636, Sum of digits: 15\n",
      "Number: 637, Sum of digits: 16\n",
      "Number: 638, Sum of digits: 17\n",
      "Number: 639, Sum of digits: 18\n",
      "Number: 640, Sum of digits: 10\n",
      "Number: 641, Sum of digits: 11\n",
      "Number: 642, Sum of digits: 12\n",
      "Number: 643, Sum of digits: 13\n",
      "Number: 644, Sum of digits: 14\n",
      "Number: 645, Sum of digits: 15\n",
      "Number: 646, Sum of digits: 16\n",
      "Number: 647, Sum of digits: 17\n",
      "Number: 648, Sum of digits: 18\n",
      "Number: 649, Sum of digits: 19\n",
      "Number: 650, Sum of digits: 11\n",
      "Number: 651, Sum of digits: 12\n",
      "Number: 652, Sum of digits: 13\n",
      "Number: 653, Sum of digits: 14\n",
      "Number: 654, Sum of digits: 15\n",
      "Number: 655, Sum of digits: 16\n",
      "Number: 656, Sum of digits: 17\n",
      "Number: 657, Sum of digits: 18\n",
      "Number: 658, Sum of digits: 19\n",
      "Number: 659, Sum of digits: 20\n",
      "Number: 660, Sum of digits: 12\n",
      "Number: 661, Sum of digits: 13\n",
      "Number: 662, Sum of digits: 14\n",
      "Number: 663, Sum of digits: 15\n",
      "Number: 664, Sum of digits: 16\n",
      "Number: 665, Sum of digits: 17\n",
      "Number: 666, Sum of digits: 18\n",
      "Number: 667, Sum of digits: 19\n",
      "Number: 668, Sum of digits: 20\n",
      "Number: 669, Sum of digits: 21\n",
      "Number: 670, Sum of digits: 13\n",
      "Number: 671, Sum of digits: 14\n",
      "Number: 672, Sum of digits: 15\n",
      "Number: 673, Sum of digits: 16\n",
      "Number: 674, Sum of digits: 17\n",
      "Number: 675, Sum of digits: 18\n",
      "Number: 676, Sum of digits: 19\n",
      "Number: 677, Sum of digits: 20\n",
      "Number: 678, Sum of digits: 21\n",
      "Number: 679, Sum of digits: 22\n",
      "Number: 680, Sum of digits: 14\n",
      "Number: 681, Sum of digits: 15\n",
      "Number: 682, Sum of digits: 16\n",
      "Number: 683, Sum of digits: 17\n",
      "Number: 684, Sum of digits: 18\n",
      "Number: 685, Sum of digits: 19\n",
      "Number: 686, Sum of digits: 20\n",
      "Number: 687, Sum of digits: 21\n",
      "Number: 688, Sum of digits: 22\n",
      "Number: 689, Sum of digits: 23\n",
      "Number: 690, Sum of digits: 15\n",
      "Number: 691, Sum of digits: 16\n",
      "Number: 692, Sum of digits: 17\n",
      "Number: 693, Sum of digits: 18\n",
      "Number: 694, Sum of digits: 19\n",
      "Number: 695, Sum of digits: 20\n",
      "Number: 696, Sum of digits: 21\n",
      "Number: 697, Sum of digits: 22\n",
      "Number: 698, Sum of digits: 23\n",
      "Number: 699, Sum of digits: 24\n",
      "Number: 700, Sum of digits: 7\n",
      "Number: 701, Sum of digits: 8\n",
      "Number: 702, Sum of digits: 9\n",
      "Number: 703, Sum of digits: 10\n",
      "Number: 704, Sum of digits: 11\n",
      "Number: 705, Sum of digits: 12\n",
      "Number: 706, Sum of digits: 13\n",
      "Number: 707, Sum of digits: 14\n",
      "Number: 708, Sum of digits: 15\n",
      "Number: 709, Sum of digits: 16\n",
      "Number: 710, Sum of digits: 8\n",
      "Number: 711, Sum of digits: 9\n",
      "Number: 712, Sum of digits: 10\n",
      "Number: 713, Sum of digits: 11\n",
      "Number: 714, Sum of digits: 12\n",
      "Number: 715, Sum of digits: 13\n",
      "Number: 716, Sum of digits: 14\n",
      "Number: 717, Sum of digits: 15\n",
      "Number: 718, Sum of digits: 16\n",
      "Number: 719, Sum of digits: 17\n",
      "Number: 720, Sum of digits: 9\n",
      "Number: 721, Sum of digits: 10\n",
      "Number: 722, Sum of digits: 11\n",
      "Number: 723, Sum of digits: 12\n",
      "Number: 724, Sum of digits: 13\n",
      "Number: 725, Sum of digits: 14\n",
      "Number: 726, Sum of digits: 15\n",
      "Number: 727, Sum of digits: 16\n",
      "Number: 728, Sum of digits: 17\n",
      "Number: 729, Sum of digits: 18\n",
      "Number: 730, Sum of digits: 10\n",
      "Number: 731, Sum of digits: 11\n",
      "Number: 732, Sum of digits: 12\n",
      "Number: 733, Sum of digits: 13\n",
      "Number: 734, Sum of digits: 14\n",
      "Number: 735, Sum of digits: 15\n",
      "Number: 736, Sum of digits: 16\n",
      "Number: 737, Sum of digits: 17\n",
      "Number: 738, Sum of digits: 18\n",
      "Number: 739, Sum of digits: 19\n",
      "Number: 740, Sum of digits: 11\n",
      "Number: 741, Sum of digits: 12\n",
      "Number: 742, Sum of digits: 13\n",
      "Number: 743, Sum of digits: 14\n",
      "Number: 744, Sum of digits: 15\n",
      "Number: 745, Sum of digits: 16\n",
      "Number: 746, Sum of digits: 17\n",
      "Number: 747, Sum of digits: 18\n",
      "Number: 748, Sum of digits: 19\n",
      "Number: 749, Sum of digits: 20\n",
      "Number: 750, Sum of digits: 12\n",
      "Number: 751, Sum of digits: 13\n",
      "Number: 752, Sum of digits: 14\n",
      "Number: 753, Sum of digits: 15\n",
      "Number: 754, Sum of digits: 16\n",
      "Number: 755, Sum of digits: 17\n",
      "Number: 756, Sum of digits: 18\n",
      "Number: 757, Sum of digits: 19\n",
      "Number: 758, Sum of digits: 20\n",
      "Number: 759, Sum of digits: 21\n",
      "Number: 760, Sum of digits: 13\n",
      "Number: 761, Sum of digits: 14\n",
      "Number: 762, Sum of digits: 15\n",
      "Number: 763, Sum of digits: 16\n",
      "Number: 764, Sum of digits: 17\n",
      "Number: 765, Sum of digits: 18\n",
      "Number: 766, Sum of digits: 19\n",
      "Number: 767, Sum of digits: 20\n",
      "Number: 768, Sum of digits: 21\n",
      "Number: 769, Sum of digits: 22\n",
      "Number: 770, Sum of digits: 14\n",
      "Number: 771, Sum of digits: 15\n",
      "Number: 772, Sum of digits: 16\n",
      "Number: 773, Sum of digits: 17\n",
      "Number: 774, Sum of digits: 18\n",
      "Number: 775, Sum of digits: 19\n",
      "Number: 776, Sum of digits: 20\n",
      "Number: 777, Sum of digits: 21\n",
      "Number: 778, Sum of digits: 22\n",
      "Number: 779, Sum of digits: 23\n",
      "Number: 780, Sum of digits: 15\n",
      "Number: 781, Sum of digits: 16\n",
      "Number: 782, Sum of digits: 17\n",
      "Number: 783, Sum of digits: 18\n",
      "Number: 784, Sum of digits: 19\n",
      "Number: 785, Sum of digits: 20\n",
      "Number: 786, Sum of digits: 21\n",
      "Number: 787, Sum of digits: 22\n",
      "Number: 788, Sum of digits: 23\n",
      "Number: 789, Sum of digits: 24\n",
      "Number: 790, Sum of digits: 16\n",
      "Number: 791, Sum of digits: 17\n",
      "Number: 792, Sum of digits: 18\n",
      "Number: 793, Sum of digits: 19\n",
      "Number: 794, Sum of digits: 20\n",
      "Number: 795, Sum of digits: 21\n",
      "Number: 796, Sum of digits: 22\n",
      "Number: 797, Sum of digits: 23\n",
      "Number: 798, Sum of digits: 24\n",
      "Number: 799, Sum of digits: 25\n",
      "Number: 800, Sum of digits: 8\n",
      "Number: 801, Sum of digits: 9\n",
      "Number: 802, Sum of digits: 10\n",
      "Number: 803, Sum of digits: 11\n",
      "Number: 804, Sum of digits: 12\n",
      "Number: 805, Sum of digits: 13\n",
      "Number: 806, Sum of digits: 14\n",
      "Number: 807, Sum of digits: 15\n",
      "Number: 808, Sum of digits: 16\n",
      "Number: 809, Sum of digits: 17\n",
      "Number: 810, Sum of digits: 9\n",
      "Number: 811, Sum of digits: 10\n",
      "Number: 812, Sum of digits: 11\n",
      "Number: 813, Sum of digits: 12\n",
      "Number: 814, Sum of digits: 13\n",
      "Number: 815, Sum of digits: 14\n",
      "Number: 816, Sum of digits: 15\n",
      "Number: 817, Sum of digits: 16\n",
      "Number: 818, Sum of digits: 17\n",
      "Number: 819, Sum of digits: 18\n",
      "Number: 820, Sum of digits: 10\n",
      "Number: 821, Sum of digits: 11\n",
      "Number: 822, Sum of digits: 12\n",
      "Number: 823, Sum of digits: 13\n",
      "Number: 824, Sum of digits: 14\n",
      "Number: 825, Sum of digits: 15\n",
      "Number: 826, Sum of digits: 16\n",
      "Number: 827, Sum of digits: 17\n",
      "Number: 828, Sum of digits: 18\n",
      "Number: 829, Sum of digits: 19\n",
      "Number: 830, Sum of digits: 11\n",
      "Number: 831, Sum of digits: 12\n",
      "Number: 832, Sum of digits: 13\n",
      "Number: 833, Sum of digits: 14\n",
      "Number: 834, Sum of digits: 15\n",
      "Number: 835, Sum of digits: 16\n",
      "Number: 836, Sum of digits: 17\n",
      "Number: 837, Sum of digits: 18\n",
      "Number: 838, Sum of digits: 19\n",
      "Number: 839, Sum of digits: 20\n",
      "Number: 840, Sum of digits: 12\n",
      "Number: 841, Sum of digits: 13\n",
      "Number: 842, Sum of digits: 14\n",
      "Number: 843, Sum of digits: 15\n",
      "Number: 844, Sum of digits: 16\n",
      "Number: 845, Sum of digits: 17\n",
      "Number: 846, Sum of digits: 18\n",
      "Number: 847, Sum of digits: 19\n",
      "Number: 848, Sum of digits: 20\n",
      "Number: 849, Sum of digits: 21\n",
      "Number: 850, Sum of digits: 13\n",
      "Number: 851, Sum of digits: 14\n",
      "Number: 852, Sum of digits: 15\n",
      "Number: 853, Sum of digits: 16\n",
      "Number: 854, Sum of digits: 17\n",
      "Number: 855, Sum of digits: 18\n",
      "Number: 856, Sum of digits: 19\n",
      "Number: 857, Sum of digits: 20\n",
      "Number: 858, Sum of digits: 21\n",
      "Number: 859, Sum of digits: 22\n",
      "Number: 860, Sum of digits: 14\n",
      "Number: 861, Sum of digits: 15\n",
      "Number: 862, Sum of digits: 16\n",
      "Number: 863, Sum of digits: 17\n",
      "Number: 864, Sum of digits: 18\n",
      "Number: 865, Sum of digits: 19\n",
      "Number: 866, Sum of digits: 20\n",
      "Number: 867, Sum of digits: 21\n",
      "Number: 868, Sum of digits: 22\n",
      "Number: 869, Sum of digits: 23\n",
      "Number: 870, Sum of digits: 15\n",
      "Number: 871, Sum of digits: 16\n",
      "Number: 872, Sum of digits: 17\n",
      "Number: 873, Sum of digits: 18\n",
      "Number: 874, Sum of digits: 19\n",
      "Number: 875, Sum of digits: 20\n",
      "Number: 876, Sum of digits: 21\n",
      "Number: 877, Sum of digits: 22\n",
      "Number: 878, Sum of digits: 23\n",
      "Number: 879, Sum of digits: 24\n",
      "Number: 880, Sum of digits: 16\n",
      "Number: 881, Sum of digits: 17\n",
      "Number: 882, Sum of digits: 18\n",
      "Number: 883, Sum of digits: 19\n",
      "Number: 884, Sum of digits: 20\n",
      "Number: 885, Sum of digits: 21\n",
      "Number: 886, Sum of digits: 22\n",
      "Number: 887, Sum of digits: 23\n",
      "Number: 888, Sum of digits: 24\n",
      "Number: 889, Sum of digits: 25\n",
      "Number: 890, Sum of digits: 17\n",
      "Number: 891, Sum of digits: 18\n",
      "Number: 892, Sum of digits: 19\n",
      "Number: 893, Sum of digits: 20\n",
      "Number: 894, Sum of digits: 21\n",
      "Number: 895, Sum of digits: 22\n",
      "Number: 896, Sum of digits: 23\n",
      "Number: 897, Sum of digits: 24\n",
      "Number: 898, Sum of digits: 25\n",
      "Number: 899, Sum of digits: 26\n",
      "Number: 900, Sum of digits: 9\n",
      "Number: 901, Sum of digits: 10\n",
      "Number: 902, Sum of digits: 11\n",
      "Number: 903, Sum of digits: 12\n",
      "Number: 904, Sum of digits: 13\n",
      "Number: 905, Sum of digits: 14\n",
      "Number: 906, Sum of digits: 15\n",
      "Number: 907, Sum of digits: 16\n",
      "Number: 908, Sum of digits: 17\n",
      "Number: 909, Sum of digits: 18\n",
      "Number: 910, Sum of digits: 10\n",
      "Number: 911, Sum of digits: 11\n",
      "Number: 912, Sum of digits: 12\n",
      "Number: 913, Sum of digits: 13\n",
      "Number: 914, Sum of digits: 14\n",
      "Number: 915, Sum of digits: 15\n",
      "Number: 916, Sum of digits: 16\n",
      "Number: 917, Sum of digits: 17\n",
      "Number: 918, Sum of digits: 18\n",
      "Number: 919, Sum of digits: 19\n",
      "Number: 920, Sum of digits: 11\n",
      "Number: 921, Sum of digits: 12\n",
      "Number: 922, Sum of digits: 13\n",
      "Number: 923, Sum of digits: 14\n",
      "Number: 924, Sum of digits: 15\n",
      "Number: 925, Sum of digits: 16\n",
      "Number: 926, Sum of digits: 17\n",
      "Number: 927, Sum of digits: 18\n",
      "Number: 928, Sum of digits: 19\n",
      "Number: 929, Sum of digits: 20\n",
      "Number: 930, Sum of digits: 12\n",
      "Number: 931, Sum of digits: 13\n",
      "Number: 932, Sum of digits: 14\n",
      "Number: 933, Sum of digits: 15\n",
      "Number: 934, Sum of digits: 16\n",
      "Number: 935, Sum of digits: 17\n",
      "Number: 936, Sum of digits: 18\n",
      "Number: 937, Sum of digits: 19\n",
      "Number: 938, Sum of digits: 20\n",
      "Number: 939, Sum of digits: 21\n",
      "Number: 940, Sum of digits: 13\n",
      "Number: 941, Sum of digits: 14\n",
      "Number: 942, Sum of digits: 15\n",
      "Number: 943, Sum of digits: 16\n",
      "Number: 944, Sum of digits: 17\n",
      "Number: 945, Sum of digits: 18\n",
      "Number: 946, Sum of digits: 19\n",
      "Number: 947, Sum of digits: 20\n",
      "Number: 948, Sum of digits: 21\n",
      "Number: 949, Sum of digits: 22\n",
      "Number: 950, Sum of digits: 14\n",
      "Number: 951, Sum of digits: 15\n",
      "Number: 952, Sum of digits: 16\n",
      "Number: 953, Sum of digits: 17\n",
      "Number: 954, Sum of digits: 18\n",
      "Number: 955, Sum of digits: 19\n",
      "Number: 956, Sum of digits: 20\n",
      "Number: 957, Sum of digits: 21\n",
      "Number: 958, Sum of digits: 22\n",
      "Number: 959, Sum of digits: 23\n",
      "Number: 960, Sum of digits: 15\n",
      "Number: 961, Sum of digits: 16\n",
      "Number: 962, Sum of digits: 17\n",
      "Number: 963, Sum of digits: 18\n",
      "Number: 964, Sum of digits: 19\n",
      "Number: 965, Sum of digits: 20\n",
      "Number: 966, Sum of digits: 21\n",
      "Number: 967, Sum of digits: 22\n",
      "Number: 968, Sum of digits: 23\n",
      "Number: 969, Sum of digits: 24\n",
      "Number: 970, Sum of digits: 16\n",
      "Number: 971, Sum of digits: 17\n",
      "Number: 972, Sum of digits: 18\n",
      "Number: 973, Sum of digits: 19\n",
      "Number: 974, Sum of digits: 20\n",
      "Number: 975, Sum of digits: 21\n",
      "Number: 976, Sum of digits: 22\n",
      "Number: 977, Sum of digits: 23\n",
      "Number: 978, Sum of digits: 24\n",
      "Number: 979, Sum of digits: 25\n",
      "Number: 980, Sum of digits: 17\n",
      "Number: 981, Sum of digits: 18\n",
      "Number: 982, Sum of digits: 19\n",
      "Number: 983, Sum of digits: 20\n",
      "Number: 984, Sum of digits: 21\n",
      "Number: 985, Sum of digits: 22\n",
      "Number: 986, Sum of digits: 23\n",
      "Number: 987, Sum of digits: 24\n",
      "Number: 988, Sum of digits: 25\n",
      "Number: 989, Sum of digits: 26\n",
      "Number: 990, Sum of digits: 18\n",
      "Number: 991, Sum of digits: 19\n",
      "Number: 992, Sum of digits: 20\n",
      "Number: 993, Sum of digits: 21\n",
      "Number: 994, Sum of digits: 22\n",
      "Number: 995, Sum of digits: 23\n",
      "Number: 996, Sum of digits: 24\n",
      "Number: 997, Sum of digits: 25\n",
      "Number: 998, Sum of digits: 26\n",
      "Number: 999, Sum of digits: 27\n",
      "Number: 1000, Sum of digits: 1\n"
     ]
    }
   ],
   "source": [
    "digit_sums = [sum(int(digit) for digit in str(num)) for num in range(1, 1001)]\n",
    "\n",
    "# Display the result\n",
    "for num, digit_sum in zip(range(1, 1001), digit_sums):\n",
    "    print(f\"Number: {num}, Sum of digits: {digit_sum}\")"
   ]
  },
  {
   "cell_type": "markdown",
   "id": "28c03dd3",
   "metadata": {},
   "source": [
    "40. Write a program that generates a list of prime palindromic numbers using list comprehension"
   ]
  },
  {
   "cell_type": "code",
   "execution_count": 2,
   "id": "becdfe8b",
   "metadata": {},
   "outputs": [
    {
     "name": "stdout",
     "output_type": "stream",
     "text": [
      "Prime Palindromic Numbers up to 1000: [1, 2, 3, 5, 7, 11, 101, 131, 151, 181, 191, 313, 353, 373, 383, 727, 757, 787, 797, 919, 929]\n"
     ]
    }
   ],
   "source": [
    "prime_palindromes = [num for num in range(1, 1000) if all(num % i != 0 for i in range(2, int(num**0.5) + 1)) and str(num) == str(num)[::-1]]\n",
    "\n",
    "# Display the result\n",
    "print(\"Prime Palindromic Numbers up to 1000:\", prime_palindromes)"
   ]
  },
  {
   "cell_type": "code",
   "execution_count": null,
   "id": "0d4417c4",
   "metadata": {},
   "outputs": [],
   "source": []
  }
 ],
 "metadata": {
  "kernelspec": {
   "display_name": "Python 3 (ipykernel)",
   "language": "python",
   "name": "python3"
  },
  "language_info": {
   "codemirror_mode": {
    "name": "ipython",
    "version": 3
   },
   "file_extension": ".py",
   "mimetype": "text/x-python",
   "name": "python",
   "nbconvert_exporter": "python",
   "pygments_lexer": "ipython3",
   "version": "3.10.9"
  }
 },
 "nbformat": 4,
 "nbformat_minor": 5
}
